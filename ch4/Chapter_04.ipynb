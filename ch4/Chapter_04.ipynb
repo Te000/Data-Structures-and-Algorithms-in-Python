{
 "cells": [
  {
   "cell_type": "markdown",
   "metadata": {
    "pycharm": {
     "metadata": false
    }
   },
   "source": [
    "# Chapter 04: Recursion"
   ]
  },
  {
   "cell_type": "markdown",
   "metadata": {
    "pycharm": {
     "metadata": false
    }
   },
   "source": [
    "## Modules"
   ]
  },
  {
   "cell_type": "code",
   "execution_count": 1,
   "metadata": {
    "ExecuteTime": {
     "end_time": "2019-10-26T05:33:16.760906Z",
     "start_time": "2019-10-26T05:33:16.219469Z"
    },
    "pycharm": {
     "is_executing": false,
     "metadata": false,
     "name": "#%%\n"
    }
   },
   "outputs": [],
   "source": [
    "import numpy as np\n",
    "import matplotlib.pyplot as plt\n",
    "%matplotlib inline"
   ]
  },
  {
   "cell_type": "markdown",
   "metadata": {
    "pycharm": {
     "metadata": false
    }
   },
   "source": [
    "## Exercises\n",
    "### R-4.1\n",
    "Describe a recursive algorithm for finding the maximum element in a sequence $S$, of $n$ elements. What is your running time and space usage?"
   ]
  },
  {
   "cell_type": "markdown",
   "metadata": {
    "pycharm": {
     "metadata": false,
     "name": "#%% md\n"
    }
   },
   "source": [
    "#### Solution"
   ]
  },
  {
   "cell_type": "code",
   "execution_count": 2,
   "metadata": {
    "ExecuteTime": {
     "end_time": "2019-10-26T05:33:18.405891Z",
     "start_time": "2019-10-26T05:33:18.397683Z"
    },
    "pycharm": {
     "is_executing": false,
     "metadata": false,
     "name": "#%%\n"
    }
   },
   "outputs": [],
   "source": [
    "def max_recursive(seq, start):\n",
    "    \n",
    "    if len(seq) == 1: # base case\n",
    "        return seq[0]\n",
    "\n",
    "    if seq[start] <= seq[start + 1]: # Delete the minimum elements\n",
    "        del seq[start]\n",
    "    \n",
    "    elif seq[start] > seq[start + 1]: # Delete the minimum elements\n",
    "        del seq[start + 1]\n",
    "    else:\n",
    "        return KeyError()\n",
    "    \n",
    "    return max_recursive(seq, start)\n",
    "\n",
    "    "
   ]
  },
  {
   "cell_type": "code",
   "execution_count": 3,
   "metadata": {
    "ExecuteTime": {
     "end_time": "2019-10-26T05:33:19.314478Z",
     "start_time": "2019-10-26T05:33:19.264590Z"
    },
    "pycharm": {
     "is_executing": false,
     "metadata": false,
     "name": "#%%\n"
    }
   },
   "outputs": [
    {
     "name": "stdout",
     "output_type": "stream",
     "text": [
      "maximum of seq1 should be  8\n",
      "maximum of seq1 should be  97\n",
      "maximum of seq1 should be  999\n",
      "seq1:  8\n",
      "seq2:  97\n",
      "seq3:  999\n"
     ]
    }
   ],
   "source": [
    "seq1 = np.random.randint(0, 10, size=(10,)).tolist()\n",
    "print(\"maximum of seq1 should be \", max(seq1))\n",
    "seq2 = np.random.randint(0, 100, size=(100,)).tolist()\n",
    "print(\"maximum of seq1 should be \", max(seq2))\n",
    "seq3 = np.random.randint(0, 1000, size=(1000,)).tolist()\n",
    "print(\"maximum of seq1 should be \", max(seq3))\n",
    "\n",
    "print(\"seq1: \", max_recursive(seq1, 0))\n",
    "print(\"seq2: \", max_recursive(seq2, 0))\n",
    "print(\"seq3: \", max_recursive(seq3, 0))\n"
   ]
  },
  {
   "cell_type": "markdown",
   "metadata": {},
   "source": [
    "### R-4.2\n",
    "Draw the recursion trace for the computation of power(2,5), using the traditional function implemented in Code Fragment 4.11."
   ]
  },
  {
   "cell_type": "markdown",
   "metadata": {},
   "source": [
    "#### Solution"
   ]
  },
  {
   "cell_type": "code",
   "execution_count": 8,
   "metadata": {
    "ExecuteTime": {
     "end_time": "2019-10-26T05:40:56.311612Z",
     "start_time": "2019-10-26T05:40:56.306152Z"
    }
   },
   "outputs": [
    {
     "data": {
      "text/plain": [
       "'\\n0. power (2,5) --> 2*16 = 32\\n1. power (2,4) --> 2*8 = 16\\n2. power (2,3) --> 2*4 = 8\\n3. power (2,2) --> 2*2 = 4\\n4. power (2,1) --> 2*1 = 2\\n5. power (2,0) --> 1\\n'"
      ]
     },
     "execution_count": 8,
     "metadata": {},
     "output_type": "execute_result"
    }
   ],
   "source": [
    "def power(x,n):\n",
    "    \"\"\"Compute the value x^n for integer n.\"\"\"\n",
    "    if n==0:\n",
    "        return 1\n",
    "    else:\n",
    "        return x*power(x, n-1)\n",
    "    \n",
    "'''\n",
    "0. power (2,5) --> 2*16 = 32\n",
    "    1. power (2,4) --> 2*8 = 16\n",
    "        2. power (2,3) --> 2*4 = 8\n",
    "            3. power (2,2) --> 2*2 = 4\n",
    "                4. power (2,1) --> 2*1 = 2\n",
    "                    5. power (2,0) --> 1\n",
    "'''"
   ]
  },
  {
   "cell_type": "code",
   "execution_count": 7,
   "metadata": {
    "ExecuteTime": {
     "end_time": "2019-10-26T05:39:03.026084Z",
     "start_time": "2019-10-26T05:39:03.021677Z"
    }
   },
   "outputs": [
    {
     "data": {
      "text/plain": [
       "32"
      ]
     },
     "execution_count": 7,
     "metadata": {},
     "output_type": "execute_result"
    }
   ],
   "source": [
    "power(2,5)"
   ]
  },
  {
   "cell_type": "markdown",
   "metadata": {},
   "source": [
    "### R-4.3\n",
    "Draw the recursion trace for the computation of power(2,18), using the repeated squaring algorithm, as implemented in Code Fragment 4.12."
   ]
  },
  {
   "cell_type": "markdown",
   "metadata": {},
   "source": [
    "#### Solution"
   ]
  },
  {
   "cell_type": "code",
   "execution_count": 13,
   "metadata": {
    "ExecuteTime": {
     "end_time": "2019-10-26T05:43:42.746527Z",
     "start_time": "2019-10-26T05:43:42.742263Z"
    }
   },
   "outputs": [
    {
     "data": {
      "text/plain": [
       "4"
      ]
     },
     "execution_count": 13,
     "metadata": {},
     "output_type": "execute_result"
    }
   ],
   "source": [
    "9//2"
   ]
  },
  {
   "cell_type": "code",
   "execution_count": 14,
   "metadata": {
    "ExecuteTime": {
     "end_time": "2019-10-26T05:50:06.679405Z",
     "start_time": "2019-10-26T05:50:06.672137Z"
    }
   },
   "outputs": [
    {
     "data": {
      "text/plain": [
       "'\\n0. power (2,18) --> 512 * 512 = 262144\\n    1. power (2,9) * power (2,9) * 2 --> 16*16*2 = 512\\n        2.  power (2,4) * power (2,4) --> 4*4 = 16\\n              3. power (2,2) * power (2,2) --> 2*2 = 4\\n                    4. power (2,1) * power (2,1) * 2 = 2\\n                        5. power (2,0) * power (2,0) = 1\\n\\n'"
      ]
     },
     "execution_count": 14,
     "metadata": {},
     "output_type": "execute_result"
    }
   ],
   "source": [
    "def power(x, n):\n",
    "    \"\"\"Compute the value x^n for integer n.\"\"\"\n",
    "    if n==0:\n",
    "        return 1\n",
    "    else:\n",
    "        partial = power(x, n//2)\n",
    "        result = partial*partial # divide and conquer\n",
    "        if n%2 == 1:\n",
    "            result *= x\n",
    "        return result\n",
    "\n",
    "'''\n",
    "0. power (2,18) --> 512 * 512 = 262144\n",
    "    1. power (2,9) * power (2,9) * 2 --> 16*16*2 = 512\n",
    "        2.  power (2,4) * power (2,4) --> 4*4 = 16\n",
    "              3. power (2,2) * power (2,2) --> 2*2 = 4\n",
    "                    4. power (2,1) * power (2,1) * 2 = 2\n",
    "                        5. power (2,0) * power (2,0) = 1\n",
    "\n",
    "'''"
   ]
  },
  {
   "cell_type": "code",
   "execution_count": 10,
   "metadata": {
    "ExecuteTime": {
     "end_time": "2019-10-26T05:41:45.889762Z",
     "start_time": "2019-10-26T05:41:45.885359Z"
    }
   },
   "outputs": [
    {
     "data": {
      "text/plain": [
       "262144"
      ]
     },
     "execution_count": 10,
     "metadata": {},
     "output_type": "execute_result"
    }
   ],
   "source": [
    "power(2,18)"
   ]
  },
  {
   "cell_type": "markdown",
   "metadata": {},
   "source": [
    "### R-4.4\n",
    "Draw the recursion trace for the execution of function reverse(S, 0, 5) (Code Fragment 4.10) on S = [4, 3, 6, 2, 6]."
   ]
  },
  {
   "cell_type": "markdown",
   "metadata": {},
   "source": [
    "#### Solution"
   ]
  },
  {
   "cell_type": "code",
   "execution_count": 15,
   "metadata": {
    "ExecuteTime": {
     "end_time": "2019-10-26T05:50:55.190639Z",
     "start_time": "2019-10-26T05:50:55.186804Z"
    }
   },
   "outputs": [],
   "source": [
    "def reverse(S, start, stop):\n",
    "    '''Reverse elements in implicit slice S[start:stop].'''\n",
    "    if start < stop-1:\n",
    "        S[start], S[stop-1] = S[stop-1], S[start]\n",
    "        reverse(S, start+1, stop-1)\n",
    "\n",
    "'''\n",
    "1. [6,3,6,2,4]\n",
    "    2. [6,2,6,3,4]\n",
    "        3. [6,2,6,3,4]\n",
    "'''"
   ]
  },
  {
   "cell_type": "code",
   "execution_count": 18,
   "metadata": {
    "ExecuteTime": {
     "end_time": "2019-10-26T05:51:57.404790Z",
     "start_time": "2019-10-26T05:51:57.400046Z"
    }
   },
   "outputs": [
    {
     "data": {
      "text/plain": [
       "[6, 2, 6, 3, 4]"
      ]
     },
     "execution_count": 18,
     "metadata": {},
     "output_type": "execute_result"
    }
   ],
   "source": [
    "S = [4, 3, 6, 2, 6]\n",
    "reverse(S,0,5)\n",
    "S\n"
   ]
  },
  {
   "cell_type": "markdown",
   "metadata": {},
   "source": [
    "### R-4.5\n",
    "Draw the recursion trace for the execution of function PuzzleSolve(3,S,U) (Code Fragment 4.14), where S is empty and U = {a, b, c, d}."
   ]
  },
  {
   "cell_type": "markdown",
   "metadata": {},
   "source": [
    "#### Solution"
   ]
  },
  {
   "cell_type": "code",
   "execution_count": 20,
   "metadata": {
    "ExecuteTime": {
     "end_time": "2019-10-26T06:02:38.550123Z",
     "start_time": "2019-10-26T06:02:38.542838Z"
    }
   },
   "outputs": [],
   "source": [
    "def solves(S):\n",
    "    #Note, this is a random solution to the pseudoproblem\n",
    "    return S == ['d','b','c']\n",
    "\n",
    "\n",
    "def PuzzleSolver(k, S, U):\n",
    "    # Brute force puzzle solver that tests all permutations of string and try to hit solves(S) is True\n",
    "    for e in sorted(U).copy():\n",
    "        S.append(e)\n",
    "        U.remove(e)\n",
    "        if k==1:\n",
    "            print(S)\n",
    "            if solves(S):\n",
    "                print( f'Solution found: {S}')\n",
    "        else:\n",
    "            PuzzleSolver(k-1, S, U)\n",
    "        U.add(S.pop())  #removes the last item of an array\n",
    "        \n"
   ]
  },
  {
   "cell_type": "code",
   "execution_count": 23,
   "metadata": {
    "ExecuteTime": {
     "end_time": "2019-10-26T06:03:07.611882Z",
     "start_time": "2019-10-26T06:03:07.604209Z"
    }
   },
   "outputs": [
    {
     "name": "stdout",
     "output_type": "stream",
     "text": [
      "['a', 'b', 'c']\n",
      "['a', 'b', 'd']\n",
      "['a', 'c', 'b']\n",
      "['a', 'c', 'd']\n",
      "['a', 'd', 'b']\n",
      "['a', 'd', 'c']\n",
      "['b', 'a', 'c']\n",
      "['b', 'a', 'd']\n",
      "['b', 'c', 'a']\n",
      "['b', 'c', 'd']\n",
      "['b', 'd', 'a']\n",
      "['b', 'd', 'c']\n",
      "['c', 'a', 'b']\n",
      "['c', 'a', 'd']\n",
      "['c', 'b', 'a']\n",
      "['c', 'b', 'd']\n",
      "['c', 'd', 'a']\n",
      "['c', 'd', 'b']\n",
      "['d', 'a', 'b']\n",
      "['d', 'a', 'c']\n",
      "['d', 'b', 'a']\n",
      "['d', 'b', 'c']\n",
      "Solution found: ['d', 'b', 'c']\n",
      "['d', 'c', 'a']\n",
      "['d', 'c', 'b']\n"
     ]
    }
   ],
   "source": [
    "U = {'a', 'b', 'c', 'd'}\n",
    "S = []\n",
    "PuzzleSolver(3,S,U)"
   ]
  },
  {
   "cell_type": "markdown",
   "metadata": {
    "pycharm": {
     "metadata": false,
     "name": "#%% md\n"
    }
   },
   "source": [
    "### R-4.6\n",
    "Describe a recursive function for computing the $n^\\text{th}$ **Harmonic number** , $H_n = \\sum_{i=1}^n 1/i$"
   ]
  },
  {
   "cell_type": "markdown",
   "metadata": {
    "pycharm": {
     "metadata": false,
     "name": "#%% md\n"
    }
   },
   "source": [
    "#### Solution"
   ]
  },
  {
   "cell_type": "code",
   "execution_count": 24,
   "metadata": {
    "ExecuteTime": {
     "end_time": "2019-10-26T06:26:57.103842Z",
     "start_time": "2019-10-26T06:26:57.100039Z"
    },
    "pycharm": {
     "is_executing": false,
     "metadata": false,
     "name": "#%% \n"
    }
   },
   "outputs": [],
   "source": [
    "def get_harmonic(n):\n",
    "    # https://en.wikipedia.org/wiki/Harmonic_number\n",
    "    if n == 1:\n",
    "        return 1\n",
    "    return (1 / n) + get_harmonic(n-1)"
   ]
  },
  {
   "cell_type": "code",
   "execution_count": 72,
   "metadata": {
    "pycharm": {
     "is_executing": false,
     "metadata": false,
     "name": "#%%\n"
    }
   },
   "outputs": [
    {
     "data": {
      "image/png": "[encoded data removed]",
      "text/plain": [
       "<Figure size 432x288 with 1 Axes>"
      ]
     },
     "metadata": {
      "needs_background": "light"
     },
     "output_type": "display_data"
    }
   ],
   "source": [
    "harmonic_series = [get_harmonic(i) for i in range(1, 100)]\n",
    "plt.plot(harmonic_series)\n",
    "plt.grid()\n"
   ]
  },
  {
   "cell_type": "markdown",
   "metadata": {},
   "source": [
    "### R-4.7\n",
    "Describe a recursive function for converting a string of digits into the integer it represents. For example,   13531   represents the integer 13,531."
   ]
  },
  {
   "cell_type": "markdown",
   "metadata": {},
   "source": [
    "#### Solution"
   ]
  },
  {
   "cell_type": "code",
   "execution_count": 25,
   "metadata": {
    "ExecuteTime": {
     "end_time": "2019-10-26T06:30:29.115623Z",
     "start_time": "2019-10-26T06:30:29.112935Z"
    }
   },
   "outputs": [],
   "source": [
    "# To be solved"
   ]
  },
  {
   "cell_type": "markdown",
   "metadata": {},
   "source": [
    "### R-4.8\n",
    "Isabel has an interesting way of summing up the values in a sequence A of n integers, where n is a power of two. She creates a new sequence B of half the size of A and sets B[i] = A[2i]+A[2i+1], for i = 0,1,...,(n/2)−1. If B has size 1, then she outputs B[0]. Otherwise, she replaces A with B, and repeats the process. What is the running time of her algorithm?"
   ]
  },
  {
   "cell_type": "markdown",
   "metadata": {},
   "source": [
    "#### Solution"
   ]
  },
  {
   "cell_type": "code",
   "execution_count": 28,
   "metadata": {
    "ExecuteTime": {
     "end_time": "2019-10-26T06:38:14.024103Z",
     "start_time": "2019-10-26T06:38:14.011850Z"
    }
   },
   "outputs": [
    {
     "data": {
      "text/plain": [
       "36"
      ]
     },
     "execution_count": 28,
     "metadata": {},
     "output_type": "execute_result"
    }
   ],
   "source": [
    "import math\n",
    "def sum_is(A):\n",
    "    #len(A) must be power of 2 - check if it is an integer\n",
    "    assert math.log(len(A),2)%1 == 0, 'Your array must be a length that is a power of 2'\n",
    "    \n",
    "    if len(A) == 1:\n",
    "        return A[0]\n",
    "    else:\n",
    "        B = [None]*(len(A)//2)\n",
    "        for i in range(len(B)):\n",
    "            B[i] = A[2*i] + A[2*i-1] \n",
    "        return sum_is(B) \n",
    "    \n",
    "sum_is([1,2,3,4,5,6,7,8])\n",
    "\n",
    "#Run-time is O(lgn) as she halves the calculation each recursion, similar to a binary search"
   ]
  },
  {
   "cell_type": "markdown",
   "metadata": {},
   "source": [
    "### C-4.9\n",
    "Write a short recursive Python function that finds the minimum and maximum values in a sequence without using any loops."
   ]
  },
  {
   "cell_type": "markdown",
   "metadata": {},
   "source": [
    "#### Solution"
   ]
  },
  {
   "cell_type": "code",
   "execution_count": 29,
   "metadata": {
    "ExecuteTime": {
     "end_time": "2019-10-26T06:40:15.067214Z",
     "start_time": "2019-10-26T06:40:15.060373Z"
    }
   },
   "outputs": [
    {
     "name": "stdout",
     "output_type": "stream",
     "text": [
      "(1, 8)\n",
      "(-45, 774)\n",
      "(1, 8)\n"
     ]
    }
   ],
   "source": [
    "def min_max(S, index=0):\n",
    "    if index == len(S)-1: # Base Case: 1 element\n",
    "        return S[index], S[index]  # The current min and max values, which is set as the last element of the list\n",
    "    else:\n",
    "        min_c, max_c = min_max(S, index+1)\n",
    "        return min(S[index], min_c), max(S[index], max_c) # Compare current min and max with current index value\n",
    "    \n",
    "    \n",
    "print(min_max([1,2,3,4,5,6,7,8]))\n",
    "print(min_max([-45,2,774,5,6,7,8]))\n",
    "print(min_max([8,7,6,5,4,3,2,1]))"
   ]
  },
  {
   "cell_type": "markdown",
   "metadata": {},
   "source": [
    "### C-4.10\n",
    "Describe a recursive algorithm to compute the integer part of the base-two logarithm of n using only addition and integer division."
   ]
  },
  {
   "cell_type": "markdown",
   "metadata": {},
   "source": [
    "#### Solution"
   ]
  },
  {
   "cell_type": "code",
   "execution_count": 31,
   "metadata": {
    "ExecuteTime": {
     "end_time": "2019-10-26T06:53:28.863037Z",
     "start_time": "2019-10-26T06:53:28.855705Z"
    }
   },
   "outputs": [
    {
     "name": "stdout",
     "output_type": "stream",
     "text": [
      "the integer part of the base-two logarithm of 1 is 0\n",
      "the integer part of the base-two logarithm of 2 is 1\n",
      "the integer part of the base-two logarithm of 4 is 2\n",
      "the integer part of the base-two logarithm of 8 is 3\n",
      "the integer part of the base-two logarithm of 16 is 4\n",
      "the integer part of the base-two logarithm of 32 is 5\n",
      "the integer part of the base-two logarithm of 64 is 6\n",
      "the integer part of the base-two logarithm of 128 is 7\n",
      "the integer part of the base-two logarithm of 256 is 8\n",
      "the integer part of the base-two logarithm of 512 is 9\n"
     ]
    }
   ],
   "source": [
    "def log2_int(n):\n",
    "    if n <= 0:\n",
    "        raise ValueError('Input must be greater than 0')\n",
    "    elif 0 < n < 2:\n",
    "        return 0\n",
    "    else:\n",
    "        x = 1\n",
    "        x += log2_int(n/2) # log base 2 is to divide by 2 each time, and add 1 if division is successful\n",
    "        return x\n",
    "    \n",
    "for n in range(10):\n",
    "    print('the integer part of the base-two logarithm of {0} is {1}'\n",
    "            .format(2**n, log2_int(2**n)))"
   ]
  },
  {
   "cell_type": "markdown",
   "metadata": {},
   "source": [
    "### C-4.11\n",
    "Describe an efficient recursive function for solving the element uniqueness problem, which runs in time that is at most O(n^2) in the worst case without using sorting."
   ]
  },
  {
   "cell_type": "markdown",
   "metadata": {},
   "source": [
    "#### Solution"
   ]
  },
  {
   "cell_type": "code",
   "execution_count": 40,
   "metadata": {
    "ExecuteTime": {
     "end_time": "2019-10-26T07:01:23.891811Z",
     "start_time": "2019-10-26T07:01:23.885204Z"
    }
   },
   "outputs": [
    {
     "name": "stdout",
     "output_type": "stream",
     "text": [
      "True\n",
      "False\n",
      "True\n"
     ]
    }
   ],
   "source": [
    "elemFrequency = dict()\n",
    "\n",
    "def elem_unique(S, index=0):\n",
    "    if len(S) == index:\n",
    "        return True\n",
    "    elif S[index] not in elemFrequency:\n",
    "        elemFrequency[S[index]] = 1\n",
    "        indexNew = index + 1\n",
    "        flag = elem_unique(S,indexNew)\n",
    "        return flag\n",
    "    else:\n",
    "        return False\n",
    "    \n",
    "for S in [[1,2,3,4,5,6], \n",
    "          [3,4,5,2,3,4,6,7],\n",
    "          [234,654,32,543,652]\n",
    "         ]:\n",
    "    print(elem_unique(S))"
   ]
  },
  {
   "cell_type": "markdown",
   "metadata": {
    "ExecuteTime": {
     "end_time": "2019-10-25T13:40:54.054340Z",
     "start_time": "2019-10-25T13:40:54.048939Z"
    }
   },
   "source": [
    "### C-4.12\n",
    "Give a recursive algorithm to compute the product of two positive integers, m and n, using only addition and subtraction."
   ]
  },
  {
   "cell_type": "markdown",
   "metadata": {},
   "source": [
    "#### Solution"
   ]
  },
  {
   "cell_type": "code",
   "execution_count": 41,
   "metadata": {
    "ExecuteTime": {
     "end_time": "2019-10-26T07:04:53.681063Z",
     "start_time": "2019-10-26T07:04:53.675127Z"
    }
   },
   "outputs": [
    {
     "data": {
      "text/plain": [
       "8"
      ]
     },
     "execution_count": 41,
     "metadata": {},
     "output_type": "execute_result"
    }
   ],
   "source": [
    "def product(m, n):\n",
    "    sign = (n >= 0) # flag to see if positive\n",
    "    n = abs(n) # cast as absolute first\n",
    "    if n > 0:\n",
    "        result = m + product(m, n-1) # do usual addition\n",
    "    else:\n",
    "        result = 0 # base case\n",
    "    return result if sign else -result # change sign if n was negative\n",
    "\n",
    "product(4,2)"
   ]
  },
  {
   "cell_type": "markdown",
   "metadata": {},
   "source": [
    "### C-4.13\n",
    "In Section 4.2 we prove by induction that the number of lines printed by a call to draw interval(c) is 2^c − 1. Another interesting question is how many dashes are printed during that process. Prove by induction that the number of dashes printed by draw interval(c) is 2^(c+1) − c − 2."
   ]
  },
  {
   "cell_type": "markdown",
   "metadata": {},
   "source": [
    "#### Solution"
   ]
  },
  {
   "cell_type": "code",
   "execution_count": 42,
   "metadata": {
    "ExecuteTime": {
     "end_time": "2019-10-26T07:29:37.232084Z",
     "start_time": "2019-10-26T07:29:37.229521Z"
    }
   },
   "outputs": [],
   "source": [
    "# To be solved"
   ]
  },
  {
   "cell_type": "markdown",
   "metadata": {
    "pycharm": {}
   },
   "source": [
    "### C-4.14\n",
    "In the ***Towers of Hanoi*** puzzle, we are given a platform with three pegs, $a, b,$ and $c$, \n",
    "sticking out of it. On peg $a$ is a stack of $n$ disks, each larger than the next, so that the smallest is on the top and the largest is on the bottom. The puzzle is to move all the disk from peg $a$ to peg $c$, moving one disk at a time, so that we never place a larger disk on top of a smaller one. Describe a recursive algorithm for solving the Towers of Hanoi puzzle for arbitrary $n$."
   ]
  },
  {
   "cell_type": "markdown",
   "metadata": {
    "pycharm": {
     "metadata": false,
     "name": "#%% md\n"
    }
   },
   "source": [
    "#### Solution"
   ]
  },
  {
   "cell_type": "code",
   "execution_count": 76,
   "metadata": {
    "pycharm": {
     "is_executing": false,
     "metadata": false,
     "name": "#%%\n"
    }
   },
   "outputs": [],
   "source": [
    "def move_disk(from_peg, to_peg):\n",
    "    to_peg.append(from_peg.pop())\n",
    "    print(\"=============[Status]=============\")\n",
    "    print(\"[a]: \", a)\n",
    "    print(\"[b]: \", b)\n",
    "    print(\"[c]: \", c)\n",
    "\n",
    "def hanoi(n, from_peg, help_peg, to_peg):\n",
    "    if n == 1:\n",
    "        move_disk(from_peg, to_peg)\n",
    "    else:\n",
    "        hanoi(n-1, from_peg, to_peg, help_peg)\n",
    "        move_disk(from_peg, to_peg)\n",
    "        hanoi(n-1, help_peg, from_peg, to_peg)\n"
   ]
  },
  {
   "cell_type": "code",
   "execution_count": 77,
   "metadata": {
    "pycharm": {
     "is_executing": false
    }
   },
   "outputs": [
    {
     "name": "stdout",
     "output_type": "stream",
     "text": [
      "[a]:  [4, 3, 2, 1]\n",
      "[b]:  []\n",
      "[c]:  []\n"
     ]
    }
   ],
   "source": [
    "n = 4\n",
    "a = list(reversed(range(1,int(n)+1)))\n",
    "b = [];\n",
    "c = [];\n",
    "\n",
    "print(\"[a]: \", a)\n",
    "print(\"[b]: \", b)\n",
    "print(\"[c]: \", c)"
   ]
  },
  {
   "cell_type": "code",
   "execution_count": 78,
   "metadata": {
    "pycharm": {
     "is_executing": false
    },
    "scrolled": false
   },
   "outputs": [
    {
     "name": "stdout",
     "output_type": "stream",
     "text": [
      "=============[Status]=============\n",
      "[a]:  [4, 3, 2]\n",
      "[b]:  [1]\n",
      "[c]:  []\n",
      "=============[Status]=============\n",
      "[a]:  [4, 3]\n",
      "[b]:  [1]\n",
      "[c]:  [2]\n",
      "=============[Status]=============\n",
      "[a]:  [4, 3]\n",
      "[b]:  []\n",
      "[c]:  [2, 1]\n",
      "=============[Status]=============\n",
      "[a]:  [4]\n",
      "[b]:  [3]\n",
      "[c]:  [2, 1]\n",
      "=============[Status]=============\n",
      "[a]:  [4, 1]\n",
      "[b]:  [3]\n",
      "[c]:  [2]\n",
      "=============[Status]=============\n",
      "[a]:  [4, 1]\n",
      "[b]:  [3, 2]\n",
      "[c]:  []\n",
      "=============[Status]=============\n",
      "[a]:  [4]\n",
      "[b]:  [3, 2, 1]\n",
      "[c]:  []\n",
      "=============[Status]=============\n",
      "[a]:  []\n",
      "[b]:  [3, 2, 1]\n",
      "[c]:  [4]\n",
      "=============[Status]=============\n",
      "[a]:  []\n",
      "[b]:  [3, 2]\n",
      "[c]:  [4, 1]\n",
      "=============[Status]=============\n",
      "[a]:  [2]\n",
      "[b]:  [3]\n",
      "[c]:  [4, 1]\n",
      "=============[Status]=============\n",
      "[a]:  [2, 1]\n",
      "[b]:  [3]\n",
      "[c]:  [4]\n",
      "=============[Status]=============\n",
      "[a]:  [2, 1]\n",
      "[b]:  []\n",
      "[c]:  [4, 3]\n",
      "=============[Status]=============\n",
      "[a]:  [2]\n",
      "[b]:  [1]\n",
      "[c]:  [4, 3]\n",
      "=============[Status]=============\n",
      "[a]:  []\n",
      "[b]:  [1]\n",
      "[c]:  [4, 3, 2]\n",
      "=============[Status]=============\n",
      "[a]:  []\n",
      "[b]:  []\n",
      "[c]:  [4, 3, 2, 1]\n"
     ]
    }
   ],
   "source": [
    "hanoi(4, a, b, c)"
   ]
  },
  {
   "cell_type": "markdown",
   "metadata": {},
   "source": [
    "### C-4.15\n",
    "Write a recursive function that will output all the subsets of a set of n\n",
    "elements (without repeating any subsets)."
   ]
  },
  {
   "cell_type": "markdown",
   "metadata": {},
   "source": [
    "#### Solution"
   ]
  },
  {
   "cell_type": "code",
   "execution_count": 45,
   "metadata": {
    "ExecuteTime": {
     "end_time": "2019-10-26T07:59:31.806402Z",
     "start_time": "2019-10-26T07:59:31.803823Z"
    }
   },
   "outputs": [],
   "source": [
    "# To be solved"
   ]
  },
  {
   "cell_type": "markdown",
   "metadata": {},
   "source": [
    "### C-4.16\n",
    "Write a short recursive Python function that takes a character string s and outputs its reverse. For example, the reverse of pots&pans would be\n",
    "snap&stop "
   ]
  },
  {
   "cell_type": "markdown",
   "metadata": {},
   "source": [
    "#### Solution"
   ]
  },
  {
   "cell_type": "code",
   "execution_count": 60,
   "metadata": {
    "ExecuteTime": {
     "end_time": "2019-10-26T08:11:45.546749Z",
     "start_time": "2019-10-26T08:11:45.541449Z"
    }
   },
   "outputs": [
    {
     "name": "stdout",
     "output_type": "stream",
     "text": [
      "snap&stop\n"
     ]
    }
   ],
   "source": [
    "def reverse(S, start, stop):\n",
    "    S[start], S[stop] = S[stop], S[start]\n",
    "    if(start < stop-1):\n",
    "        reverse(S, start+1, stop-1)\n",
    "        return S\n",
    "        \n",
    "    \n",
    "S = list('pots&pans')\n",
    "length = len(S)\n",
    "print(''.join(reverse(S, 0, length-1)))"
   ]
  },
  {
   "cell_type": "markdown",
   "metadata": {},
   "source": [
    "### C-4.17\n",
    "Write a short recursive Python function that determines if a string s is a palindrome, that is, it is equal to its reverse. For example,   racecar   and\n",
    "gohangasalamiimalasagnahog   are palindromes."
   ]
  },
  {
   "cell_type": "markdown",
   "metadata": {},
   "source": [
    "#### Solution"
   ]
  },
  {
   "cell_type": "code",
   "execution_count": 64,
   "metadata": {
    "ExecuteTime": {
     "end_time": "2019-10-26T08:17:13.406929Z",
     "start_time": "2019-10-26T08:17:13.400671Z"
    }
   },
   "outputs": [
    {
     "name": "stdout",
     "output_type": "stream",
     "text": [
      "['pots&pans', 'racecar', 'gohangasalamiimalasagnahog']\n",
      "False\n",
      "True\n",
      "True\n"
     ]
    }
   ],
   "source": [
    "def reverse(S, start, stop):\n",
    "    S[start], S[stop] = S[stop], S[start]\n",
    "    if(start < stop-1):\n",
    "        reverse(S, start+1, stop-1)\n",
    "        return S\n",
    "        \n",
    "    \n",
    "S = ['pots&pans', 'racecar', 'gohangasalamiimalasagnahog']\n",
    "print(S)\n",
    "for i in S:\n",
    "    length = len(i)\n",
    "    s = ''.join(reverse(list(i), 0, length - 1))\n",
    "    if(s == i):\n",
    "        print(True)\n",
    "    else:\n",
    "        print(False)\n",
    "    "
   ]
  },
  {
   "cell_type": "markdown",
   "metadata": {
    "pycharm": {}
   },
   "source": [
    "### C-4.18\n",
    "Use recursion to write a Python function for determining if a string $s$ has more vowels than consonants."
   ]
  },
  {
   "cell_type": "markdown",
   "metadata": {
    "pycharm": {
     "metadata": false,
     "name": "#%% md\n"
    }
   },
   "source": [
    "#### Solution"
   ]
  },
  {
   "cell_type": "code",
   "execution_count": 206,
   "metadata": {
    "pycharm": {
     "is_executing": false,
     "metadata": false,
     "name": "#%%\n"
    }
   },
   "outputs": [
    {
     "data": {
      "text/plain": [
       "['a', 'e', 'i', 'o', 'u']"
      ]
     },
     "execution_count": 206,
     "metadata": {},
     "output_type": "execute_result"
    }
   ],
   "source": [
    "VOWEL = ['a','e','i','o','u']\n",
    "VOWEL"
   ]
  },
  {
   "cell_type": "code",
   "execution_count": 277,
   "metadata": {
    "pycharm": {
     "is_executing": false,
     "name": "#%%\n"
    }
   },
   "outputs": [],
   "source": [
    "def more_vowels(s, vowels, consonants):\n",
    "    if not s:\n",
    "        vowel_count = len(vowels)\n",
    "        consonant_count = len(consonants)\n",
    "        return True if vowel_count > consonant_count else False\n",
    "    \n",
    "    if s[-1] in VOWEL:\n",
    "        vowels.append(s.pop())\n",
    "        return more_vowels(s, vowels, consonants)\n",
    "    else:\n",
    "        consonants.append(s.pop())\n",
    "        return more_vowels(s, vowels, consonants)\n"
   ]
  },
  {
   "cell_type": "code",
   "execution_count": 292,
   "metadata": {
    "pycharm": {
     "is_executing": false
    }
   },
   "outputs": [
    {
     "name": "stdout",
     "output_type": "stream",
     "text": [
      "False\n",
      "['e', 'a']\n",
      "['l', 'p', 'p']\n"
     ]
    }
   ],
   "source": [
    "string1_vowels = []\n",
    "string1_consonants = []\n",
    "string1 = list('apple')\n",
    "print(more_vowels(string1, string1_vowels, string1_consonants))\n",
    "print(string1_vowels)\n",
    "print(string1_consonants)"
   ]
  },
  {
   "cell_type": "code",
   "execution_count": 293,
   "metadata": {
    "pycharm": {
     "is_executing": false,
     "metadata": false,
     "name": "#%%\n"
    },
    "scrolled": true
   },
   "outputs": [
    {
     "name": "stdout",
     "output_type": "stream",
     "text": [
      "True\n",
      "['o', 'e', 'a']\n",
      "['r']\n"
     ]
    }
   ],
   "source": [
    "string2_vowels = []\n",
    "string2_consonants = []\n",
    "string2 = list('aero')\n",
    "print(more_vowels(string2, string2_vowels, string2_consonants))\n",
    "print(string2_vowels)\n",
    "print(string2_consonants)\n"
   ]
  },
  {
   "cell_type": "markdown",
   "metadata": {},
   "source": [
    "### C-4.19\n",
    "Write a short recursive Python function that rearranges a sequence of integer values so that all the even values appear before all the odd values."
   ]
  },
  {
   "cell_type": "markdown",
   "metadata": {},
   "source": [
    "#### Solution"
   ]
  },
  {
   "cell_type": "code",
   "execution_count": 67,
   "metadata": {
    "ExecuteTime": {
     "end_time": "2019-10-26T08:30:20.001952Z",
     "start_time": "2019-10-26T08:30:19.994379Z"
    }
   },
   "outputs": [
    {
     "name": "stdout",
     "output_type": "stream",
     "text": [
      "Two lists approach\n",
      "[2, 4, 6, 8, 7, 5, 3, 1]\n",
      "[4, 46, 23, 45, 3, 765, 5, 23, 65, 3]\n",
      "[1]\n",
      "[2, 2]\n"
     ]
    }
   ],
   "source": [
    "def even_then_odd(S,index=0):\n",
    "    if index == len(S)-1:\n",
    "        return [S[index]] # Base case, restart the list from this element and append back\n",
    "    \n",
    "    else:\n",
    "        if S[index]%2 == 1: #If odd, we want to add it to the end of the list\n",
    "            return even_then_odd(S, index+1) + [S[index]]\n",
    "        else:\n",
    "            return [S[index]] + even_then_odd(S, index+1)\n",
    "        \n",
    "    \n",
    "    \n",
    "sequences = [[1,2,3,4,5,6,7,8], [4,3,65,23,5,46,765,3,45,23], [1], [2,2]]\n",
    "print('Two lists approach')\n",
    "for s in sequences:\n",
    "    print(even_then_odd(s))\n",
    "    "
   ]
  },
  {
   "cell_type": "markdown",
   "metadata": {},
   "source": [
    "### C-4.20\n",
    "Given an unsorted sequence, S, of integers and an integer k, describe a recursive algorithm for rearranging the elements in S so that all elements less than or equal to k come before any elements larger than k. What is the running time of your algorithm on a sequence of n values?"
   ]
  },
  {
   "cell_type": "markdown",
   "metadata": {},
   "source": [
    "#### Solution"
   ]
  },
  {
   "cell_type": "code",
   "execution_count": 70,
   "metadata": {
    "ExecuteTime": {
     "end_time": "2019-10-26T08:34:06.301360Z",
     "start_time": "2019-10-26T08:34:02.404730Z"
    }
   },
   "outputs": [
    {
     "name": "stdout",
     "output_type": "stream",
     "text": [
      "Two lists approach\n"
     ]
    },
    {
     "ename": "RecursionError",
     "evalue": "maximum recursion depth exceeded in comparison",
     "output_type": "error",
     "traceback": [
      "\u001b[0;31m---------------------------------------------------------------------------\u001b[0m",
      "\u001b[0;31mRecursionError\u001b[0m                            Traceback (most recent call last)",
      "\u001b[0;32m<ipython-input-70-22706a7f3988>\u001b[0m in \u001b[0;36m<module>\u001b[0;34m\u001b[0m\n\u001b[1;32m     14\u001b[0m \u001b[0mprint\u001b[0m\u001b[0;34m(\u001b[0m\u001b[0;34m'Two lists approach'\u001b[0m\u001b[0;34m)\u001b[0m\u001b[0;34m\u001b[0m\u001b[0;34m\u001b[0m\u001b[0m\n\u001b[1;32m     15\u001b[0m \u001b[0;32mfor\u001b[0m \u001b[0ms\u001b[0m \u001b[0;32min\u001b[0m \u001b[0msequences\u001b[0m\u001b[0;34m:\u001b[0m\u001b[0;34m\u001b[0m\u001b[0;34m\u001b[0m\u001b[0m\n\u001b[0;32m---> 16\u001b[0;31m     \u001b[0mprint\u001b[0m\u001b[0;34m(\u001b[0m\u001b[0msort_using_k\u001b[0m\u001b[0;34m(\u001b[0m\u001b[0ms\u001b[0m\u001b[0;34m,\u001b[0m \u001b[0;36m5\u001b[0m\u001b[0;34m)\u001b[0m\u001b[0;34m)\u001b[0m\u001b[0;34m\u001b[0m\u001b[0;34m\u001b[0m\u001b[0m\n\u001b[0m",
      "\u001b[0;32m<ipython-input-70-22706a7f3988>\u001b[0m in \u001b[0;36msort_using_k\u001b[0;34m(S, k, index)\u001b[0m\n\u001b[1;32m      7\u001b[0m             \u001b[0;32mreturn\u001b[0m \u001b[0msort_using_k\u001b[0m\u001b[0;34m(\u001b[0m\u001b[0mS\u001b[0m\u001b[0;34m,\u001b[0m \u001b[0mindex\u001b[0m\u001b[0;34m+\u001b[0m\u001b[0;36m1\u001b[0m\u001b[0;34m)\u001b[0m \u001b[0;34m+\u001b[0m \u001b[0;34m[\u001b[0m\u001b[0mS\u001b[0m\u001b[0;34m[\u001b[0m\u001b[0mindex\u001b[0m\u001b[0;34m]\u001b[0m\u001b[0;34m]\u001b[0m\u001b[0;34m\u001b[0m\u001b[0;34m\u001b[0m\u001b[0m\n\u001b[1;32m      8\u001b[0m         \u001b[0;32melse\u001b[0m\u001b[0;34m:\u001b[0m\u001b[0;34m\u001b[0m\u001b[0;34m\u001b[0m\u001b[0m\n\u001b[0;32m----> 9\u001b[0;31m             \u001b[0;32mreturn\u001b[0m \u001b[0;34m[\u001b[0m\u001b[0mS\u001b[0m\u001b[0;34m[\u001b[0m\u001b[0mindex\u001b[0m\u001b[0;34m]\u001b[0m\u001b[0;34m]\u001b[0m \u001b[0;34m+\u001b[0m \u001b[0msort_using_k\u001b[0m\u001b[0;34m(\u001b[0m\u001b[0mS\u001b[0m\u001b[0;34m,\u001b[0m \u001b[0mindex\u001b[0m\u001b[0;34m+\u001b[0m\u001b[0;36m1\u001b[0m\u001b[0;34m)\u001b[0m\u001b[0;34m\u001b[0m\u001b[0;34m\u001b[0m\u001b[0m\n\u001b[0m\u001b[1;32m     10\u001b[0m \u001b[0;34m\u001b[0m\u001b[0m\n\u001b[1;32m     11\u001b[0m \u001b[0;34m\u001b[0m\u001b[0m\n",
      "\u001b[0;32m<ipython-input-70-22706a7f3988>\u001b[0m in \u001b[0;36msort_using_k\u001b[0;34m(S, k, index)\u001b[0m\n\u001b[1;32m      5\u001b[0m     \u001b[0;32melse\u001b[0m\u001b[0;34m:\u001b[0m\u001b[0;34m\u001b[0m\u001b[0;34m\u001b[0m\u001b[0m\n\u001b[1;32m      6\u001b[0m         \u001b[0;32mif\u001b[0m \u001b[0mS\u001b[0m\u001b[0;34m[\u001b[0m\u001b[0mindex\u001b[0m\u001b[0;34m]\u001b[0m\u001b[0;34m>=\u001b[0m\u001b[0mk\u001b[0m\u001b[0;34m:\u001b[0m \u001b[0;31m#If odd, we want to add it to the end of the list\u001b[0m\u001b[0;34m\u001b[0m\u001b[0;34m\u001b[0m\u001b[0m\n\u001b[0;32m----> 7\u001b[0;31m             \u001b[0;32mreturn\u001b[0m \u001b[0msort_using_k\u001b[0m\u001b[0;34m(\u001b[0m\u001b[0mS\u001b[0m\u001b[0;34m,\u001b[0m \u001b[0mindex\u001b[0m\u001b[0;34m+\u001b[0m\u001b[0;36m1\u001b[0m\u001b[0;34m)\u001b[0m \u001b[0;34m+\u001b[0m \u001b[0;34m[\u001b[0m\u001b[0mS\u001b[0m\u001b[0;34m[\u001b[0m\u001b[0mindex\u001b[0m\u001b[0;34m]\u001b[0m\u001b[0;34m]\u001b[0m\u001b[0;34m\u001b[0m\u001b[0;34m\u001b[0m\u001b[0m\n\u001b[0m\u001b[1;32m      8\u001b[0m         \u001b[0;32melse\u001b[0m\u001b[0;34m:\u001b[0m\u001b[0;34m\u001b[0m\u001b[0;34m\u001b[0m\u001b[0m\n\u001b[1;32m      9\u001b[0m             \u001b[0;32mreturn\u001b[0m \u001b[0;34m[\u001b[0m\u001b[0mS\u001b[0m\u001b[0;34m[\u001b[0m\u001b[0mindex\u001b[0m\u001b[0;34m]\u001b[0m\u001b[0;34m]\u001b[0m \u001b[0;34m+\u001b[0m \u001b[0msort_using_k\u001b[0m\u001b[0;34m(\u001b[0m\u001b[0mS\u001b[0m\u001b[0;34m,\u001b[0m \u001b[0mindex\u001b[0m\u001b[0;34m+\u001b[0m\u001b[0;36m1\u001b[0m\u001b[0;34m)\u001b[0m\u001b[0;34m\u001b[0m\u001b[0;34m\u001b[0m\u001b[0m\n",
      "... last 1 frames repeated, from the frame below ...\n",
      "\u001b[0;32m<ipython-input-70-22706a7f3988>\u001b[0m in \u001b[0;36msort_using_k\u001b[0;34m(S, k, index)\u001b[0m\n\u001b[1;32m      5\u001b[0m     \u001b[0;32melse\u001b[0m\u001b[0;34m:\u001b[0m\u001b[0;34m\u001b[0m\u001b[0;34m\u001b[0m\u001b[0m\n\u001b[1;32m      6\u001b[0m         \u001b[0;32mif\u001b[0m \u001b[0mS\u001b[0m\u001b[0;34m[\u001b[0m\u001b[0mindex\u001b[0m\u001b[0;34m]\u001b[0m\u001b[0;34m>=\u001b[0m\u001b[0mk\u001b[0m\u001b[0;34m:\u001b[0m \u001b[0;31m#If odd, we want to add it to the end of the list\u001b[0m\u001b[0;34m\u001b[0m\u001b[0;34m\u001b[0m\u001b[0m\n\u001b[0;32m----> 7\u001b[0;31m             \u001b[0;32mreturn\u001b[0m \u001b[0msort_using_k\u001b[0m\u001b[0;34m(\u001b[0m\u001b[0mS\u001b[0m\u001b[0;34m,\u001b[0m \u001b[0mindex\u001b[0m\u001b[0;34m+\u001b[0m\u001b[0;36m1\u001b[0m\u001b[0;34m)\u001b[0m \u001b[0;34m+\u001b[0m \u001b[0;34m[\u001b[0m\u001b[0mS\u001b[0m\u001b[0;34m[\u001b[0m\u001b[0mindex\u001b[0m\u001b[0;34m]\u001b[0m\u001b[0;34m]\u001b[0m\u001b[0;34m\u001b[0m\u001b[0;34m\u001b[0m\u001b[0m\n\u001b[0m\u001b[1;32m      8\u001b[0m         \u001b[0;32melse\u001b[0m\u001b[0;34m:\u001b[0m\u001b[0;34m\u001b[0m\u001b[0;34m\u001b[0m\u001b[0m\n\u001b[1;32m      9\u001b[0m             \u001b[0;32mreturn\u001b[0m \u001b[0;34m[\u001b[0m\u001b[0mS\u001b[0m\u001b[0;34m[\u001b[0m\u001b[0mindex\u001b[0m\u001b[0;34m]\u001b[0m\u001b[0;34m]\u001b[0m \u001b[0;34m+\u001b[0m \u001b[0msort_using_k\u001b[0m\u001b[0;34m(\u001b[0m\u001b[0mS\u001b[0m\u001b[0;34m,\u001b[0m \u001b[0mindex\u001b[0m\u001b[0;34m+\u001b[0m\u001b[0;36m1\u001b[0m\u001b[0;34m)\u001b[0m\u001b[0;34m\u001b[0m\u001b[0;34m\u001b[0m\u001b[0m\n",
      "\u001b[0;31mRecursionError\u001b[0m: maximum recursion depth exceeded in comparison"
     ]
    }
   ],
   "source": []
  },
  {
   "cell_type": "markdown",
   "metadata": {},
   "source": [
    "### C-4.21\n",
    "Suppose you are given an n-element sequence, S, containing distinct in- tegers that are listed in increasing order. Given a number k, describe a recursive algorithm to find two integers in S that sum to k, if such a pair exists. What is the running time of your algorithm?"
   ]
  },
  {
   "cell_type": "markdown",
   "metadata": {},
   "source": [
    "#### Solution"
   ]
  },
  {
   "cell_type": "markdown",
   "metadata": {},
   "source": [
    "### C-4.22\n",
    "Develop a nonrecursive implementation of the version of power from Code Fragment 4.12 that uses repeated squaring."
   ]
  },
  {
   "cell_type": "markdown",
   "metadata": {},
   "source": [
    "#### Solution"
   ]
  },
  {
   "cell_type": "markdown",
   "metadata": {},
   "source": [
    "### P-4.23\n",
    "Implement a recursive function with signature find(path, filename) that reports all entries of the file system rooted at the given path having the given file name."
   ]
  },
  {
   "cell_type": "markdown",
   "metadata": {},
   "source": [
    "#### Solution"
   ]
  },
  {
   "cell_type": "markdown",
   "metadata": {},
   "source": [
    "### P-4.24\n",
    "Write a program for solving summation puzzles by enumerating and test- ing all possible configurations. Using your program, solve the three puz- zles given in Section 4.4.3."
   ]
  },
  {
   "cell_type": "markdown",
   "metadata": {},
   "source": [
    "#### Solution"
   ]
  },
  {
   "cell_type": "markdown",
   "metadata": {},
   "source": [
    "### P-4.25\n",
    "Provide a nonrecursive implementation of the draw interval function for the English ruler project of Section 4.1.2. There should be precisely 2c − 1 lines of output if c represents the length of the center tick. If incrementing a counter from 0 to 2c − 2, the number of dashes for each tick line should be exactly one more than the number of consecutive 1’s at the end of the binary representation of the counter."
   ]
  },
  {
   "cell_type": "markdown",
   "metadata": {},
   "source": [
    "#### Solution"
   ]
  },
  {
   "cell_type": "markdown",
   "metadata": {},
   "source": [
    "### P-4.26\n",
    "Write a program that can solve instances of the Tower of Hanoi problem (from Exercise C-4.14)."
   ]
  },
  {
   "cell_type": "markdown",
   "metadata": {},
   "source": [
    "#### Solution"
   ]
  },
  {
   "cell_type": "markdown",
   "metadata": {},
   "source": [
    "### P-4.27\n",
    "Python’s os module provides a function with signature walk(path) that is a generator yielding the tuple (dirpath, dirnames, filenames) for each subdirectory of the directory identified by string path, such that string dirpath is the full path to the subdirectory, dirnames is a list of the names of the subdirectories within dirpath, and filenames is a list of the names of non-directory entries of dirpath. For example, when visiting the cs016 subdirectory of the file system shown in Figure 4.6, the walk would yield ( /user/rt/courses/cs016 , [ homeworks , programs ], [ grades ]). Give your own implementation of such a walk function."
   ]
  },
  {
   "cell_type": "markdown",
   "metadata": {},
   "source": [
    "#### Solution"
   ]
  },
  {
   "cell_type": "code",
   "execution_count": null,
   "metadata": {},
   "outputs": [],
   "source": []
  }
 ],
 "metadata": {
  "kernelspec": {
   "display_name": "Python 3",
   "language": "python",
   "name": "python3"
  },
  "language_info": {
   "codemirror_mode": {
    "name": "ipython",
    "version": 3
   },
   "file_extension": ".py",
   "mimetype": "text/x-python",
   "name": "python",
   "nbconvert_exporter": "python",
   "pygments_lexer": "ipython3",
   "version": "3.6.7"
  },
  "stem_cell": {
   "cell_type": "raw",
   "metadata": {
    "pycharm": {
     "metadata": false
    }
   },
   "source": ""
  },
  "toc": {
   "base_numbering": 1,
   "nav_menu": {},
   "number_sections": true,
   "sideBar": true,
   "skip_h1_title": false,
   "title_cell": "Table of Contents",
   "title_sidebar": "Contents",
   "toc_cell": false,
   "toc_position": {},
   "toc_section_display": true,
   "toc_window_display": false
  },
  "varInspector": {
   "cols": {
    "lenName": 16,
    "lenType": 16,
    "lenVar": 40
   },
   "kernels_config": {
    "python": {
     "delete_cmd_postfix": "",
     "delete_cmd_prefix": "del ",
     "library": "var_list.py",
     "varRefreshCmd": "print(var_dic_list())"
    },
    "r": {
     "delete_cmd_postfix": ") ",
     "delete_cmd_prefix": "rm(",
     "library": "var_list.r",
     "varRefreshCmd": "cat(var_dic_list()) "
    }
   },
   "types_to_exclude": [
    "module",
    "function",
    "builtin_function_or_method",
    "instance",
    "_Feature"
   ],
   "window_display": false
  }
 },
 "nbformat": 4,
 "nbformat_minor": 2
}
