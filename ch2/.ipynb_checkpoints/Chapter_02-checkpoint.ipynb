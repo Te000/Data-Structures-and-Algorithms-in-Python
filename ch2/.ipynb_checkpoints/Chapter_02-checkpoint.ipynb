{
 "cells": [
  {
   "cell_type": "markdown",
   "metadata": {
    "pycharm": {}
   },
   "source": [
    "# Chapter 02: OOP"
   ]
  },
  {
   "cell_type": "markdown",
   "metadata": {
    "pycharm": {}
   },
   "source": [
    "## Modules"
   ]
  },
  {
   "cell_type": "code",
   "execution_count": 1,
   "metadata": {
    "ExecuteTime": {
     "end_time": "2019-10-04T12:04:21.453418Z",
     "start_time": "2019-10-04T12:04:21.450223Z"
    },
    "pycharm": {
     "is_executing": false,
     "name": "#%%\n"
    }
   },
   "outputs": [],
   "source": [
    "import numpy as np\n",
    "import time"
   ]
  },
  {
   "cell_type": "markdown",
   "metadata": {
    "pycharm": {}
   },
   "source": [
    "## Exercises: Reinforcement"
   ]
  },
  {
   "cell_type": "markdown",
   "metadata": {},
   "source": [
    "### R-2.1 \n",
    "Give three examples of life-critical software applications.\n",
    "\n",
    "### R-2.2 \n",
    "Give an example of a software application in which adaptability can mean the difference between a prolonged lifetime of sales and bankruptcy.\n",
    "\n",
    "### R-2.3 \n",
    "Describe a component from a text-editor GUI and the methods that it encapsulates.\n",
    "\n",
    "### R-2.4 \n",
    "Write a Python class, Flower, that has three instance variables of type str, int, and float, that respectively represent the name of the flower, its num- ber of petals, and its price. Your class must include a constructor method that initializes each variable to an appropriate value, and your class should include methods for setting the value of each type, and retrieving the value of each type.\n"
   ]
  },
  {
   "cell_type": "markdown",
   "metadata": {},
   "source": [
    "#### Solution"
   ]
  },
  {
   "cell_type": "code",
   "execution_count": 2,
   "metadata": {
    "ExecuteTime": {
     "end_time": "2019-10-04T12:04:21.471851Z",
     "start_time": "2019-10-04T12:04:21.461374Z"
    }
   },
   "outputs": [
    {
     "name": "stdout",
     "output_type": "stream",
     "text": [
      "\n",
      "              name: Rose\n",
      "              petals: 5\n",
      "              price: 1.0\n",
      "              \n",
      "Hibiscus\n",
      "5\n",
      "1\n",
      "\n",
      "              name: Hibiscus\n",
      "              petals: 1\n",
      "              price: 5\n",
      "              \n"
     ]
    }
   ],
   "source": [
    "class Flower():\n",
    "    \"\"\"\n",
    "    Class with variables:\n",
    "    Str name\n",
    "    Int Petals\n",
    "    Float Price\n",
    "    \"\"\"\n",
    "    def __init__(self, name=\"Rose\", petals=5, price=1.00):\n",
    "        # https://stackoverflow.com/questions/625083/what-init-and-self-do-on-python\n",
    "        # All _var because its protected, __var means private\n",
    "        self._name = name\n",
    "        self._petals = petals\n",
    "        self._price = price\n",
    "\n",
    "    def set_name(self, name: str):\n",
    "        self._name = name\n",
    "\n",
    "    def set_petals(self, petals: int):\n",
    "        self._petals = petals\n",
    "\n",
    "    def set_price(self, price: float):\n",
    "        self._price = price\n",
    "\n",
    "    def get_name(self, ):\n",
    "        return self._name\n",
    "\n",
    "    def get_petals(self, ):\n",
    "        return self._petals\n",
    "\n",
    "    def get_price(self, ):\n",
    "        return self._price\n",
    "\n",
    "    def describe(self, ):\n",
    "        print(\"\"\"\n",
    "              name: {0}\n",
    "              petals: {1}\n",
    "              price: {2}\n",
    "              \"\"\".format(self._name, self._petals, self._price))\n",
    "\n",
    "a = Flower()\n",
    "a.describe()\n",
    "\n",
    "a.set_name('Hibiscus')\n",
    "print(a.get_name())\n",
    "\n",
    "a.set_price(5)\n",
    "print(a.get_price())\n",
    "\n",
    "a.set_petals(1)\n",
    "print(a.get_petals())\n",
    "\n",
    "a.describe()"
   ]
  },
  {
   "cell_type": "markdown",
   "metadata": {},
   "source": [
    "### R-2.5 \n",
    "Use the techniques of Section 1.7 to revise the charge and make payment methods of the CreditCard class to ensure that the caller sends a number as a parameter.\n",
    "\n",
    "### R-2.6 \n",
    "If the parameter to the make payment method of the CreditCard class were a negative number, that would have the effect of raising the balance on the account. Revise the implementation so that it raises a ValueError if a negative value is sent.\n",
    "\n",
    "### R-2.7 \n",
    "The CreditCard class of Section 2.3 initializes the balance of a new account to zero. Modify that class so that a new account can be given a nonzero balance using an optional fifth parameter to the constructor. The four-parameter constructor syntax should continue to produce an account with zero balance."
   ]
  },
  {
   "cell_type": "markdown",
   "metadata": {},
   "source": [
    "#### Solution"
   ]
  },
  {
   "cell_type": "code",
   "execution_count": 3,
   "metadata": {
    "ExecuteTime": {
     "end_time": "2019-10-04T12:04:21.488497Z",
     "start_time": "2019-10-04T12:04:21.475308Z"
    }
   },
   "outputs": [
    {
     "name": "stdout",
     "output_type": "stream",
     "text": [
      "====================== Qn 1 =======================\n",
      "Error, current balance is 0 + 10 which is insufficient for 4\n",
      "Paying an int returns False\n",
      "Paying a string returns False\n",
      "Paid successfully!\n",
      "check again ! TypeError\n",
      "====================== Qn 2 =======================\n",
      "check again ! ValueError ! amount must >= 0\n"
     ]
    }
   ],
   "source": [
    "class CreditCard:\n",
    "    \"\"\"\n",
    "    A consumer credit card.\n",
    "    \"\"\"\n",
    "\n",
    "    def __init__(self, customer=\"John\", bank=\"OCBC\", acnt=\"1357\", limit=0, balance=0):\n",
    "        \"\"\"Create a new credit card instance.\n",
    "        The initial balance is zero.\n",
    "        customer  the name of the customer (e.g., 'John Bowman')\n",
    "        bank      the name of the bank (e.g., 'California Savings')\n",
    "        acnt      the acount identifier (e.g., '5391 0375 9387 5309')\n",
    "        limit     credit limit (measured in dollars)\n",
    "        \"\"\"\n",
    "        self._customer = customer\n",
    "        self._bank = bank\n",
    "        self._account = acnt\n",
    "        self._limit = limit\n",
    "        self._balance = balance\n",
    "\n",
    "    def get_customer(self):\n",
    "        \"\"\"Return name of the customer.\"\"\"\n",
    "        return self._customer\n",
    "\n",
    "    def get_bank(self):\n",
    "        \"\"\"Return the bank's name.\"\"\"\n",
    "        return self._bank\n",
    "\n",
    "    def get_account(self):\n",
    "        \"\"\"Return the card identifying number (typically stored as a string).\"\"\"\n",
    "        return self._account\n",
    "\n",
    "    def get_limit(self):\n",
    "        \"\"\"Return current credit limit.\"\"\"\n",
    "        return self._limit\n",
    "\n",
    "    def get_balance(self):\n",
    "        \"\"\"Return current balance.\"\"\"\n",
    "        return self._balance\n",
    "\n",
    "    def charge(self, price):\n",
    "        \"\"\"\n",
    "        Charge given price to the card, assuming sufficient credit limit.\n",
    "        Return True if charge was processed; False if charge was denied.\n",
    "        \"\"\"\n",
    "        try:\n",
    "            if price + self._balance > self._limit:  # if charge would exceed limit,\n",
    "                print(\"Error, current balance is {} + {} which is insufficient for {}\".format(self._balance, price, self._limit))\n",
    "                return False                           # cannot accept charge\n",
    "            else:\n",
    "                self._balance += price\n",
    "            return True\n",
    "        except TypeError:\n",
    "            return False\n",
    "\n",
    "    def make_payment(self, amount):\n",
    "        \"\"\"Process customer payment that reduces balance.\"\"\"\n",
    "        try:\n",
    "            self._balance -= amount\n",
    "            if amount < 0:\n",
    "                raise ValueError(\"check again ! ValueError ! amount must >= 0\")\n",
    "            else:\n",
    "                print(\"Paid successfully!\")\n",
    "        except TypeError:\n",
    "            print(\"check again ! TypeError\")\n",
    "        except ValueError as ve:\n",
    "            print(ve)\n",
    "\n",
    "a = CreditCard('John Bowman', 'California Savings', '5391 0375 9387 5309', 4)\n",
    "\n",
    "print(\"====================== Qn 1 =======================\")\n",
    "print(\"Paying an int returns\", a.charge(10))\n",
    "print(\"Paying a string returns\", a.charge('df'))\n",
    "\n",
    "a.make_payment(5)\n",
    "a.make_payment(\"dfs\")\n",
    "\n",
    "print(\"====================== Qn 2 =======================\")\n",
    "a.make_payment(-5)\n",
    "\n"
   ]
  },
  {
   "cell_type": "markdown",
   "metadata": {},
   "source": [
    "### R-2.8 \n",
    "Modify the declaration of the first for loop in the CreditCard tests, from Code Fragment 2.3, so that it will eventually cause exactly one of the three credit cards to go over its credit limit. Which credit card is it?"
   ]
  },
  {
   "cell_type": "markdown",
   "metadata": {},
   "source": [
    "#### Solution\n"
   ]
  },
  {
   "cell_type": "code",
   "execution_count": 4,
   "metadata": {
    "ExecuteTime": {
     "end_time": "2019-10-04T12:04:21.498328Z",
     "start_time": "2019-10-04T12:04:21.490891Z"
    }
   },
   "outputs": [
    {
     "name": "stdout",
     "output_type": "stream",
     "text": [
      "Error, current balance is 4959 + 174 which is insufficient for 5000\n"
     ]
    }
   ],
   "source": [
    "wallet = [ ]\n",
    "wallet.append(CreditCard('John Bowman' , 'California Savings' ,'5391 0375 9387 5309' , 2500) ) \n",
    "wallet.append(CreditCard( 'John Bowman' , 'California Federal' ,'3485 0399 3395 1954' , 3500) ) \n",
    "wallet.append(CreditCard( 'John Bowman' , 'California Finance' ,'5391 0375 9387 5309' , 5000) )\n",
    "for val in range(1, 59): \n",
    "    wallet[0].charge(val) \n",
    "    wallet[1].charge(2*val) \n",
    "    wallet[2].charge(3*val)\n"
   ]
  },
  {
   "cell_type": "markdown",
   "metadata": {
    "pycharm": {
     "name": "#%% md\n"
    }
   },
   "source": [
    "### R-2.9\n",
    "Implement the `__sub__` method for the `Vector` class of Section 2.3.3, so that the expression `u - v` returns a new vector instance representing the difference between two vectors.\n",
    "### R-2.10\n",
    "Implement the `__neg__` method for the `Vector` class of Section 2.3.3, os that the expression `-v` returns a new vector instance whose coordinates are all the negated values of the respective coordinates of `v`.\n",
    "### R-2.11\n",
    "In Section 2.3.3, we note that `Vector` clas supports a syntax such as `v = u + [5, 3, 10, -2, 1]`, in which the sum, of a vector and list returns a new vector. However, the syntax `v = [5, 3, 10, -2, 1] + u` is illegal. Explain how the `Vector` class definition can be revised so that this syntax generates a new vector.\n",
    "### R-2.12\n",
    "Implement the `__mul__` method for `Vector` class of Section 2.3.3, so that the expression `v * 3` returns a new vector with coordinates that are 3 times the respective coordinates of `v`.\n",
    "### R-2.13\n",
    "Exercise R-2.12 asks for an implementation of `__mul__`, for the `Vector` class of Section 2.3.3, to provide support for the syntax `v * 3`. Implement the `__rmul__` method, to provide additional support for syntax `3 * v`.\n",
    "### R-2.14\n",
    "Implement the `__mul__` mehtod for the `Vector` class of Section 2.3.3, so that the expression `u * v` returns a scalar that represents the dot product of the vectors, that is $\\sum_{i=1}^d u_i \\cdot v_i$.\n",
    "### R-2.15\n",
    "The `Vector` class of Section 2.3. provides a constructor that takes an integer `d`, and produces a d-dimensional vector with all coordinates equal to 0. Another convenient form for creating a new vector would be to send the constructor a parameter that is some iterable type representing a sequece of numbers, and to create a vector with dimension equal to the length of that sequence and coordinates equal to the sequence values. For example, `Vector([4, 7, 5])` would produce a three-dimensional vector with coordinates `<4, 7, 5>`. Modify the constructor so that either of these form is acceptable; that is, if a single integer is sent, it produces a vector of that dimension with all zeros, but if a sequence of numbers is provided, it produces a vector with coordinates based on that sequence."
   ]
  },
  {
   "cell_type": "markdown",
   "metadata": {
    "pycharm": {
     "name": "#%% md\n"
    }
   },
   "source": [
    "#### Solution"
   ]
  },
  {
   "cell_type": "code",
   "execution_count": 5,
   "metadata": {
    "ExecuteTime": {
     "end_time": "2019-10-04T12:04:21.522270Z",
     "start_time": "2019-10-04T12:04:21.501149Z"
    },
    "pycharm": {
     "is_executing": false,
     "name": "#%%\n"
    }
   },
   "outputs": [],
   "source": [
    "class Vector:\n",
    "    \"\"\"Represent a vector in a multidimensional space\"\"\"\n",
    "    \n",
    "    def __init__(self, value):\n",
    "        \"\"\"Create d-dimensional vector of zeros.\"\"\"\n",
    "        \n",
    "        if isinstance(value, int):\n",
    "            self._coords = [0] * value\n",
    "        elif isinstance(value, list):\n",
    "            self._coords = [i for i in value]\n",
    "        else:\n",
    "            raise ValueError('Vector accepts int or list only')\n",
    "        \n",
    "    def __len__(self):\n",
    "        \"\"\"Return the dimension of the vector.\"\"\"\n",
    "        return len(self._coords)\n",
    "    \n",
    "    def __getitem__(self, j):\n",
    "        \"\"\"Return jth coordinate of vector.\"\"\"\n",
    "        return self._coords[j]\n",
    "    \n",
    "    def __setitem__(self, j, val):\n",
    "        \"\"\"Set jth coordinate of vector to given value.\"\"\"\n",
    "        self._coords[j] = val\n",
    "    \n",
    "    def __add__(self, other):\n",
    "        \"\"\"Return sum of two vectors.\"\"\"\n",
    "        if len(self) != len(other):\n",
    "            raise ValueError('dimensions must agree')\n",
    "        result = Vector(len(self))\n",
    "        for j in range(len(self)):\n",
    "            result[j] = self[j] + other[j]\n",
    "        return result\n",
    "    \n",
    "    def __radd__(self, other):\n",
    "        \"\"\"Return sum of two vectors.\"\"\"\n",
    "        # https://www.reddit.com/r/learnpython/comments/3cvgpi/can_someone_explain_radd_to_me_in_simple_terms_i/\n",
    "        '''\n",
    "        Imagine you've defined a type Foo and it makes sense to be able to add an instance of Foo \n",
    "        (we'll call it f) and an integer together. \n",
    "        If you write f + 5, Python will call f.__add__(5). But if you write 5 + f, Python will call (5).__add__(f), \n",
    "        which will return an error (because integers don't know how to add themselves to instances of Foo). \n",
    "        So, after (5).__add__(f) fails, Python will then try f.__radd__(5).\n",
    "        '''\n",
    "        if len(self) != len(other):\n",
    "            raise ValueError('dimensions must agree')\n",
    "        result = Vector(len(self))\n",
    "        for j in range(len(self)):\n",
    "            result[j] = self[j] + other[j]\n",
    "        return result\n",
    "    \n",
    "    def __sub__(self, other):\n",
    "        \"\"\"Return subtraction of two vectors.\"\"\"\n",
    "        if len(self)!= len(other):\n",
    "            raise ValueError('dimensions must agree')\n",
    "        result = Vector(len(self))\n",
    "        for j in range(len(self)):\n",
    "            result[j] = self[j] - other[j]\n",
    "        return result\n",
    "    \n",
    "    def __mul__(self, other):\n",
    "        \"\"\"Return multiplication of a scalar or a vector\"\"\"\n",
    "        if isinstance(other, (int, float)):\n",
    "            result = Vector(len(self))\n",
    "            for j in range(len(self)):\n",
    "                result[j] = self[j] * other\n",
    "        elif len(self) == len(other):\n",
    "            result = Vector(len(self))\n",
    "            for j in range(len(self)):\n",
    "                result[j] = self[j] * other[j]\n",
    "        else:\n",
    "            raise ValueError('multiplicand should be a scalar or a vector with same dimension as multiplier')\n",
    "        \n",
    "        return result\n",
    "    \n",
    "    def __rmul__(self, other):\n",
    "        \"\"\"Return multiplication of a scalar or a vector\"\"\"\n",
    "        if isinstance(other, (int, float)):\n",
    "            result = Vector(len(self))\n",
    "            for j in range(len(self)):\n",
    "                result[j] = self[j] * other\n",
    "        elif len(self) == len(other):\n",
    "            result = Vector(len(self))\n",
    "            for j in range(len(self)):\n",
    "                result[j] = self[j] * other[j]\n",
    "        else:\n",
    "            raise ValueError('multiplicand should be a scalar or a vector with same dimension as multiplier')\n",
    "        \n",
    "        return result\n",
    "    \n",
    "    def __neg__(self):\n",
    "        result = Vector(len(self))\n",
    "        for j in range(len(self)):\n",
    "            result[j] = -self[j]\n",
    "        return result\n",
    "        \n",
    "    def __eq__(self, other):\n",
    "        \"\"\"Return True if vectgor has same coordinates as other.\"\"\"\n",
    "        return self._coords == other._coords\n",
    "    \n",
    "    def __ne__(self, other):\n",
    "        \"\"\"Return True if vector differs from other.\"\"\"\n",
    "        return not self == other  # This rely on existing __eq__ definition\n",
    "    \n",
    "    def __str__(self):\n",
    "        \"\"\"Produce string representation of vector.\"\"\"\n",
    "        return '<' + str(self._coords)[1:-1] + '>'\n",
    "    \n",
    "    def __repr__(self):\n",
    "        \"\"\"For representation.\"\"\"\n",
    "        return 'Vector(%r)' % self._coords\n",
    "    "
   ]
  },
  {
   "cell_type": "code",
   "execution_count": 6,
   "metadata": {
    "ExecuteTime": {
     "end_time": "2019-10-04T12:04:21.534731Z",
     "start_time": "2019-10-04T12:04:21.524239Z"
    },
    "pycharm": {
     "is_executing": false,
     "name": "#%%\n"
    }
   },
   "outputs": [
    {
     "data": {
      "text/plain": [
       "Vector([1, 2, 3])"
      ]
     },
     "execution_count": 6,
     "metadata": {},
     "output_type": "execute_result"
    }
   ],
   "source": [
    "x = Vector(3)\n",
    "x[0] = 1; x[1] = 2; x[2] = 3\n",
    "x"
   ]
  },
  {
   "cell_type": "code",
   "execution_count": 7,
   "metadata": {
    "ExecuteTime": {
     "end_time": "2019-10-04T12:04:21.543167Z",
     "start_time": "2019-10-04T12:04:21.537522Z"
    },
    "pycharm": {
     "is_executing": false,
     "name": "#%%\n"
    }
   },
   "outputs": [
    {
     "data": {
      "text/plain": [
       "Vector([2, 3, 4])"
      ]
     },
     "execution_count": 7,
     "metadata": {},
     "output_type": "execute_result"
    }
   ],
   "source": [
    "y = Vector(3)\n",
    "y[0] = 2; y[1] = 3; y[2] = 4\n",
    "y"
   ]
  },
  {
   "cell_type": "code",
   "execution_count": 8,
   "metadata": {
    "ExecuteTime": {
     "end_time": "2019-10-04T12:04:21.550428Z",
     "start_time": "2019-10-04T12:04:21.545826Z"
    },
    "pycharm": {
     "is_executing": false,
     "name": "#%%\n"
    }
   },
   "outputs": [
    {
     "data": {
      "text/plain": [
       "Vector([-1, -1, -1])"
      ]
     },
     "execution_count": 8,
     "metadata": {},
     "output_type": "execute_result"
    }
   ],
   "source": [
    "# R-2.9\n",
    "x - y"
   ]
  },
  {
   "cell_type": "code",
   "execution_count": 9,
   "metadata": {
    "ExecuteTime": {
     "end_time": "2019-10-04T12:04:21.557076Z",
     "start_time": "2019-10-04T12:04:21.552397Z"
    },
    "pycharm": {
     "is_executing": false,
     "name": "#%%\n"
    }
   },
   "outputs": [
    {
     "data": {
      "text/plain": [
       "Vector([-1, -2, -3])"
      ]
     },
     "execution_count": 9,
     "metadata": {},
     "output_type": "execute_result"
    }
   ],
   "source": [
    "# R-2.10\n",
    "-x "
   ]
  },
  {
   "cell_type": "code",
   "execution_count": 10,
   "metadata": {
    "ExecuteTime": {
     "end_time": "2019-10-04T12:04:21.564327Z",
     "start_time": "2019-10-04T12:04:21.559603Z"
    },
    "pycharm": {
     "is_executing": false,
     "name": "#%%\n"
    }
   },
   "outputs": [
    {
     "data": {
      "text/plain": [
       "Vector([4, 4, 4])"
      ]
     },
     "execution_count": 10,
     "metadata": {},
     "output_type": "execute_result"
    }
   ],
   "source": [
    "# R-2.11\n",
    "[3, 2, 1] + x"
   ]
  },
  {
   "cell_type": "code",
   "execution_count": 11,
   "metadata": {
    "ExecuteTime": {
     "end_time": "2019-10-04T12:04:21.571068Z",
     "start_time": "2019-10-04T12:04:21.566473Z"
    },
    "pycharm": {
     "is_executing": false,
     "name": "#%%\n"
    }
   },
   "outputs": [
    {
     "data": {
      "text/plain": [
       "Vector([3, 6, 9])"
      ]
     },
     "execution_count": 11,
     "metadata": {},
     "output_type": "execute_result"
    }
   ],
   "source": [
    "# R-2.12\n",
    "x * 3"
   ]
  },
  {
   "cell_type": "code",
   "execution_count": 12,
   "metadata": {
    "ExecuteTime": {
     "end_time": "2019-10-04T12:04:21.577720Z",
     "start_time": "2019-10-04T12:04:21.573465Z"
    },
    "pycharm": {
     "is_executing": false,
     "name": "#%%\n"
    }
   },
   "outputs": [
    {
     "data": {
      "text/plain": [
       "Vector([3, 6, 9])"
      ]
     },
     "execution_count": 12,
     "metadata": {},
     "output_type": "execute_result"
    }
   ],
   "source": [
    "# R-2.13\n",
    "3 * x"
   ]
  },
  {
   "cell_type": "code",
   "execution_count": 13,
   "metadata": {
    "ExecuteTime": {
     "end_time": "2019-10-04T12:04:21.585614Z",
     "start_time": "2019-10-04T12:04:21.579944Z"
    },
    "pycharm": {
     "is_executing": false,
     "name": "#%%\n"
    }
   },
   "outputs": [
    {
     "data": {
      "text/plain": [
       "Vector([1, 4, 9])"
      ]
     },
     "execution_count": 13,
     "metadata": {},
     "output_type": "execute_result"
    }
   ],
   "source": [
    "# R-2.14\n",
    "x * [1, 2, 3]"
   ]
  },
  {
   "cell_type": "code",
   "execution_count": 14,
   "metadata": {
    "ExecuteTime": {
     "end_time": "2019-10-04T12:04:21.594176Z",
     "start_time": "2019-10-04T12:04:21.588068Z"
    },
    "pycharm": {
     "is_executing": false,
     "name": "#%%\n"
    }
   },
   "outputs": [
    {
     "data": {
      "text/plain": [
       "Vector([110, 13, 5])"
      ]
     },
     "execution_count": 14,
     "metadata": {},
     "output_type": "execute_result"
    }
   ],
   "source": [
    "# R-2.14\n",
    "u = Vector([18, 3, 3])\n",
    "v = Vector([92, 10, 2])\n",
    "u + v"
   ]
  },
  {
   "cell_type": "markdown",
   "metadata": {},
   "source": [
    "### R-2.16\n",
    "Our Range class, from Section 2.3.5, relies on the formula max(0, (stop − start + step − 1) // step)\n",
    "to compute the number of elements in the range. It is not immediately evident why this formula provides the correct calculation, even if assuming a positive step size. Justify this formula, in your own words."
   ]
  },
  {
   "cell_type": "markdown",
   "metadata": {},
   "source": [
    "#### Solution: \n",
    "- In a list of 0 elements, max returns 0.\n",
    "- In a list of 2 elements, max returns (2-0+1-1)//1 = 2\n",
    "\n",
    "\n",
    "- Using the TB example:  r = range(8, 140, 5), max returns (140-8 + 5-1)//5 = 27\n",
    "- Using step - 1 is important to include the starting number in the range: it would be 26 without step - 1 in the e.g. above"
   ]
  },
  {
   "cell_type": "markdown",
   "metadata": {},
   "source": [
    "### R-2.17\n",
    "Draw a class inheritance diagram for the following set of classes:\n",
    "\n",
    "• Class Goat extends object and adds an instance variable tail and methods milk() and jump().\n",
    "\n",
    "• Class Pig extends object and adds an instance variable nose and methods eat(food) and wallow().\n",
    "\n",
    "• Class Horse extends object and adds instance variables height and color, and methods run() and jump().\n",
    "\n",
    "• Class Racer extends Horse and adds a method race().\n",
    "\n",
    "• Class Equestrian extends Horse, adding an instance variable weight and methods trot() and is trained()."
   ]
  },
  {
   "cell_type": "markdown",
   "metadata": {},
   "source": [
    "### R-2.18\n",
    "\n",
    "Give a short fragment of Python code that uses the progression classes from Section 2.4.2 to find the 8th value of a Fibonacci progression that starts with 2 and 2 as its first two values.\n",
    "\n",
    "### R-2.19\n",
    "\n",
    "When using the ArithmeticProgression class of Section 2.4.2 with an increment of 128 and a start of 0, how many calls to next can we make before we reach an integer of 263 or larger?\n",
    "\n"
   ]
  },
  {
   "cell_type": "markdown",
   "metadata": {},
   "source": [
    "#### Solution: "
   ]
  },
  {
   "cell_type": "code",
   "execution_count": 15,
   "metadata": {
    "ExecuteTime": {
     "end_time": "2019-10-04T12:04:21.613090Z",
     "start_time": "2019-10-04T12:04:21.596617Z"
    }
   },
   "outputs": [
    {
     "name": "stdout",
     "output_type": "stream",
     "text": [
      "Default progression:\n",
      "0 1 2 3 4 5 6 7 8 9\n",
      "Arithmetic progression with increment 5:\n",
      "0 5 10 15 20 25 30 35 40 45\n",
      "Arithmetic progression with increment 5 and start 2:\n",
      "2 7 12 17 22 27 32 37 42 47\n",
      "Geometric progression with default base:\n",
      "1 2 4 8 16 32 64 128 256 512\n",
      "Geometric progression with base 3:\n",
      "1 3 9 27 81 243 729 2187 6561 19683\n",
      "Fibonacci progression with default start values:\n",
      "0 1 1 2 3 5 8 13 21 34\n",
      "Fibonacci progression with start values 4 and 6:\n",
      "4 6 10 16 26 42 68 110 178 288\n"
     ]
    }
   ],
   "source": [
    "class Progression:\n",
    "    \"\"\"\n",
    "    Iterator producing a generic progression.\n",
    "    Default iterator produces the whole numbers 0, 1, 2, ...\n",
    "    \"\"\"\n",
    "\n",
    "    def __init__(self, start=0):\n",
    "        \"\"\"Initialize current to the first value of the progression.\"\"\"\n",
    "        self._current = start\n",
    "\n",
    "    def _advance(self):\n",
    "        \"\"\"Update self._current to a new value.\n",
    "        This should be overridden by a subclass to customize progression.\n",
    "        By convention, if current is set to None, this designates the\n",
    "        end of a finite progression.\n",
    "        \"\"\"\n",
    "        self._current += 1\n",
    "\n",
    "    def __next__(self):\n",
    "        \"\"\"Return the next element, or else raise StopIteration error.\"\"\"\n",
    "        if self._current is None:    # our convention to end a progression\n",
    "            raise StopIteration()\n",
    "        else:\n",
    "            answer = self._current     # record current value to return\n",
    "            self._advance()            # advance to prepare for next time\n",
    "            return answer              # return the answer\n",
    "\n",
    "    def __iter__(self):\n",
    "        \"\"\"By convention, an iterator must return itself as an iterator.\"\"\"\n",
    "        return self                  \n",
    "\n",
    "    def print_progression(self, n):\n",
    "        \"\"\"Print next n values of the progression.\"\"\"\n",
    "        print(' '.join(str(next(self)) for j in range(n)))\n",
    "\n",
    "class ArithmeticProgression(Progression):  # inherit from Progression\n",
    "    \"\"\"Iterator producing an arithmetic progression.\"\"\"\n",
    "\n",
    "    def __init__(self, increment=1, start=0):\n",
    "        \"\"\"Create a new arithmetic progression.\n",
    "        increment  the fixed constant to add to each term (default 1)\n",
    "        start      the first term of the progression (default 0)\n",
    "        \"\"\"\n",
    "        super().__init__(start)                # initialize base class\n",
    "        self._increment = increment\n",
    "\n",
    "    def _advance(self):                      # override inherited version\n",
    "        \"\"\"Update current value by adding the fixed increment.\"\"\"\n",
    "        self._current += self._increment\n",
    "\n",
    "\n",
    "class GeometricProgression(Progression):   # inherit from Progression\n",
    "    \"\"\"Iterator producing a geometric progression.\"\"\"\n",
    "\n",
    "    def __init__(self, base=2, start=1):\n",
    "        \"\"\"Create a new geometric progression.\n",
    "        base       the fixed constant multiplied to each term (default 2)\n",
    "        start      the first term of the progression (default 1)\n",
    "        \"\"\"\n",
    "        super().__init__(start)\n",
    "        self._base = base\n",
    "\n",
    "    def _advance(self):                      # override inherited version\n",
    "        \"\"\"Update current value by multiplying it by the base value.\"\"\"\n",
    "        self._current *= self._base\n",
    "\n",
    "\n",
    "class FibonacciProgression(Progression):\n",
    "    \"\"\"Iterator producing a generalized Fibonacci progression.\"\"\"\n",
    "\n",
    "    def __init__(self, first=0, second=1):\n",
    "        \"\"\"\n",
    "        Create a new fibonacci progression.\n",
    "        first      the first term of the progression (default 0)\n",
    "        second     the second term of the progression (default 1)\n",
    "        \"\"\"\n",
    "        super().__init__(first)              # start progression at first\n",
    "        self._prev = second - first          # fictitious value preceding the first\n",
    "\n",
    "    def _advance(self):\n",
    "        \"\"\"Update current value by taking sum of previous two.\"\"\"\n",
    "        self._prev, self._current = self._current, self._prev + self._current\n",
    "\n",
    "print('Default progression:')\n",
    "Progression().print_progression(10)\n",
    "\n",
    "print('Arithmetic progression with increment 5:')\n",
    "ArithmeticProgression(5).print_progression(10)\n",
    "\n",
    "print('Arithmetic progression with increment 5 and start 2:')\n",
    "ArithmeticProgression(5, 2).print_progression(10)\n",
    "\n",
    "print('Geometric progression with default base:')\n",
    "GeometricProgression().print_progression(10)\n",
    "\n",
    "print('Geometric progression with base 3:')\n",
    "GeometricProgression(3).print_progression(10)\n",
    "\n",
    "print('Fibonacci progression with default start values:')\n",
    "FibonacciProgression().print_progression(10)\n",
    "\n",
    "print('Fibonacci progression with start values 4 and 6:')\n",
    "FibonacciProgression(4, 6).print_progression(10)"
   ]
  },
  {
   "cell_type": "code",
   "execution_count": 16,
   "metadata": {
    "ExecuteTime": {
     "end_time": "2019-10-04T12:04:21.623236Z",
     "start_time": "2019-10-04T12:04:21.617004Z"
    }
   },
   "outputs": [
    {
     "name": "stdout",
     "output_type": "stream",
     "text": [
      "2 2 4 6 10 16 26 42\n",
      "0 128 256 384\n"
     ]
    }
   ],
   "source": [
    "f = FibonacciProgression(2, 2)\n",
    "f.print_progression(8)\n",
    "\n",
    "a = ArithmeticProgression(128, 0)\n",
    "a.print_progression(4)"
   ]
  },
  {
   "cell_type": "markdown",
   "metadata": {},
   "source": [
    "### R-2.20\n",
    "\n",
    "What are some potential efficiency disadvantages of having very deep inheritance trees, that is, a large set of classes, A, B, C, and so on, such that B extends A, C extends B, D extends C, etc.?\n",
    "\n",
    "#### Solution:\n",
    "Copied from: https://www.ianswer4u.com/2017/09/oops-inheritance-advantages.html?m=1\n",
    "- The main disadvantage of the inheritance is that the two classes(base class and super class) are tightly coupled that is the classes are dependent on each other.\n",
    "- If the functionality of the base class is changed then the changes have to be done on the child classes also.\n",
    "- If the methods in the super class are deleted then it is very difficult to maintain the functionality of the child class which has implemented the super class’s method.\n",
    "- It increases the time and efforts take to jump through different levels of the inheritance - super() may be called many times over in a deep inheritance tree when calling the constructor for the deepest class.\n",
    "\n",
    "Useful ref: https://stackoverflow.com/questions/8018619/performance-implications-of-deep-inheritance-tree-in-c\n",
    "\n",
    "\n",
    "### R-2.21\n",
    "\n",
    "What are some potential efficiency disadvantages of having very shallow inheritance trees, that is, a large set of classes, A, B, C, and so on, such that all of these classes extend a single class, Z?\n",
    "\n",
    "#### Solution:\n",
    "- Seems more like an interface design"
   ]
  },
  {
   "cell_type": "markdown",
   "metadata": {},
   "source": [
    "### R-2.22\n",
    "\n",
    "The collections.Sequence abstract base class does not provide support for comparing two sequences to each other. Modify our Sequence class from Code Fragment 2.14 to include a definition for the eq method, so that expression seq1 == seq2 will return True precisely when the two sequences are element by element equivalent.\n",
    "\n",
    "### R-2.23\n",
    "\n",
    "In similar spirit to the previous problem, augment the Sequence class with method lt, to support lexicographic comparison seq1 < seq2.\n",
    "\n",
    "#### Solution:"
   ]
  },
  {
   "cell_type": "code",
   "execution_count": 17,
   "metadata": {
    "ExecuteTime": {
     "end_time": "2019-10-04T12:04:21.640918Z",
     "start_time": "2019-10-04T12:04:21.626211Z"
    }
   },
   "outputs": [
    {
     "name": "stdout",
     "output_type": "stream",
     "text": [
      "This should be true:  True\n",
      "This should be false:  False\n",
      "This should be false:  False\n",
      "This should be true:  True\n",
      "different lengths\n",
      "This should be false:  False\n"
     ]
    }
   ],
   "source": [
    "from abc import ABCMeta, abstractmethod # need these definitions \n",
    "\n",
    "class Sequence(metaclass=ABCMeta):\n",
    "    '''Our own version of collections.Sequence abstract base class.'''\n",
    "    def __init__(self, value='abcde'):\n",
    "        self.value = value\n",
    "        super(Sequence, self).__init__()\n",
    "        \n",
    "    @abstractmethod \n",
    "    def len(self):\n",
    "        '''Return the length of the sequence.'''\n",
    "\n",
    "    @abstractmethod\n",
    "    def getitem (self, j):\n",
    "        '''Return the element at index j of the sequence.'''\n",
    "\n",
    "    def contains(self, val):\n",
    "        '''Return True if val found in the sequence; False otherwise.'''\n",
    "        for j in range(len(self)):\n",
    "            if self[j] == val: # found match\n",
    "                return True\n",
    "\n",
    "            return False\n",
    "    \n",
    "    def index(self, val):\n",
    "        '''Return leftmost index at which val is found (or raise ValueError).''' \n",
    "        for j in range(len(self)):\n",
    "            if self[j] == val: # leftmost match\n",
    "                return j\n",
    "\n",
    "        raise ValueError( value not in sequence ) # never found a match\n",
    "\n",
    "\n",
    "    def count(self, val):\n",
    "        '''Return the number of elements equal to given value.'''\n",
    "        k=0\n",
    "\n",
    "        for j in range(len(self)):\n",
    "            if self[j] == val: # found a match k += 1\n",
    "                return k\n",
    "    \n",
    "    def eq(self, seq2):\n",
    "        if(self.value == seq2):\n",
    "            return True\n",
    "        \n",
    "        return False\n",
    "    \n",
    "    def __lt__(self,other):\n",
    "\n",
    "        if len(self.value)!=len(other):\n",
    "            print(\"different lengths\")\n",
    "            return False\n",
    "        for j in range(len(self.value)):\n",
    "            if self.value[j]>=other[j]:\n",
    "                return False\n",
    "        \n",
    "        return True\n",
    "\n",
    "class SubSequence(Sequence):\n",
    "    \"\"\"Implementation of base class.\"\"\"\n",
    "\n",
    "    def len(self):\n",
    "        '''Return the length of the sequence.'''\n",
    "        return len(self)\n",
    "\n",
    "    def getitem (self, j):\n",
    "        '''Return the element at index j of the sequence.'''\n",
    "        return self[j]\n",
    "        \n",
    "# seq1 = 'abcde'\n",
    "# seq2 = 'abcde'\n",
    "print(\"This should be true: \", SubSequence().eq('abcde'))\n",
    "print(\"This should be false: \", SubSequence().eq('abcd'))\n",
    "print(\"This should be false: \", SubSequence().__lt__('ABCDE'))\n",
    "print(\"This should be true: \", SubSequence().__lt__('sutvw'))\n",
    "print(\"This should be false: \", SubSequence().__lt__('abcd'))"
   ]
  },
  {
   "cell_type": "markdown",
   "metadata": {},
   "source": [
    "## Exercises: Creativity\n"
   ]
  },
  {
   "cell_type": "markdown",
   "metadata": {},
   "source": [
    "### C-2.24\n",
    "Suppose you are on the design team for a new e-book reader. What are the primary classes and methods that the Python software for your reader will need? You should include an inheritance diagram for this code, but you do not need to write any actual code. Your software architecture should at least include ways for customers to buy new books, view their list of purchased books, and read their purchased books.\n",
    "\n",
    "### C-2.25\n",
    "Exercise R-2.12 uses the __mul__ method to support multiplying a Vector by a number, while Exercise R-2.14 uses the __mul__  method to support computing a dot product of two vectors. Give a single implementation of Vector.__mul__ that uses run-time type checking to support both syntaxes u * v and u * k, where u and v designate vector instances and k represents a number.\n",
    "\n",
    "#### Solution:\n",
    "\n",
    "Above in R-2.12"
   ]
  },
  {
   "cell_type": "markdown",
   "metadata": {},
   "source": [
    "### C-2.26\n",
    "The SequenceIterator class of Section 2.3.4 provides what is known as a forward iterator. Implement a class named ReversedSequenceIterator that serves as a reverse iterator for any Python sequence type. The first call to next should return the last element of the sequence, the second call to next should return the second-to-last element, and so forth.\n",
    "\n",
    "#### Solution:"
   ]
  },
  {
   "cell_type": "code",
   "execution_count": 18,
   "metadata": {
    "ExecuteTime": {
     "end_time": "2019-10-04T12:04:21.651897Z",
     "start_time": "2019-10-04T12:04:21.642965Z"
    }
   },
   "outputs": [
    {
     "data": {
      "text/plain": [
       "2"
      ]
     },
     "execution_count": 18,
     "metadata": {},
     "output_type": "execute_result"
    }
   ],
   "source": [
    "class SequenceIterator:\n",
    "    '''An iterator for any of Python s sequence types.'''\n",
    "    def __init__(self, sequence):\n",
    "        '''Create an iterator for the given sequence.'''\n",
    "        self.seq = sequence # keep a reference to the underlying data self. k = −1 # will increment to 0 on first call to next\n",
    "        self._k = -1\n",
    "        \n",
    "    def __next__(self):\n",
    "        '''Return the next element, or else raise StopIteration error.'''\n",
    "        self._k += 1 # advance to next index\n",
    "    \n",
    "        if self._k < len(self. seq): # return the data element\n",
    "            return(self. seq[self._k]) \n",
    "        else: # there are no more elements\n",
    "            raise StopIteration( )\n",
    "    \n",
    "    def __iter__(self):\n",
    "        '''By convention, an iterator must return itself as an iterator.'''\n",
    "        return self\n",
    "    \n",
    "a = SequenceIterator([1,2,3,4,5])\n",
    "a.__next__()\n",
    "a.__next__()"
   ]
  },
  {
   "cell_type": "code",
   "execution_count": 19,
   "metadata": {
    "ExecuteTime": {
     "end_time": "2019-10-04T12:04:21.661250Z",
     "start_time": "2019-10-04T12:04:21.653893Z"
    }
   },
   "outputs": [
    {
     "data": {
      "text/plain": [
       "4"
      ]
     },
     "execution_count": 19,
     "metadata": {},
     "output_type": "execute_result"
    }
   ],
   "source": [
    "class ReverseSequenceIterator:\n",
    "    '''An iterator for any of Python s sequence types.'''\n",
    "    def __init__(self, sequence):\n",
    "        \"\"\"Create an iterator for the given sequence.\"\"\"\n",
    "        self.seq = sequence\n",
    "        self._k = 0\n",
    "\n",
    "    def __next__(self):\n",
    "        \"\"\"Return the next element, or else raise StopIteration error.\"\"\"\n",
    "        self._k -= 1                  # advance to the next index\n",
    "        if -self._k <= len(self.seq):\n",
    "            return(self.seq[self._k])  # return the data element if no issue with indexing\n",
    "        else:\n",
    "            raise StopIteration()       # there are no more elements\n",
    "\n",
    "    def __str__(self):\n",
    "        return \"  \".join(str(next(self)) for i in self.seq)\n",
    "    \n",
    "b = ReverseSequenceIterator([1,2,3,4,5])\n",
    "b.__next__()\n",
    "b.__next__()"
   ]
  },
  {
   "cell_type": "markdown",
   "metadata": {
    "pycharm": {
     "name": "#%% md\n"
    }
   },
   "source": [
    "### C-2.27\n",
    "In Section 2.3.5, we note that our version of the Range class has implicit support for iteration, due to its explicit support of both `__len__` and `__getitem__`. The class also receives implicit support of the Boolean test, `k in r` for Range `r`. This test is evaluated based on a forward iteration through the range, as evidenced by the relative quickness of the test `2 in Range(10000000)` versus `9999999 in Range(10000000)`. Provide a more efficient implementation of the `__contains__` method to determine whether a particular value lies within a given range. The running time of your method should be independent of the length of the range.\n",
    "\n",
    "#### Solution:"
   ]
  },
  {
   "cell_type": "code",
   "execution_count": 20,
   "metadata": {
    "ExecuteTime": {
     "end_time": "2019-10-04T12:04:21.668844Z",
     "start_time": "2019-10-04T12:04:21.663198Z"
    },
    "pycharm": {
     "is_executing": false,
     "name": "#%%\n"
    }
   },
   "outputs": [],
   "source": [
    "class Range:\n",
    "    \"\"\"A class that mimic's the built-in range class.\"\"\"\n",
    "    \n",
    "    def __init__(self, start, stop=None, step=1):\n",
    "        \"\"\"Initialize a Range Instance\n",
    "        Semantics is similar to built-in range class\n",
    "        \"\"\"\n",
    "        if step == 0:\n",
    "            raise ValueError('step cannot be 0')\n",
    "        \n",
    "        if stop is None:\n",
    "            start, stop = 0, start\n",
    "            \n",
    "        # calculate the effective length once\n",
    "        self._length = max(0, (stop - start + step -1) // step)\n",
    "        \n",
    "        # need knowledge of start and step (but not step) to support _-getitem__\n",
    "        self._start = start\n",
    "        self._step = step\n",
    "        \n",
    "    def __len__(self):\n",
    "        \"\"\"Return number of entries in the range.\"\"\"\n",
    "        return self._length\n",
    "    \n",
    "    def __getitem__(self, k):\n",
    "        \"\"\"Return entry at index k (using standard interpretation if negative.)\"\"\"\n",
    "        if k < 0:\n",
    "            k += len(self)\n",
    "        \n",
    "        if not 0 <= k < self._length:\n",
    "            raise IndexError('index out of range')\n",
    "        \n",
    "        return self._start + k * self._step\n"
   ]
  },
  {
   "cell_type": "code",
   "execution_count": 21,
   "metadata": {
    "ExecuteTime": {
     "end_time": "2019-10-04T12:04:23.393277Z",
     "start_time": "2019-10-04T12:04:21.670946Z"
    },
    "pycharm": {
     "is_executing": false,
     "name": "#%%\n"
    }
   },
   "outputs": [
    {
     "name": "stdout",
     "output_type": "stream",
     "text": [
      "5.0067901611328125e-05\n",
      "1.7180941104888916\n"
     ]
    }
   ],
   "source": [
    "start = time.time()\n",
    "2 in Range(2, 10, 2)\n",
    "end = time.time()\n",
    "print(end - start)\n",
    "\n",
    "start = time.time()\n",
    "9999998 in Range(2, 10000000, 2)\n",
    "end = time.time()\n",
    "print(end - start)"
   ]
  },
  {
   "cell_type": "markdown",
   "metadata": {
    "pycharm": {
     "is_executing": false,
     "name": "#%% md\n"
    }
   },
   "source": [
    "We've just confirmed that implicit iteration is not efficient for our `Range` class. Let's improve it! by defining a custom `__contains__`."
   ]
  },
  {
   "cell_type": "markdown",
   "metadata": {
    "pycharm": {
     "name": "#%% md\n"
    }
   },
   "source": [
    "#### Solution"
   ]
  },
  {
   "cell_type": "code",
   "execution_count": 22,
   "metadata": {
    "ExecuteTime": {
     "end_time": "2019-10-04T12:04:23.403709Z",
     "start_time": "2019-10-04T12:04:23.395779Z"
    },
    "pycharm": {
     "is_executing": false,
     "name": "#%%\n"
    }
   },
   "outputs": [],
   "source": [
    "class Range:\n",
    "    \"\"\"A class that mimic's the built-in range class.\"\"\"\n",
    "    \n",
    "    def __init__(self, start, stop=None, step=1):\n",
    "        \"\"\"Initialize a Range Instance\n",
    "        Semantics is similar to built-in range class\n",
    "        \"\"\"\n",
    "        if step == 0:\n",
    "            raise ValueError('step cannot be 0')\n",
    "        \n",
    "        if stop is None:\n",
    "            start, stop = 0, start\n",
    "            \n",
    "        # calculate the effective length once\n",
    "        self._length = max(0, (stop - start + step -1) // step)\n",
    "        \n",
    "        # need knowledge of start and step (but not step) to support _-getitem__\n",
    "        self._start = start\n",
    "        self._step = step\n",
    "        \n",
    "    def __len__(self):\n",
    "        \"\"\"Return number of entries in the range.\"\"\"\n",
    "        return self._length\n",
    "    \n",
    "    def __getitem__(self, k):\n",
    "        \"\"\"Return entry at index k (using standard interpretation if negative.)\"\"\"\n",
    "        if k < 0:\n",
    "            k += len(self)\n",
    "        \n",
    "        if not 0 <= k < self._length:\n",
    "            raise IndexError('index out of range')\n",
    "        \n",
    "        return self._start + k * self._step\n",
    "\n",
    "    def __contains__(self, item):\n",
    "        return True if (item - self._start) % self._step == 0 else False # Use modulo to check if even"
   ]
  },
  {
   "cell_type": "code",
   "execution_count": 23,
   "metadata": {
    "ExecuteTime": {
     "end_time": "2019-10-04T12:04:23.410911Z",
     "start_time": "2019-10-04T12:04:23.405846Z"
    },
    "pycharm": {
     "is_executing": false,
     "name": "#%%\n"
    }
   },
   "outputs": [
    {
     "name": "stdout",
     "output_type": "stream",
     "text": [
      "7.200241088867188e-05\n",
      "6.604194641113281e-05\n"
     ]
    }
   ],
   "source": [
    "start = time.time()\n",
    "2 in Range(2, 10, 2)\n",
    "end = time.time()\n",
    "print(end - start)\n",
    "\n",
    "start = time.time()\n",
    "9999998 in Range(2, 10000000, 2)\n",
    "end = time.time()\n",
    "print(end - start)"
   ]
  },
  {
   "cell_type": "markdown",
   "metadata": {},
   "source": [
    "### C-2.28\n",
    "The PredatoryCreditCard class of Section 2.4.1 provides a process month method that models the completion of a monthly cycle. Modify the class so that once a customer has made ten calls to charge in the current month, each additional call to that function results in an additional $1 surcharge.\n"
   ]
  },
  {
   "cell_type": "markdown",
   "metadata": {},
   "source": [
    "### C-2.29\n",
    "Modify the PredatoryCreditCard class from Section 2.4.1 so that a customer is assigned a minimum monthly payment, as a percentage of the balance, and so that a late fee is assessed if the customer does not subsequently pay that minimum amount before the next monthly cycle."
   ]
  },
  {
   "cell_type": "markdown",
   "metadata": {},
   "source": [
    "### C-2.30\n",
    "At the close of Section 2.4.1, we suggest a model in which the CreditCard class supports a nonpublic method, set balance(b), that could be used by subclasses to affect a change to the balance, without directly accessing the balance data member. Implement such a model, revising both the CreditCard and PredatoryCreditCard classes accordingly.\n",
    "\n",
    "#### Solution"
   ]
  },
  {
   "cell_type": "code",
   "execution_count": 24,
   "metadata": {
    "ExecuteTime": {
     "end_time": "2019-10-04T12:04:23.435414Z",
     "start_time": "2019-10-04T12:04:23.412979Z"
    }
   },
   "outputs": [
    {
     "name": "stdout",
     "output_type": "stream",
     "text": [
      "====================== Qn 1 =======================\n",
      "Charged extra\n",
      "====================== Qn 2 =======================\n",
      "11.109207873069243\n",
      "====================== Qn 3 =======================\n"
     ]
    },
    {
     "data": {
      "text/plain": [
       "10"
      ]
     },
     "execution_count": 24,
     "metadata": {},
     "output_type": "execute_result"
    }
   ],
   "source": [
    "class CreditCard:\n",
    "    \"\"\"\n",
    "    A consumer credit card.\n",
    "    \"\"\"\n",
    "\n",
    "    def __init__(self, customer=\"John\", bank=\"OCBC\", acnt=\"1357\", limit=0, balance=0):\n",
    "        \"\"\"Create a new credit card instance.\n",
    "        The initial balance is zero.\n",
    "        customer  the name of the customer (e.g., 'John Bowman')\n",
    "        bank      the name of the bank (e.g., 'California Savings')\n",
    "        acnt      the acount identifier (e.g., '5391 0375 9387 5309')\n",
    "        limit     credit limit (measured in dollars)\n",
    "        \"\"\"\n",
    "        self._customer = customer\n",
    "        self._bank = bank\n",
    "        self._account = acnt\n",
    "        self._limit = limit\n",
    "        \n",
    "        #self._balance = balance\n",
    "        self._set_balance_(balance)\n",
    "    \n",
    "    def get_customer(self):\n",
    "        \"\"\"Return name of the customer.\"\"\"\n",
    "        return self._customer\n",
    "\n",
    "    def get_bank(self):\n",
    "        \"\"\"Return the bank's name.\"\"\"\n",
    "        return self._bank\n",
    "\n",
    "    def get_account(self):\n",
    "        \"\"\"Return the card identifying number (typically stored as a string).\"\"\"\n",
    "        return self._account\n",
    "\n",
    "    def get_limit(self):\n",
    "        \"\"\"Return current credit limit.\"\"\"\n",
    "        return self._limit\n",
    "\n",
    "    def get_balance(self):\n",
    "        \"\"\"Return current balance.\"\"\"\n",
    "        return self._balance\n",
    "        \n",
    "    def _set_balance_(self, balance):\n",
    "        \"\"\"Return current balance.\"\"\"\n",
    "        self._balance = balance\n",
    "\n",
    "    def charge(self, price):\n",
    "        \"\"\"\n",
    "        Charge given price to the card, assuming sufficient credit limit.\n",
    "        Return True if charge was processed; False if charge was denied.\n",
    "        \"\"\"\n",
    "        try:\n",
    "            if price + self._balance > self._limit:  # if charge would exceed limit,\n",
    "                print(\"Error, current balance is {} + {} which is insufficient for {}\".format(self._balance, price, self._limit))\n",
    "                return False                           # cannot accept charge\n",
    "            else:\n",
    "                self._balance += price\n",
    "            return True\n",
    "        except TypeError:\n",
    "            return False\n",
    "\n",
    "    def make_payment(self, amount):\n",
    "        \"\"\"Process customer payment that reduces balance.\"\"\"\n",
    "        try:\n",
    "            self._balance -= amount\n",
    "            if amount < 0:\n",
    "                raise ValueError(\"check again ! ValueError ! amount must >= 0\")\n",
    "            else:\n",
    "                print(\"Paid successfully!\")\n",
    "        except TypeError:\n",
    "            print(\"check again ! TypeError\")\n",
    "        except ValueError as ve:\n",
    "            print(ve)\n",
    "\n",
    "class PredatoryCreditCard(CreditCard):\n",
    "    \"\"\"An extension to CreditCard that compounds interest and fees.\"\"\"\n",
    "  \n",
    "    def __init__(self, customer, bank, acnt, limit, apr):\n",
    "        \"\"\"Create a new predatory credit card instance.\n",
    "        The initial balance is zero.\n",
    "        customer  the name of the customer (e.g., 'John Bowman')\n",
    "        bank      the name of the bank (e.g., 'California Savings')\n",
    "        acnt      the acount identifier (e.g., '5391 0375 9387 5309')\n",
    "        limit     credit limit (measured in dollars)\n",
    "        apr       annual percentage rate (e.g., 0.0825 for 8.25% APR)\n",
    "        \"\"\"\n",
    "        super().__init__(customer, bank, acnt, limit)  # call super constructor\n",
    "        self._apr = apr\n",
    "        self._counter = 0\n",
    "        self._minMonthlyPayment = 0\n",
    "\n",
    "    def charge(self, price):\n",
    "        \"\"\"Charge given price to the card, assuming sufficient credit limit.\n",
    "        Return True if charge was processed.\n",
    "        Return False and assess $5 fee if charge is denied.\n",
    "        \"\"\"\n",
    "        if self._counter >= 10:\n",
    "            success = super().charge(price + 1)          # call inherited method\n",
    "            print(\"Charged extra\")\n",
    "        else:\n",
    "            success = super().charge(price)\n",
    "            self._counter += 1\n",
    "        if not success:\n",
    "            self._balance += 5                     # assess penalty\n",
    "        return success                           # caller expects return value\n",
    "\n",
    "    def process_month(self):\n",
    "        \"\"\"Assess monthly interest on outstanding balance.\"\"\"\n",
    "        if self._balance > 0:\n",
    "            # if positive balance, convert APR to monthly multiplicative factor\n",
    "            monthly_factor = pow(1 + self._apr, 1/12)\n",
    "            self._balance *= monthly_factor\n",
    "        \n",
    "        self._counter = 0\n",
    "        self._minMonthlyPayment = 0.1 * self._balance\n",
    "    \n",
    "    def get_minPayment(self):\n",
    "        return self._minMonthlyPayment\n",
    "\n",
    "        \n",
    "a = PredatoryCreditCard('John Bowman', 'California Savings',\n",
    "                           '5391 0375 9387 5309', 2500, 0.01)\n",
    "\n",
    "\n",
    "print(\"====================== Qn 1 =======================\")\n",
    "for val in range(1, 12): \n",
    "    a.charge(10)\n",
    "\n",
    "print(\"====================== Qn 2 =======================\")\n",
    "a.process_month()\n",
    "print(a.get_minPayment())\n",
    "\n",
    "print(\"====================== Qn 3 =======================\")\n",
    "\n",
    "a.get_balance()\n",
    "a._set_balance_(10)\n",
    "a.get_balance()\n"
   ]
  },
  {
   "cell_type": "markdown",
   "metadata": {},
   "source": [
    "### C-2.31\n",
    "Write a Python class that extends the Progression class so that each value in the progression is the absolute value of the difference between the previous two values. You should include a constructor that accepts a pair of numbers as the first two values, using 2 and 200 as the defaults."
   ]
  },
  {
   "cell_type": "markdown",
   "metadata": {},
   "source": [
    "### C-2.32\n",
    "Write a Python class that extends the Progression class so that each value in the progression is the square root of the previous value. (Note that you can no longer represent each value with an integer.) Your constructor should accept an optional parameter specifying the start value, using 65,536 as a default.\n",
    "\n",
    "#### Solution"
   ]
  },
  {
   "cell_type": "code",
   "execution_count": 25,
   "metadata": {
    "ExecuteTime": {
     "end_time": "2019-10-04T12:04:23.450202Z",
     "start_time": "2019-10-04T12:04:23.438829Z"
    }
   },
   "outputs": [
    {
     "name": "stdout",
     "output_type": "stream",
     "text": [
      "====================== Qn 1 =======================\n",
      "2 200 198 2 196 194 2 192 190 2\n",
      "====================== Qn 2 =======================\n",
      "65536 256.0 16.0 4.0 2.0\n"
     ]
    }
   ],
   "source": [
    "class MinusProgression(Progression):\n",
    "    \"\"\"\n",
    "    Create a new minus progression.\n",
    "    first      the first term of the progression (default 2)\n",
    "    second     the second term of the progression (default 200)\n",
    "    \"\"\"\n",
    "    def __init__(self, first=2, second=200):\n",
    "        \"\"\"input two numbers\"\"\"\n",
    "        super().__init__(first)\n",
    "        self._second = second\n",
    "\n",
    "    def _advance(self, ):\n",
    "        self._current, self._second = self._second, abs(self._second - self._current)\n",
    "\n",
    "\n",
    "class RootProgression(Progression):\n",
    "    \"\"\"\n",
    "    Create a new root progression.\n",
    "    start      the first term of the progression (default 65536)\n",
    "    \"\"\"\n",
    "    def __init__(self, start=65536):\n",
    "        \"\"\"input two numbers\"\"\"\n",
    "        super().__init__(start)\n",
    "\n",
    "    def _advance(self, ):\n",
    "        self._current = self._current**0.5\n",
    "        \n",
    "        \n",
    "print(\"====================== Qn 1 =======================\")\n",
    "a = MinusProgression()\n",
    "a.print_progression(10)\n",
    "\n",
    "print(\"====================== Qn 2 =======================\")\n",
    "a = RootProgression()\n",
    "a.print_progression(5)\n",
    "\n"
   ]
  },
  {
   "cell_type": "markdown",
   "metadata": {},
   "source": [
    "## Exercises: Projects\n"
   ]
  },
  {
   "cell_type": "markdown",
   "metadata": {},
   "source": [
    "### P-2.33\n",
    "Write a Python program that inputs a polynomial in standard algebraic notation and outputs the first derivative of that polynomial.\n",
    "\n",
    "#### Solution"
   ]
  },
  {
   "cell_type": "code",
   "execution_count": 26,
   "metadata": {
    "ExecuteTime": {
     "end_time": "2019-10-04T12:04:23.459071Z",
     "start_time": "2019-10-04T12:04:23.452061Z"
    }
   },
   "outputs": [
    {
     "name": "stdout",
     "output_type": "stream",
     "text": [
      "[6, 2, 0]\n"
     ]
    }
   ],
   "source": [
    "def first_polynomial(polynomial):\n",
    "    \"\"\"\n",
    "    Create a polynomial based on a list.\n",
    "    \n",
    "    Returns     coefficients of first derivative\n",
    "    \"\"\"\n",
    "    result = []\n",
    "    try:\n",
    "        lenth = len(polynomial)\n",
    "        for k in reversed(range(lenth)):\n",
    "            if not isinstance(polynomial[lenth-k-1], (int, float)):\n",
    "                raise ValueError\n",
    "            result.append(k * polynomial[lenth-k-1])\n",
    "        return result\n",
    "    except:\n",
    "        print(\"Check input! ValueError!\")\n",
    "        return False\n",
    "\n",
    "print(first_polynomial([3, 2, 1]))\n"
   ]
  },
  {
   "cell_type": "markdown",
   "metadata": {},
   "source": [
    "### P-2.34\n",
    "Write a Python program that inputs a document and then outputs a barchart plot of the frequencies of each alphabet character that appears in that document.\n",
    "\n",
    "#### Solution"
   ]
  },
  {
   "cell_type": "code",
   "execution_count": 27,
   "metadata": {
    "ExecuteTime": {
     "end_time": "2019-10-04T12:04:23.474437Z",
     "start_time": "2019-10-04T12:04:23.461031Z"
    }
   },
   "outputs": [
    {
     "name": "stdout",
     "output_type": "stream",
     "text": [
      "a XXXXXXXXXXXXXXXXXXXXXXXXXXXXXXXXXX\n",
      "b \n",
      "c XXXXXXXXXXXXXXXX\n",
      "d XXXXXX\n",
      "e XXXXXXXXXXXXXXXXXXXXXXXXX\n",
      "f XXXXXXXXXXXXXXX\n",
      "g XXXXX\n",
      "h XXXXXXXXXXXXXXXXXXXX\n",
      "i XXXXXXXXXXXXXXXXX\n",
      "j \n",
      "k \n",
      "l XXXXXXXXXXXXXXXXX\n",
      "m \n",
      "n XXXXXXXXXXXXXX\n",
      "o XXXXXXXXXXX\n",
      "p XXXXXXXXXXXXXXXX\n",
      "q XXXXXXX\n",
      "r XXXXXXXXXXXXXXXXXXXXXXXXXX\n",
      "s XXXXXXX\n",
      "t XXXXXXXXXX\n",
      "u XXXX\n",
      "v \n",
      "w X\n",
      "x \n",
      "y X\n",
      "z X\n",
      "A X\n",
      "B \n",
      "C \n",
      "D XXXXX\n",
      "E \n",
      "F \n",
      "G \n",
      "H \n",
      "I \n",
      "J \n",
      "K \n",
      "L \n",
      "M \n",
      "N \n",
      "O \n",
      "P X\n",
      "Q \n",
      "R X\n",
      "S \n",
      "T \n",
      "U \n",
      "V \n",
      "W \n",
      "X \n",
      "Y \n",
      "Z X\n"
     ]
    }
   ],
   "source": [
    "freqDic = {}\n",
    "with open('P2_34.py') as f:\n",
    "    #Read source file and calculate the frequences\n",
    "    for line in f:\n",
    "        for char in line:\n",
    "            if char.isalpha():\n",
    "                freqDic[char] = freqDic.get(char, 0) + 1\n",
    "                \n",
    "#plot the frequences\n",
    "for alpha in range(ord('a'), ord('z')+1):\n",
    "    alpha = chr(alpha)\n",
    "    print(\"%s \" % (alpha) + \"X\"*freqDic.get(alpha, 0))\n",
    "for alpha in range(ord('A'), ord('Z')+1):\n",
    "    alpha = chr(alpha)\n",
    "    print(\"%s \" % (alpha) + \"X\"*freqDic.get(alpha, 0))"
   ]
  },
  {
   "cell_type": "markdown",
   "metadata": {},
   "source": [
    "### P-2.35\n",
    "Write a set of Python classes that can simulate an Internet application in which one party, Alice, is periodically creating a set of packets that she wants to send to Bob. An Internet process is continually checking if Alice has any packets to send, and if so, it delivers them to Bob’s computer, and Bob is periodically checking if his computer has a packet from Alice, and, if so, he reads and deletes it.\n",
    "\n",
    "#### Solution"
   ]
  },
  {
   "cell_type": "code",
   "execution_count": 28,
   "metadata": {
    "ExecuteTime": {
     "end_time": "2019-10-04T12:04:23.493574Z",
     "start_time": "2019-10-04T12:04:23.476145Z"
    }
   },
   "outputs": [
    {
     "name": "stdout",
     "output_type": "stream",
     "text": [
      "Time is 0\n",
      "Time is 1\n",
      "Time is 2\n",
      "Created the packet XwOWbDiEChi]hXIjq\n",
      "Bob detected the packet\n",
      "Time is 3\n",
      "Time is 4\n",
      "Created the packet JDeLnOVP\n",
      "Bob detected the packet\n",
      "Time is 5\n",
      "Time is 6\n",
      "Created the packet eaQhwJzwwvIvu\n",
      "Bob detected the packet\n",
      "Time is 7\n",
      "Created the packet xipiJCAe^TmUrqEaC\n",
      "Bob detected the packet\n",
      "Time is 8\n",
      "Created the packet ojdesQefZpMJvVyTgT\n",
      "Bob detected the packet\n",
      "Time is 9\n",
      "Time is 10\n",
      "Time is 11\n",
      "Time is 12\n",
      "Time is 13\n",
      "Created the packet h^RLO\n",
      "Bob detected the packet\n",
      "Time is 14\n",
      "Time is 15\n",
      "Time is 16\n",
      "Time is 17\n",
      "Created the packet LGyXwV^uetoQxS\n",
      "Bob detected the packet\n",
      "Time is 18\n",
      "Created the packet TEsWTFD`jEWN\n",
      "Bob detected the packet\n",
      "Time is 19\n"
     ]
    }
   ],
   "source": [
    "import random\n",
    "\n",
    "class AliceBot():\n",
    "    \"\"\"\n",
    "    Creates packets with probability x.\n",
    "    act()      calls _create_packet()\n",
    "    \"\"\"\n",
    "    CHANCE_OF_ACTING = 0.3\n",
    "    \n",
    "    def __init__(self):\n",
    "        self._current_packet = None\n",
    "    \n",
    "    def act(self):\n",
    "        if random.random() <= self.CHANCE_OF_ACTING:\n",
    "            self._current_packet = self._create_packet()\n",
    "            return True\n",
    "        else: \n",
    "            return False\n",
    "    \n",
    "    def _create_packet(self):\n",
    "        length = random.randint(5,20)\n",
    "        packet = [' '] * length\n",
    "        for i in range(length):\n",
    "            packet[i] = chr(random.randint(ord('A'), ord('z')))\n",
    "        return ''.join(packet)\n",
    "    \n",
    "    def get_packet(self):\n",
    "        return self._current_packet\n",
    "    \n",
    "    def delete_packet(self):\n",
    "        self._current_packet = None\n",
    "\n",
    "\n",
    "class InternetBot():\n",
    "    \"\"\"\n",
    "    Takes object Alice.\n",
    "    \"\"\"\n",
    "    def __init__(self):\n",
    "        self._new_packet = False\n",
    "        self._Alice = None\n",
    "    \n",
    "    def check_for_packet(self):\n",
    "        if self._Alice.get_packet() is not None:\n",
    "            return True\n",
    "        else:\n",
    "            return False\n",
    "        \n",
    "    def read_packet(self):\n",
    "        if self._new_packet:\n",
    "            return self._Alice.get_packet()\n",
    "        else:\n",
    "            return None\n",
    "        \n",
    "    def delete_packet(self):\n",
    "        self._Alice.delete_packet()\n",
    "        \n",
    "    def assign_Alice(self, alice):\n",
    "        self._Alice = alice\n",
    "\n",
    "class BobBot():\n",
    "    \"\"\"\n",
    "    Always checking internet for packets.\n",
    "    \"\"\"\n",
    "    def check_for_packet(self, other):\n",
    "        if other.check_for_packet():\n",
    "            return True\n",
    "        else:\n",
    "            return False\n",
    "        \n",
    "    def delete_packet(self, other):\n",
    "        other.delete_packet()\n",
    "\n",
    "\n",
    "Alice = AliceBot()\n",
    "Internet = InternetBot()\n",
    "Internet.assign_Alice(Alice)\n",
    "Bob = BobBot()\n",
    "\n",
    "for i in range(20):\n",
    "    print(f'Time is {i}')\n",
    "    if Alice.act(): print('Created the packet', Alice.get_packet())    \n",
    "    if Bob.check_for_packet(Internet): \n",
    "        print('Bob detected the packet')\n",
    "        Bob.delete_packet(Internet)"
   ]
  },
  {
   "cell_type": "markdown",
   "metadata": {
    "pycharm": {
     "name": "#%% md\n"
    }
   },
   "source": [
    "### P-2.36\n",
    "Write a Python program to simulate an ecosystem containing two types of creatures, **bears** and **fish**. The ecosystem consists of a river, which is modeled as a relatively large list. Each element of the list should be a `Bear` object, a `Fish` object, or `None`. In each time step, based on a random process, each animal either attempts to move into an adjacent list location or stay where it is. If two animals of the same type are about to collide in the same cell, then they stay where they are, but they create a new instance of that type of animal, which is placed in a random empty (i.e., previously None) location in the list. If a bear and a fish collide, however, then the fish died (i.e., it disappears)."
   ]
  },
  {
   "cell_type": "markdown",
   "metadata": {
    "pycharm": {
     "name": "#%% md\n"
    }
   },
   "source": [
    "#### Solution"
   ]
  },
  {
   "cell_type": "markdown",
   "metadata": {
    "pycharm": {
     "name": "#%% md\n"
    }
   },
   "source": [
    "Let's define Creature and its subclass first."
   ]
  },
  {
   "cell_type": "code",
   "execution_count": 29,
   "metadata": {
    "ExecuteTime": {
     "end_time": "2019-10-04T12:04:23.514659Z",
     "start_time": "2019-10-04T12:04:23.500234Z"
    },
    "pycharm": {
     "is_executing": false,
     "name": "#%%\n"
    }
   },
   "outputs": [],
   "source": [
    "from abc import ABCMeta, abstractmethod\n",
    "\n",
    "class Creature(metaclass=ABCMeta):\n",
    "    \n",
    "    def __init__(self, ind, strength = 1.0, gender = True):\n",
    "        self.ind = ind  # Index of a creature in ecosystem.\n",
    "        self._strength = strength\n",
    "        self._gender = gender\n",
    "        \n",
    "    @abstractmethod\n",
    "    def move(self):\n",
    "        \"\"\"Return index to move\"\"\"\n",
    "        \n",
    "    @property\n",
    "    def strength(self):\n",
    "        return self._strength\n",
    "\n",
    "    @strength.setter\n",
    "    def strength(self, var):\n",
    "        self._strength = var\n",
    "        \n",
    "    @property\n",
    "    def gender(self):\n",
    "        return self._gender\n",
    "\n",
    "    @gender.setter\n",
    "    def gender(self, var):\n",
    "        self._gender = var\n",
    "        \n",
    "class Bear(Creature):\n",
    "\n",
    "    def __repr__(self):\n",
    "        return \"Bear(%s)\" % self.ind\n",
    "    \n",
    "    def move(self):\n",
    "        to = np.random.choice([-1, 1])\n",
    "        new_ind = self.ind + to\n",
    "        print(self, \"moves\", \"left\" if to == -1 else \"right\")\n",
    "        return new_ind\n",
    "        \n",
    "class Fish(Creature):\n",
    "    \n",
    "    def __repr__(self):\n",
    "        return \"Fish(%s)\" % self.ind\n",
    "    \n",
    "    def move(self):\n",
    "        to = np.random.choice([-1, 1])\n",
    "        new_ind = self.ind + to\n",
    "        print(self, \"moves\", \"left\" if to == -1 else \"right\")\n",
    "        return new_ind       "
   ]
  },
  {
   "cell_type": "markdown",
   "metadata": {
    "pycharm": {
     "name": "#%% md\n"
    }
   },
   "source": [
    "It's time to make our ecosystem, `River` class. I assumed it is more natural to have information about location of creatures in the ecosystem, `River`. "
   ]
  },
  {
   "cell_type": "code",
   "execution_count": 30,
   "metadata": {
    "ExecuteTime": {
     "end_time": "2019-10-04T12:04:23.529423Z",
     "start_time": "2019-10-04T12:04:23.517566Z"
    },
    "pycharm": {
     "is_executing": false,
     "name": "#%%\n"
    }
   },
   "outputs": [],
   "source": [
    "class River:\n",
    "    \n",
    "    def __init__(self, n_room):\n",
    "        self.n_room = n_room\n",
    "        self.eco = None\n",
    "    \n",
    "    def initialize(self):\n",
    "        self.eco = []\n",
    "        creatures= np.random.choice([Bear, Fish, None], size=self.n_room) # Choose n times\n",
    "        for ind, creature in enumerate(creatures):\n",
    "            self.eco.append(creature(ind) if creature is not None else None)\n",
    "    \n",
    "    def next_time_step(self, n=1, verbose=True):\n",
    "        for i in range(n):\n",
    "            moving_ind = np.random.choice(list(range(self.n_room))) # choose which index to move\n",
    "            if self.eco[moving_ind] is None: # index doesn't contain animals\n",
    "                print(\"Nothing happens...\")\n",
    "                pass\n",
    "            else:\n",
    "                new_ind = self.eco[moving_ind].move() \n",
    "                if new_ind < 0 or new_ind > len(self.eco) -1: # movement is impossible, Pass\n",
    "                    pass\n",
    "                elif isinstance(self.eco[moving_ind], Bear): # Bear-bear = pass\n",
    "                    if isinstance(self.eco[new_ind], Bear):\n",
    "                        pass\n",
    "                    elif isinstance(self.eco[new_ind], Fish): # Fish-bear = None-bear\n",
    "                        self.eco[new_ind] = Bear(new_ind)\n",
    "                        self.eco[moving_ind] = None\n",
    "                    else:\n",
    "                        self.eco[new_ind] = Bear(new_ind) # Bear-None = Bear-bear\n",
    "                elif isinstance(self.eco[moving_ind], Fish):\n",
    "                    if isinstance(self.eco[new_ind], Fish):\n",
    "                        pass\n",
    "                    elif isinstance(self.eco[new_ind], Bear):\n",
    "                        self.eco[moving_ind] = None\n",
    "                    else:\n",
    "                        self.eco[new_ind] = Fish(new_ind)\n",
    "                else:\n",
    "                    raise ValueError(\"Undefined Creature\")\n",
    "            if verbose:\n",
    "                self.display()\n",
    "        \n",
    "    def display(self):\n",
    "        print(\"===================\")\n",
    "        print(\"Ecosystem status:\\n\")\n",
    "        print(self.eco, \"\\n\")\n",
    "        print(\"===================\")\n"
   ]
  },
  {
   "cell_type": "code",
   "execution_count": 31,
   "metadata": {
    "ExecuteTime": {
     "end_time": "2019-10-04T12:04:23.536205Z",
     "start_time": "2019-10-04T12:04:23.531792Z"
    },
    "pycharm": {
     "is_executing": false,
     "name": "#%%\n"
    }
   },
   "outputs": [],
   "source": [
    "river = River(5)"
   ]
  },
  {
   "cell_type": "code",
   "execution_count": 32,
   "metadata": {
    "ExecuteTime": {
     "end_time": "2019-10-04T12:04:23.545835Z",
     "start_time": "2019-10-04T12:04:23.539405Z"
    },
    "pycharm": {
     "is_executing": false,
     "name": "#%%\n"
    }
   },
   "outputs": [
    {
     "name": "stdout",
     "output_type": "stream",
     "text": [
      "===================\n",
      "Ecosystem status:\n",
      "\n",
      "[Fish(0), Fish(1), None, Bear(3), Bear(4)] \n",
      "\n",
      "===================\n"
     ]
    }
   ],
   "source": [
    "river.initialize()\n",
    "river.display()"
   ]
  },
  {
   "cell_type": "code",
   "execution_count": 33,
   "metadata": {
    "ExecuteTime": {
     "end_time": "2019-10-04T12:04:23.560959Z",
     "start_time": "2019-10-04T12:04:23.547677Z"
    },
    "pycharm": {
     "is_executing": false,
     "name": "#%%\n"
    },
    "scrolled": true
   },
   "outputs": [
    {
     "name": "stdout",
     "output_type": "stream",
     "text": [
      "Bear(3) moves left\n",
      "===================\n",
      "Ecosystem status:\n",
      "\n",
      "[Fish(0), Fish(1), Bear(2), Bear(3), Bear(4)] \n",
      "\n",
      "===================\n",
      "Fish(1) moves right\n",
      "===================\n",
      "Ecosystem status:\n",
      "\n",
      "[Fish(0), None, Bear(2), Bear(3), Bear(4)] \n",
      "\n",
      "===================\n",
      "Bear(3) moves right\n",
      "===================\n",
      "Ecosystem status:\n",
      "\n",
      "[Fish(0), None, Bear(2), Bear(3), Bear(4)] \n",
      "\n",
      "===================\n",
      "Bear(3) moves right\n",
      "===================\n",
      "Ecosystem status:\n",
      "\n",
      "[Fish(0), None, Bear(2), Bear(3), Bear(4)] \n",
      "\n",
      "===================\n",
      "Bear(2) moves right\n",
      "===================\n",
      "Ecosystem status:\n",
      "\n",
      "[Fish(0), None, Bear(2), Bear(3), Bear(4)] \n",
      "\n",
      "===================\n",
      "Bear(2) moves left\n",
      "===================\n",
      "Ecosystem status:\n",
      "\n",
      "[Fish(0), Bear(1), Bear(2), Bear(3), Bear(4)] \n",
      "\n",
      "===================\n",
      "Bear(2) moves left\n",
      "===================\n",
      "Ecosystem status:\n",
      "\n",
      "[Fish(0), Bear(1), Bear(2), Bear(3), Bear(4)] \n",
      "\n",
      "===================\n",
      "Bear(1) moves left\n",
      "===================\n",
      "Ecosystem status:\n",
      "\n",
      "[Bear(0), None, Bear(2), Bear(3), Bear(4)] \n",
      "\n",
      "===================\n",
      "Bear(2) moves right\n",
      "===================\n",
      "Ecosystem status:\n",
      "\n",
      "[Bear(0), None, Bear(2), Bear(3), Bear(4)] \n",
      "\n",
      "===================\n",
      "Bear(2) moves right\n",
      "===================\n",
      "Ecosystem status:\n",
      "\n",
      "[Bear(0), None, Bear(2), Bear(3), Bear(4)] \n",
      "\n",
      "===================\n"
     ]
    }
   ],
   "source": [
    "river.next_time_step(10)\n"
   ]
  },
  {
   "cell_type": "markdown",
   "metadata": {},
   "source": [
    "### P-2.37\n",
    "Write a simulator, as in the previous project, but add a Boolean gender field and a floating-point strength field to each animal, using an Animal class as a base class. If two animals of the same type try to collide, then they only create a new instance of that type of animal if they are of different genders. Otherwise, if two animals of the same type and gender try to collide, then only the one of larger strength survives.\n",
    "\n",
    "#### Solution"
   ]
  },
  {
   "cell_type": "code",
   "execution_count": 34,
   "metadata": {
    "ExecuteTime": {
     "end_time": "2019-10-04T12:04:23.586662Z",
     "start_time": "2019-10-04T12:04:23.562997Z"
    }
   },
   "outputs": [],
   "source": [
    "class River:\n",
    "    \n",
    "    def __init__(self, n_room):\n",
    "        self.n_room = n_room\n",
    "        self.eco = None\n",
    "    \n",
    "    def initialize(self):\n",
    "        self.eco = []\n",
    "        creatures= np.random.choice([Bear, Fish, None], size=self.n_room) # Choose n times\n",
    "        for ind, creature in enumerate(creatures):\n",
    "            strength = ind + 1\n",
    "            if ind % 2 == 0:\n",
    "                gender = True\n",
    "            else:\n",
    "                gender = False\n",
    "            self.eco.append(creature(ind, strength, gender) if creature is not None else None)\n",
    "    \n",
    "    def next_time_step(self, n=1, verbose=True):\n",
    "        for i in range(n):\n",
    "            moving_ind = np.random.choice(list(range(self.n_room))) # choose which index to move\n",
    "            if self.eco[moving_ind] is None: # index doesn't contain animals\n",
    "                print(\"Nothing happens...\")\n",
    "                pass\n",
    "            else:\n",
    "                new_ind = self.eco[moving_ind].move() \n",
    "                if new_ind < 0 or new_ind > len(self.eco) -1: # movement is impossible, Pass\n",
    "                    pass\n",
    "                elif isinstance(self.eco[moving_ind], Bear): # Bear-bear = pass\n",
    "                    if isinstance(self.eco[new_ind], Bear):                       \n",
    "                        if self.eco[moving_ind].strength > self.eco[new_ind].strength and self.eco[moving_ind].gender == self.eco[new_ind].gender: \n",
    "                            self.eco[new_ind] = Bear(moving_ind)\n",
    "                            self.eco[moving_ind] = None\n",
    "                        elif self.eco[moving_ind].strength < self.eco[new_ind].strength and self.eco[moving_ind].gender == self.eco[new_ind].gender:\n",
    "                            self.eco[new_ind] = Bear(new_ind)\n",
    "                            self.eco[moving_ind] = None\n",
    "                        else:\n",
    "                            pass\n",
    "                    elif isinstance(self.eco[new_ind], Fish): # Fish-bear = None-bear\n",
    "                            self.eco[new_ind] = Bear(new_ind)\n",
    "                            self.eco[moving_ind] = None\n",
    "                    else:\n",
    "                        self.eco[new_ind] = Bear(new_ind) # Bear-None = Bear-bear\n",
    "                elif isinstance(self.eco[moving_ind], Fish):\n",
    "                    if isinstance(self.eco[new_ind], Fish):\n",
    "                        if self.eco[moving_ind].strength > self.eco[new_ind].strength and self.eco[moving_ind].gender == self.eco[new_ind].gender: \n",
    "                            self.eco[new_ind] = Fish(moving_ind)\n",
    "                            self.eco[moving_ind] = None\n",
    "                        elif self.eco[moving_ind].strength < self.eco[new_ind].strength and self.eco[moving_ind].gender == self.eco[new_ind].gender:\n",
    "                            self.eco[new_ind] = Fish(new_ind)\n",
    "                            self.eco[moving_ind] = None\n",
    "                        elif isinstance(self.eco[new_ind], Fish): # Fish-bear = None-bear\n",
    "                            self.eco[new_ind] = Fish(new_ind)\n",
    "                            self.eco[moving_ind] = None\n",
    "                        else:\n",
    "                            pass\n",
    "                    elif isinstance(self.eco[new_ind], Bear):\n",
    "                        self.eco[moving_ind] = None\n",
    "                    else:\n",
    "                        self.eco[new_ind] = Fish(new_ind)\n",
    "                else:\n",
    "                    raise ValueError(\"Undefined Creature\")\n",
    "            if verbose:\n",
    "                self.display()\n",
    "        \n",
    "    def display(self):\n",
    "        print(\"===================\")\n",
    "        print(\"Ecosystem status:\\n\")\n",
    "        print(self.eco, \"\\n\")\n",
    "        print(\"===================\")\n"
   ]
  },
  {
   "cell_type": "code",
   "execution_count": 35,
   "metadata": {
    "ExecuteTime": {
     "end_time": "2019-10-04T12:05:23.885430Z",
     "start_time": "2019-10-04T12:05:23.868330Z"
    }
   },
   "outputs": [
    {
     "name": "stdout",
     "output_type": "stream",
     "text": [
      "===================\n",
      "Ecosystem status:\n",
      "\n",
      "[Fish(0), Fish(1), Bear(2), None, None] \n",
      "\n",
      "===================\n",
      "Nothing happens...\n",
      "===================\n",
      "Ecosystem status:\n",
      "\n",
      "[Fish(0), Fish(1), Bear(2), None, None] \n",
      "\n",
      "===================\n",
      "Fish(0) moves right\n",
      "===================\n",
      "Ecosystem status:\n",
      "\n",
      "[None, Fish(1), Bear(2), None, None] \n",
      "\n",
      "===================\n",
      "Nothing happens...\n",
      "===================\n",
      "Ecosystem status:\n",
      "\n",
      "[None, Fish(1), Bear(2), None, None] \n",
      "\n",
      "===================\n",
      "Nothing happens...\n",
      "===================\n",
      "Ecosystem status:\n",
      "\n",
      "[None, Fish(1), Bear(2), None, None] \n",
      "\n",
      "===================\n",
      "Nothing happens...\n",
      "===================\n",
      "Ecosystem status:\n",
      "\n",
      "[None, Fish(1), Bear(2), None, None] \n",
      "\n",
      "===================\n",
      "Fish(1) moves left\n",
      "===================\n",
      "Ecosystem status:\n",
      "\n",
      "[Fish(0), Fish(1), Bear(2), None, None] \n",
      "\n",
      "===================\n",
      "Nothing happens...\n",
      "===================\n",
      "Ecosystem status:\n",
      "\n",
      "[Fish(0), Fish(1), Bear(2), None, None] \n",
      "\n",
      "===================\n",
      "Bear(2) moves right\n",
      "===================\n",
      "Ecosystem status:\n",
      "\n",
      "[Fish(0), Fish(1), Bear(2), Bear(3), None] \n",
      "\n",
      "===================\n",
      "Fish(1) moves left\n",
      "===================\n",
      "Ecosystem status:\n",
      "\n",
      "[Fish(0), None, Bear(2), Bear(3), None] \n",
      "\n",
      "===================\n",
      "Nothing happens...\n",
      "===================\n",
      "Ecosystem status:\n",
      "\n",
      "[Fish(0), None, Bear(2), Bear(3), None] \n",
      "\n",
      "===================\n"
     ]
    }
   ],
   "source": [
    "river = River(5)\n",
    "\n",
    "river.initialize()\n",
    "river.display()\n",
    "\n",
    "river.next_time_step(10)"
   ]
  },
  {
   "cell_type": "markdown",
   "metadata": {},
   "source": [
    "### P-2.38\n",
    "\n",
    "Write a Python program that simulates a system that supports the functions of an e-book reader. You should include methods for users of your system to 1) “buy” new books, 2) view their list of purchased books, and 3) read their purchased books. Your system should use actual books, which have expired copyrights and are available on the Internet, to populate your set of available books for users of your system to “purchase” and read.\n",
    "\n",
    "#### Solution"
   ]
  },
  {
   "cell_type": "code",
   "execution_count": 46,
   "metadata": {
    "ExecuteTime": {
     "end_time": "2019-10-04T13:48:53.513103Z",
     "start_time": "2019-10-04T13:48:53.447953Z"
    }
   },
   "outputs": [
    {
     "name": "stdout",
     "output_type": "stream",
     "text": [
      "Current message is: Nothing to report... \n",
      "\n",
      "You have purchased the following books:\n",
      "Book: Alice_in_Wonderland, Price: 4.427738076717406, Purchased: True\n",
      "\n",
      "The following books are available for purchase:\n",
      "Book: Frankenstein, Price: 2.470454486280893, Purchased: False\n",
      "\n",
      "Your current balance is:  995.5722619232826\n",
      "Your current book is: None\n",
      "\n",
      "Your position is:  0\n",
      "Project Gutenberg’s Alice’s Adventures in Wonderland, by Lewis Carroll\n",
      "\n",
      "\n",
      "\n",
      "This eBook is for the use of anyone anywhere at no cost and with\n",
      "\n",
      "almost no restrictions whatsoever.  You may copy it, give it away or\n",
      "\n",
      "re-use it under the terms of the Project Gutenberg License included\n",
      "\n",
      "with this eBook or online at www.gutenberg.org\n",
      "\n",
      "\n",
      "\n",
      "\n",
      "\n",
      "Title: Alice’s Adventures in Wonderland\n",
      "\n",
      "\n",
      "\n",
      "Author: Lewis Carroll\n",
      "\n",
      "\n",
      "\n",
      "Posting Date: June 25, 2008 [EBook #11]\n",
      "\n",
      "Release Date: March, 1994\n",
      "\n",
      "Last Updated: October 6, 2016\n",
      "\n",
      "Your position is:  1\n",
      "\n",
      "\n",
      "Language: English\n",
      "\n",
      "\n",
      "\n",
      "Character set encoding: UTF-8\n",
      "\n",
      "\n",
      "\n",
      "*** START OF THIS PROJECT GUTENBERG EBOOK ALICE’S ADVENTURES IN WONDERLAND ***\n",
      "\n",
      "\n",
      "\n",
      "\n",
      "\n",
      "\n",
      "\n",
      "\n",
      "\n",
      "\n",
      "\n",
      "\n",
      "\n",
      "\n",
      "\n",
      "\n",
      "\n",
      "\n",
      "\n",
      "Your position is:  2\n",
      "\n",
      "\n",
      "ALICE’S ADVENTURES IN WONDERLAND\n",
      "\n",
      "\n",
      "\n",
      "Lewis Carroll\n",
      "\n",
      "\n",
      "\n",
      "THE MILLENNIUM FULCRUM EDITION 3.0\n",
      "\n",
      "\n",
      "\n",
      "\n",
      "\n",
      "\n",
      "\n",
      "\n",
      "\n",
      "CHAPTER I. Down the Rabbit-Hole\n",
      "\n",
      "\n",
      "\n",
      "Alice was beginning to get very tired of sitting by her sister on the\n",
      "\n",
      "bank, and of having nothing to do: once or twice she had peeped into the\n",
      "\n",
      "book her sister was reading, but it had no pictures or conversations in\n",
      "\n",
      "Your position is:  3\n",
      "it, ‘and what is the use of a book,’ thought Alice ‘without pictures or\n",
      "\n",
      "conversations?’\n",
      "\n",
      "\n",
      "\n",
      "So she was considering in her own mind (as well as she could, for the\n",
      "\n",
      "hot day made her feel very sleepy and stupid), whether the pleasure\n",
      "\n",
      "of making a daisy-chain would be worth the trouble of getting up and\n",
      "\n",
      "picking the daisies, when suddenly a White Rabbit with pink eyes ran\n",
      "\n",
      "close by her.\n",
      "\n",
      "\n",
      "\n",
      "There was nothing so VERY remarkable in that; nor did Alice think it so\n",
      "\n",
      "VERY much out of the way to hear the Rabbit say to itself, ‘Oh dear!\n",
      "\n",
      "Oh dear! I shall be late!’ (when she thought it over afterwards, it\n",
      "\n",
      "occurred to her that she ought to have wondered at this, but at the time\n",
      "\n",
      "it all seemed quite natural); but when the Rabbit actually TOOK A WATCH\n",
      "\n",
      "OUT OF ITS WAISTCOAT-POCKET, and looked at it, and then hurried on,\n",
      "\n",
      "Your position is:  4\n",
      "Alice started to her feet, for it flashed across her mind that she had\n",
      "\n",
      "never before seen a rabbit with either a waistcoat-pocket, or a watch\n",
      "\n",
      "to take out of it, and burning with curiosity, she ran across the field\n",
      "\n",
      "after it, and fortunately was just in time to see it pop down a large\n",
      "\n",
      "rabbit-hole under the hedge.\n",
      "\n",
      "\n",
      "\n",
      "In another moment down went Alice after it, never once considering how\n",
      "\n",
      "in the world she was to get out again.\n",
      "\n",
      "\n",
      "\n",
      "The rabbit-hole went straight on like a tunnel for some way, and then\n",
      "\n",
      "dipped suddenly down, so suddenly that Alice had not a moment to think\n",
      "\n",
      "about stopping herself before she found herself falling down a very deep\n",
      "\n",
      "well.\n",
      "\n",
      "\n",
      "\n",
      "Either the well was very deep, or she fell very slowly, for she had\n",
      "\n",
      "Your position is:  5\n",
      "plenty of time as she went down to look about her and to wonder what was\n",
      "\n",
      "going to happen next. First, she tried to look down and make out what\n",
      "\n",
      "she was coming to, but it was too dark to see anything; then she\n",
      "\n",
      "looked at the sides of the well, and noticed that they were filled with\n",
      "\n",
      "cupboards and book-shelves; here and there she saw maps and pictures\n",
      "\n",
      "hung upon pegs. She took down a jar from one of the shelves as\n",
      "\n",
      "she passed; it was labelled ‘ORANGE MARMALADE’, but to her great\n",
      "\n",
      "disappointment it was empty: she did not like to drop the jar for fear\n",
      "\n",
      "of killing somebody, so managed to put it into one of the cupboards as\n",
      "\n",
      "she fell past it.\n",
      "\n",
      "\n",
      "\n",
      "‘Well!’ thought Alice to herself, ‘after such a fall as this, I shall\n",
      "\n",
      "think nothing of tumbling down stairs! How brave they’ll all think me at\n",
      "\n",
      "home! Why, I wouldn’t say anything about it, even if I fell off the top\n",
      "\n",
      "of the house!’ (Which was very likely true.)\n",
      "\n",
      "Your position is:  6\n",
      "\n",
      "\n",
      "Down, down, down. Would the fall NEVER come to an end! ‘I wonder how\n",
      "\n",
      "many miles I’ve fallen by this time?’ she said aloud. ‘I must be getting\n",
      "\n",
      "somewhere near the centre of the earth. Let me see: that would be four\n",
      "\n",
      "thousand miles down, I think--’ (for, you see, Alice had learnt several\n",
      "\n",
      "things of this sort in her lessons in the schoolroom, and though this\n",
      "\n",
      "was not a VERY good opportunity for showing off her knowledge, as there\n",
      "\n",
      "was no one to listen to her, still it was good practice to say it over)\n",
      "\n",
      "‘--yes, that’s about the right distance--but then I wonder what Latitude\n",
      "\n",
      "or Longitude I’ve got to?’ (Alice had no idea what Latitude was, or\n",
      "\n",
      "Longitude either, but thought they were nice grand words to say.)\n",
      "\n",
      "\n",
      "\n",
      "Presently she began again. ‘I wonder if I shall fall right THROUGH the\n",
      "\n",
      "earth! How funny it’ll seem to come out among the people that walk with\n",
      "\n",
      "their heads downward! The Antipathies, I think--’ (she was rather glad\n",
      "\n",
      "Your position is:  7\n",
      "there WAS no one listening, this time, as it didn’t sound at all the\n",
      "\n",
      "right word) ‘--but I shall have to ask them what the name of the country\n",
      "\n",
      "is, you know. Please, Ma’am, is this New Zealand or Australia?’ (and\n",
      "\n",
      "she tried to curtsey as she spoke--fancy CURTSEYING as you’re falling\n",
      "\n",
      "through the air! Do you think you could manage it?) ‘And what an\n",
      "\n",
      "ignorant little girl she’ll think me for asking! No, it’ll never do to\n",
      "\n",
      "ask: perhaps I shall see it written up somewhere.’\n",
      "\n",
      "\n",
      "\n",
      "Down, down, down. There was nothing else to do, so Alice soon began\n",
      "\n",
      "talking again. ‘Dinah’ll miss me very much to-night, I should think!’\n",
      "\n",
      "(Dinah was the cat.) ‘I hope they’ll remember her saucer of milk at\n",
      "\n",
      "tea-time. Dinah my dear! I wish you were down here with me! There are no\n",
      "\n",
      "mice in the air, I’m afraid, but you might catch a bat, and that’s very\n",
      "\n",
      "like a mouse, you know. But do cats eat bats, I wonder?’ And here Alice\n",
      "\n",
      "began to get rather sleepy, and went on saying to herself, in a dreamy\n",
      "\n",
      "Your position is:  8\n",
      "sort of way, ‘Do cats eat bats? Do cats eat bats?’ and sometimes, ‘Do\n",
      "\n",
      "bats eat cats?’ for, you see, as she couldn’t answer either question,\n",
      "\n",
      "it didn’t much matter which way she put it. She felt that she was dozing\n",
      "\n",
      "off, and had just begun to dream that she was walking hand in hand with\n",
      "\n",
      "Dinah, and saying to her very earnestly, ‘Now, Dinah, tell me the truth:\n",
      "\n",
      "did you ever eat a bat?’ when suddenly, thump! thump! down she came upon\n",
      "\n",
      "a heap of sticks and dry leaves, and the fall was over.\n",
      "\n",
      "\n",
      "\n",
      "Alice was not a bit hurt, and she jumped up on to her feet in a moment:\n",
      "\n",
      "she looked up, but it was all dark overhead; before her was another\n",
      "\n",
      "long passage, and the White Rabbit was still in sight, hurrying down it.\n",
      "\n",
      "There was not a moment to be lost: away went Alice like the wind, and\n",
      "\n",
      "was just in time to hear it say, as it turned a corner, ‘Oh my ears\n",
      "\n",
      "and whiskers, how late it’s getting!’ She was close behind it when she\n",
      "\n",
      "turned the corner, but the Rabbit was no longer to be seen: she found\n",
      "\n",
      "Your position is:  9\n",
      "herself in a long, low hall, which was lit up by a row of lamps hanging\n",
      "\n",
      "from the roof.\n",
      "\n",
      "\n",
      "\n",
      "There were doors all round the hall, but they were all locked; and when\n",
      "\n",
      "Alice had been all the way down one side and up the other, trying every\n",
      "\n",
      "door, she walked sadly down the middle, wondering how she was ever to\n",
      "\n",
      "get out again.\n",
      "\n",
      "\n",
      "\n",
      "Suddenly she came upon a little three-legged table, all made of solid\n",
      "\n",
      "glass; there was nothing on it except a tiny golden key, and Alice’s\n",
      "\n",
      "first thought was that it might belong to one of the doors of the hall;\n",
      "\n",
      "but, alas! either the locks were too large, or the key was too small,\n",
      "\n",
      "but at any rate it would not open any of them. However, on the second\n",
      "\n",
      "time round, she came upon a low curtain she had not noticed before, and\n",
      "\n",
      "behind it was a little door about fifteen inches high: she tried the\n",
      "\n",
      "Your position is:  10\n",
      "little golden key in the lock, and to her great delight it fitted!\n",
      "\n",
      "\n",
      "\n",
      "Alice opened the door and found that it led into a small passage, not\n",
      "\n",
      "much larger than a rat-hole: she knelt down and looked along the passage\n",
      "\n",
      "into the loveliest garden you ever saw. How she longed to get out of\n",
      "\n",
      "that dark hall, and wander about among those beds of bright flowers and\n",
      "\n",
      "those cool fountains, but she could not even get her head through the\n",
      "\n",
      "doorway; ‘and even if my head would go through,’ thought poor Alice, ‘it\n",
      "\n",
      "would be of very little use without my shoulders. Oh, how I wish I could\n",
      "\n",
      "shut up like a telescope! I think I could, if I only knew how to begin.’\n",
      "\n",
      "For, you see, so many out-of-the-way things had happened lately,\n",
      "\n",
      "that Alice had begun to think that very few things indeed were really\n",
      "\n",
      "impossible.\n",
      "\n",
      "\n",
      "\n",
      "There seemed to be no use in waiting by the little door, so she went\n",
      "\n",
      "Your position is:  20\n",
      "\n",
      "\n",
      "Alice took up the fan and gloves, and, as the hall was very hot, she\n",
      "\n",
      "kept fanning herself all the time she went on talking: ‘Dear, dear! How\n",
      "\n",
      "queer everything is to-day! And yesterday things went on just as usual.\n",
      "\n",
      "I wonder if I’ve been changed in the night? Let me think: was I the\n",
      "\n",
      "same when I got up this morning? I almost think I can remember feeling a\n",
      "\n",
      "little different. But if I’m not the same, the next question is, Who\n",
      "\n",
      "in the world am I? Ah, THAT’S the great puzzle!’ And she began thinking\n",
      "\n",
      "over all the children she knew that were of the same age as herself, to\n",
      "\n",
      "see if she could have been changed for any of them.\n",
      "\n",
      "\n",
      "\n",
      "‘I’m sure I’m not Ada,’ she said, ‘for her hair goes in such long\n",
      "\n",
      "ringlets, and mine doesn’t go in ringlets at all; and I’m sure I can’t\n",
      "\n",
      "be Mabel, for I know all sorts of things, and she, oh! she knows such a\n",
      "\n",
      "very little! Besides, SHE’S she, and I’m I, and--oh dear, how puzzling\n",
      "\n",
      "Your position is:  20\n",
      "\n",
      "\n",
      "Alice took up the fan and gloves, and, as the hall was very hot, she\n",
      "\n",
      "kept fanning herself all the time she went on talking: ‘Dear, dear! How\n",
      "\n",
      "queer everything is to-day! And yesterday things went on just as usual.\n",
      "\n",
      "I wonder if I’ve been changed in the night? Let me think: was I the\n",
      "\n",
      "same when I got up this morning? I almost think I can remember feeling a\n",
      "\n",
      "little different. But if I’m not the same, the next question is, Who\n",
      "\n",
      "in the world am I? Ah, THAT’S the great puzzle!’ And she began thinking\n",
      "\n",
      "over all the children she knew that were of the same age as herself, to\n",
      "\n",
      "see if she could have been changed for any of them.\n",
      "\n",
      "\n",
      "\n",
      "‘I’m sure I’m not Ada,’ she said, ‘for her hair goes in such long\n",
      "\n",
      "ringlets, and mine doesn’t go in ringlets at all; and I’m sure I can’t\n",
      "\n",
      "be Mabel, for I know all sorts of things, and she, oh! she knows such a\n",
      "\n",
      "very little! Besides, SHE’S she, and I’m I, and--oh dear, how puzzling\n",
      "\n",
      "Invalid input\n"
     ]
    }
   ],
   "source": [
    "import random\n",
    "from pathlib import Path\n",
    "from IPython.display import clear_output\n",
    "\n",
    "class EbookReader():\n",
    "    \n",
    "    #================ Book Class START ===============\n",
    "    class Book():\n",
    "        MIN_PRICE = 2\n",
    "        MAX_PRICE = 20\n",
    "        LINES_PER_PAGE = 15\n",
    "        \n",
    "        def __init__(self, filepath):\n",
    "            self._name = str(filepath.name).replace('.txt', '')\n",
    "            self._filepath = filepath\n",
    "            self._price = random.random()*(self.MAX_PRICE-self.MIN_PRICE) + self.MIN_PRICE\n",
    "            self._purchased = False\n",
    "            self._current_position = 0\n",
    "            self._iostream = open(self._filepath, encoding='utf-8') # define opened file as _iostream\n",
    "            self._length = self.determine_length()\n",
    "            \n",
    "        def __repr__(self): #if print instance, return this\n",
    "            return(f'Book: {self._name}, Price: {self._price}, Purchased: {self._purchased}')\n",
    "        \n",
    "        def purchase_book(self):\n",
    "            self._purchased = True\n",
    "            \n",
    "        def open_book(self):\n",
    "            if self._purchased:\n",
    "                return open(self._filepath, encoding='utf-8')\n",
    "            else:\n",
    "                print('Please purchase this book first!')\n",
    "                return None\n",
    "            \n",
    "        def seek_path(self, page=10):\n",
    "            self._iostream.seek(page) # Go to passed page of opened book\n",
    "            num_lines = page*self.LINES_PER_PAGE\n",
    "            for _ in range(num_lines):\n",
    "                self._iostream.readline()\n",
    "            \n",
    "        def read_book(self, page = None):\n",
    "            if not self._purchased:\n",
    "                print('Please purchase this book first!')\n",
    "                return False\n",
    "            else:\n",
    "                start = self._current_position if page is None else page\n",
    "                print(\"Your position is: \", start)\n",
    "                fp = self._iostream\n",
    "                self.seek_path(start)\n",
    "                for _ in range(self.LINES_PER_PAGE):\n",
    "                    print(fp.readline())\n",
    "                \n",
    "                self._current_position = start + 1\n",
    "                return True\n",
    "            \n",
    "        def __len__(self):\n",
    "            return self._length\n",
    "        \n",
    "        \n",
    "        def __getitem__(self, value):\n",
    "            #Choose this order to shortcircuit in the event that it is not an int\n",
    "            if isinstance(value, int) and value < len(self) and value>0:\n",
    "                self.read_book(value)\n",
    "            else:\n",
    "                print('Invalid input')\n",
    "                \n",
    "        def determine_length(self):\n",
    "            self._iostream.seek(0)\n",
    "            lines = self._iostream.readlines()\n",
    "            return len(lines)\n",
    "    \n",
    "    #================ Book Class END ===============\n",
    "            \n",
    "            \n",
    "    def __init__(self, book_dir = 'Books/'):\n",
    "        self._book_dir = Path(book_dir)\n",
    "        self._library = self._build_book_dictionary()\n",
    "        self._balance = 0\n",
    "        self._currentbook = None\n",
    "        self._statusmessage = 'Nothing to report...'\n",
    "        \n",
    "        \n",
    "    def load_money(self, value):\n",
    "        try:\n",
    "            self._balance += float(value)\n",
    "            return True\n",
    "        except Exception as e:\n",
    "            self.out(f'Invalid input: {e}')\n",
    "            return False\n",
    "        \n",
    "        \n",
    "    def out(self, message):\n",
    "        self._statusmessage = message\n",
    "        \n",
    "    def purchase_book(self, bookname):\n",
    "        if bookname in self._library:\n",
    "            book = self._library[bookname]\n",
    "            if book._purchased:\n",
    "                self.out('You have already purchased this book')\n",
    "                return False\n",
    "            elif self._balance >= book._price: \n",
    "                book.purchase_book()\n",
    "                self._balance -= book._price\n",
    "                return True\n",
    "            else:\n",
    "                self.out('You have insufficient funds for that purchase')\n",
    "                return False\n",
    "            \n",
    "        else:\n",
    "            self.out('Book not in library')\n",
    "            return False\n",
    "        \n",
    "    def read_book(self, bookname, page = None):\n",
    "        if bookname in self._library:\n",
    "            self._library[bookname].read_book(page = page)\n",
    "            self._currentbook = self._library[bookname]\n",
    "            return True\n",
    "        else:\n",
    "            self.out('Book not found')\n",
    "            return False\n",
    "        \n",
    "        \n",
    "    def _read_page(self, book, page = None):\n",
    "        book.read_book(page = page)\n",
    "        return True\n",
    "\n",
    "        \n",
    "    def _build_book_dictionary(self):\n",
    "        #create a list of all the books\n",
    "        booklist = {str(x.name).replace('.txt', ''):self.Book(x) for x in self._book_dir.iterdir() if str(x).endswith('.txt')}\n",
    "        return booklist\n",
    "        \n",
    "    def _print_catalog(self):\n",
    "        print(\"The following books are available for purchase:\")\n",
    "        for book in self._library.values():\n",
    "            if not book._purchased: print(book)\n",
    "                \n",
    "    def _print_owned(self):\n",
    "        print('You have purchased the following books:')\n",
    "        for book in self._library.values():\n",
    "            if book._purchased: print(book)\n",
    "               \n",
    "    def _print_balance(self):\n",
    "        print('\\nYour current balance is: ', self._balance)\n",
    "    \n",
    "    def __repr__(self):\n",
    "        #clear_output()\n",
    "        print('Current message is:', self._statusmessage, '\\n')\n",
    "        self._print_owned()\n",
    "        print('')\n",
    "        self._print_catalog()\n",
    "        self._print_balance()\n",
    "        \n",
    "        print('Your current book is:', self._currentbook)\n",
    "        return('')  #Note: a call to print expects a returned string\n",
    "    \n",
    "    def console(self):\n",
    "        clear_output()\n",
    "        self._read_page(self._currentbook)\n",
    "        \n",
    "        print(self)\n",
    "        print('Commands are: Purchase, Open, Next (for the next page)')\n",
    "        input_results = self.get_input()\n",
    "        return input_results\n",
    "        \n",
    "    \n",
    "    \n",
    "    def get_input(self):\n",
    "        input_string = input()\n",
    "        \n",
    "        if input_string == 'exit':\n",
    "            return False\n",
    "        \n",
    "        elif input_string.lower() == 'purchase':\n",
    "            input_purchase = input('Which book would you like to purchase')\n",
    "            self.purchase_book(input_purchase)\n",
    "            return True #purchase a new book if you can\n",
    "            \n",
    "        \n",
    "        elif input_string == 'next':\n",
    "            #self.current_book\n",
    "            return True #read the next page of the book\n",
    "        \n",
    "        \n",
    "        elif input_string == 'open':\n",
    "            input_book = input('Which book would you like to open')\n",
    "            \n",
    "            self._currentbook = input_book\n",
    "            #open a new book (position of the old one is still saved)\n",
    "            return True\n",
    "            \n",
    "        else:\n",
    "            self.out('Invalid input')\n",
    "            return True\n",
    "    \n",
    "            \n",
    "            \n",
    "eb1 = EbookReader()       \n",
    "eb1.load_money(1000)\n",
    "eb1.purchase_book('Alice_in_Wonderland')\n",
    "print(eb1)\n",
    "\n",
    "eb1.read_book('Alice_in_Wonderland')\n",
    "for _ in range(10): # Read 1st 10 pages\n",
    "    eb1.read_book('Alice_in_Wonderland')\n",
    "    \n",
    "eb1.read_book ('Alice_in_Wonderland', 20) # Start at 20\n",
    "eb1._library['Alice_in_Wonderland'][20] # Same as above\n",
    "eb1._library['Alice_in_Wonderland']['ollo']"
   ]
  },
  {
   "cell_type": "markdown",
   "metadata": {},
   "source": [
    "### P-2.39\n",
    "Develop an inheritance hierarchy based upon a Polygon class that has abstract methods area( ) and perimeter( ). Implement classes Triangle, Quadrilateral, Pentagon, Hexagon, and Octagon that extend this base class, with the obvious meanings for the area( ) and perimeter( ) methods. Also implement classes, IsoscelesTriangle, EquilateralTriangle, Rectan- gle, and Square, that have the appropriate inheritance relationships. Finally, write a simple program that allows users to create polygons of the various types and input their geometric dimensions, and the program then outputs their area and perimeter. For extra effort, allow users to input polygons by specifying their vertex coordinates and be able to test if two such polygons are similar.\n",
    "\n",
    "#### Solution"
   ]
  },
  {
   "cell_type": "code",
   "execution_count": null,
   "metadata": {},
   "outputs": [],
   "source": []
  }
 ],
 "metadata": {
  "kernelspec": {
   "display_name": "Python 3",
   "language": "python",
   "name": "python3"
  },
  "language_info": {
   "codemirror_mode": {
    "name": "ipython",
    "version": 3
   },
   "file_extension": ".py",
   "mimetype": "text/x-python",
   "name": "python",
   "nbconvert_exporter": "python",
   "pygments_lexer": "ipython3",
   "version": "3.6.7"
  },
  "pycharm": {
   "stem_cell": {
    "cell_type": "raw",
    "metadata": {
     "collapsed": false
    },
    "source": []
   }
  },
  "toc": {
   "base_numbering": 1,
   "nav_menu": {},
   "number_sections": true,
   "sideBar": true,
   "skip_h1_title": false,
   "title_cell": "Table of Contents",
   "title_sidebar": "Contents",
   "toc_cell": false,
   "toc_position": {},
   "toc_section_display": true,
   "toc_window_display": false
  },
  "varInspector": {
   "cols": {
    "lenName": 16,
    "lenType": 16,
    "lenVar": 40
   },
   "kernels_config": {
    "python": {
     "delete_cmd_postfix": "",
     "delete_cmd_prefix": "del ",
     "library": "var_list.py",
     "varRefreshCmd": "print(var_dic_list())"
    },
    "r": {
     "delete_cmd_postfix": ") ",
     "delete_cmd_prefix": "rm(",
     "library": "var_list.r",
     "varRefreshCmd": "cat(var_dic_list()) "
    }
   },
   "types_to_exclude": [
    "module",
    "function",
    "builtin_function_or_method",
    "instance",
    "_Feature"
   ],
   "window_display": false
  }
 },
 "nbformat": 4,
 "nbformat_minor": 2
}
