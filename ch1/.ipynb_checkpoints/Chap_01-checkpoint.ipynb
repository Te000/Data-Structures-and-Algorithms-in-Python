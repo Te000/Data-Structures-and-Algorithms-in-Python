{
 "cells": [
  {
   "cell_type": "markdown",
   "metadata": {
    "pycharm": {
     "metadata": false,
     "name": "#%% md\n"
    }
   },
   "source": [
    "# Chapter 01: Python Primer"
   ]
  },
  {
   "cell_type": "markdown",
   "metadata": {
    "pycharm": {
     "metadata": false,
     "name": "#%% md\n"
    }
   },
   "source": [
    "## Modules"
   ]
  },
  {
   "cell_type": "code",
   "execution_count": 13,
   "metadata": {
    "ExecuteTime": {
     "end_time": "2019-09-28T12:32:11.955749Z",
     "start_time": "2019-09-28T12:32:11.951081Z"
    },
    "pycharm": {
     "is_executing": false,
     "metadata": false,
     "name": "#%%\n"
    }
   },
   "outputs": [],
   "source": [
    "import random\n",
    "import numpy as np\n",
    "import math\n",
    "from scipy.special import factorial, comb\n",
    "import seaborn as sns\n",
    "import matplotlib.pyplot as plt\n",
    "%matplotlib inline"
   ]
  },
  {
   "cell_type": "markdown",
   "metadata": {
    "pycharm": {}
   },
   "source": [
    "## Exercises: Reinforcement"
   ]
  },
  {
   "cell_type": "markdown",
   "metadata": {
    "pycharm": {
     "metadata": false,
     "name": "#%% md\n"
    }
   },
   "source": [
    "### R-1.1\n",
    "Write a short Python function, is multiple(n, m), that takes two integer\n",
    "values and returns True if n is a multiple of m, that is, n = mi for some\n",
    "integer i, and False otherwise."
   ]
  },
  {
   "cell_type": "markdown",
   "metadata": {
    "pycharm": {
     "name": "#%% md\n"
    }
   },
   "source": [
    "#### Solution"
   ]
  },
  {
   "cell_type": "code",
   "execution_count": 5,
   "metadata": {
    "ExecuteTime": {
     "end_time": "2019-09-28T07:37:31.503813Z",
     "start_time": "2019-09-28T07:37:31.301603Z"
    }
   },
   "outputs": [
    {
     "ename": "AssertionError",
     "evalue": "",
     "output_type": "error",
     "traceback": [
      "\u001b[0;31m---------------------------------------------------------------------------\u001b[0m",
      "\u001b[0;31mAssertionError\u001b[0m                            Traceback (most recent call last)",
      "\u001b[0;32m<ipython-input-5-44ea2949b83f>\u001b[0m in \u001b[0;36m<module>\u001b[0;34m\u001b[0m\n\u001b[1;32m      3\u001b[0m \u001b[0;34m\u001b[0m\u001b[0m\n\u001b[1;32m      4\u001b[0m \u001b[0;32massert\u001b[0m\u001b[0;34m(\u001b[0m\u001b[0misMult\u001b[0m\u001b[0;34m(\u001b[0m\u001b[0;36m4\u001b[0m\u001b[0;34m,\u001b[0m\u001b[0;36m2\u001b[0m\u001b[0;34m)\u001b[0m\u001b[0;34m)\u001b[0m\u001b[0;34m\u001b[0m\u001b[0;34m\u001b[0m\u001b[0m\n\u001b[0;32m----> 5\u001b[0;31m \u001b[0;32massert\u001b[0m\u001b[0;34m(\u001b[0m\u001b[0misMult\u001b[0m\u001b[0;34m(\u001b[0m\u001b[0;36m5\u001b[0m\u001b[0;34m,\u001b[0m\u001b[0;36m2\u001b[0m\u001b[0;34m)\u001b[0m\u001b[0;34m)\u001b[0m\u001b[0;34m\u001b[0m\u001b[0;34m\u001b[0m\u001b[0m\n\u001b[0m",
      "\u001b[0;31mAssertionError\u001b[0m: "
     ]
    }
   ],
   "source": [
    "def isMult(n,m):\n",
    "    return n % m == 0\n",
    "\n",
    "# Pass\n",
    "assert(isMult(4,2))\n",
    "# Fail\n",
    "assert(isMult(5,2) is False)"
   ]
  },
  {
   "cell_type": "markdown",
   "metadata": {
    "pycharm": {
     "metadata": false,
     "name": "#%% md\n"
    }
   },
   "source": [
    "### R-1.2\n",
    "Write a short Python function, is even(k), that takes an integer value and\n",
    "returns True if k is even, and False otherwise. However, your function\n",
    "cannot use the multiplication, modulo, or division operators."
   ]
  },
  {
   "cell_type": "markdown",
   "metadata": {
    "pycharm": {
     "name": "#%% md\n"
    }
   },
   "source": [
    "#### Solution"
   ]
  },
  {
   "cell_type": "code",
   "execution_count": 35,
   "metadata": {
    "ExecuteTime": {
     "end_time": "2019-09-28T08:25:01.437020Z",
     "start_time": "2019-09-28T08:25:01.433575Z"
    },
    "pycharm": {
     "is_executing": false,
     "metadata": false,
     "name": "#%%\n"
    }
   },
   "outputs": [],
   "source": [
    "# 1,3,5... are the same, so it will return true if compared together\n",
    "# Therefore, the function can be used for isOdd as well if you compare it to an even number\n",
    "def isEven(k):\n",
    "    return (not k & 1)\n",
    "\n",
    "assert(isEven(5) is False)\n",
    "assert(isEven(4))"
   ]
  },
  {
   "cell_type": "markdown",
   "metadata": {
    "pycharm": {
     "metadata": false,
     "name": "#%% md\n"
    }
   },
   "source": [
    "### R-1.3\n",
    "Write a short Python function, minmax(data), that takes a sequence of\n",
    "one or more numbers, and returns the smallest and largest numbers, in the\n",
    "form of a tuple of length two. Do not use the built-in functions min or\n",
    "max in implementing your solution."
   ]
  },
  {
   "cell_type": "markdown",
   "metadata": {
    "pycharm": {
     "name": "#%% md\n"
    }
   },
   "source": [
    "#### Solution"
   ]
  },
  {
   "cell_type": "code",
   "execution_count": 37,
   "metadata": {
    "ExecuteTime": {
     "end_time": "2019-09-28T08:39:54.893657Z",
     "start_time": "2019-09-28T08:39:54.886788Z"
    },
    "pycharm": {
     "is_executing": false,
     "metadata": false,
     "name": "#%%\n"
    }
   },
   "outputs": [
    {
     "data": {
      "text/plain": [
       "(-1, 5)"
      ]
     },
     "execution_count": 37,
     "metadata": {},
     "output_type": "execute_result"
    }
   ],
   "source": [
    "def minMax(data):\n",
    "    dMin = dMax = data[0]\n",
    "    \n",
    "    for a in data[1:]:\n",
    "        if a < dMin:\n",
    "            dMin = a\n",
    "        if a > dMax:\n",
    "            dMax = a\n",
    "            \n",
    "    return dMin, dMax\n",
    "\n",
    "ans = minMax([-1,0,1,2,3,4,5])\n",
    "ans"
   ]
  },
  {
   "cell_type": "markdown",
   "metadata": {
    "pycharm": {
     "metadata": false,
     "name": "#%% md\n"
    }
   },
   "source": [
    "### R-1.4\n",
    "Write a short Python function that takes a positive integer n and returns\n",
    "the sum of the squares of all the positive integers smaller than n."
   ]
  },
  {
   "cell_type": "markdown",
   "metadata": {
    "pycharm": {
     "name": "#%% md\n"
    }
   },
   "source": [
    "#### Solution"
   ]
  },
  {
   "cell_type": "code",
   "execution_count": 45,
   "metadata": {
    "ExecuteTime": {
     "end_time": "2019-09-28T08:45:49.535223Z",
     "start_time": "2019-09-28T08:45:49.530139Z"
    },
    "pycharm": {
     "is_executing": false,
     "metadata": false,
     "name": "#%%\n"
    },
    "scrolled": true
   },
   "outputs": [
    {
     "data": {
      "text/plain": [
       "14"
      ]
     },
     "execution_count": 45,
     "metadata": {},
     "output_type": "execute_result"
    }
   ],
   "source": [
    "def sumSquares(n):\n",
    "    if(n > 0):\n",
    "        return sum(x ** 2 for x in range(n))\n",
    "    \n",
    "    else:\n",
    "        return -1\n",
    "\n",
    "sumSquares(4)"
   ]
  },
  {
   "cell_type": "markdown",
   "metadata": {
    "pycharm": {
     "metadata": false,
     "name": "#%% md\n"
    }
   },
   "source": [
    "### R-1.5\n",
    "Give a single command that computes the sum from Exercise R-1.4, relying on Python’s comprehension syntax and the built-in sum function."
   ]
  },
  {
   "cell_type": "markdown",
   "metadata": {
    "pycharm": {
     "name": "#%% md\n"
    }
   },
   "source": [
    "#### Solution"
   ]
  },
  {
   "cell_type": "code",
   "execution_count": 47,
   "metadata": {
    "ExecuteTime": {
     "end_time": "2019-09-28T08:47:53.288980Z",
     "start_time": "2019-09-28T08:47:53.283927Z"
    },
    "pycharm": {
     "is_executing": false,
     "metadata": false,
     "name": "#%%\n"
    },
    "scrolled": false
   },
   "outputs": [
    {
     "data": {
      "text/plain": [
       "30"
      ]
     },
     "execution_count": 47,
     "metadata": {},
     "output_type": "execute_result"
    }
   ],
   "source": [
    "n = 5\n",
    "sum(x ** 2 for x in range(n) if x > 0)"
   ]
  },
  {
   "cell_type": "markdown",
   "metadata": {
    "pycharm": {
     "metadata": false,
     "name": "#%% md\n"
    }
   },
   "source": [
    "### R-1.6\n",
    "Write a short Python function that takes a positive integer n and returns\n",
    "the sum of the squares of all the odd positive integers smaller than n"
   ]
  },
  {
   "cell_type": "markdown",
   "metadata": {
    "pycharm": {
     "name": "#%% md\n"
    }
   },
   "source": [
    "#### Solution"
   ]
  },
  {
   "cell_type": "code",
   "execution_count": 49,
   "metadata": {
    "ExecuteTime": {
     "end_time": "2019-09-28T08:48:17.990716Z",
     "start_time": "2019-09-28T08:48:17.985423Z"
    },
    "pycharm": {
     "is_executing": false,
     "metadata": false,
     "name": "#%%\n"
    },
    "scrolled": false
   },
   "outputs": [
    {
     "data": {
      "text/plain": [
       "10"
      ]
     },
     "execution_count": 49,
     "metadata": {},
     "output_type": "execute_result"
    }
   ],
   "source": [
    "def sumOddSquares(n):\n",
    "    if(n > 0):\n",
    "        return sum(x ** 2 for x in range(n) if x%2 != 0)\n",
    "    \n",
    "    else:\n",
    "        return -1\n",
    "\n",
    "sumOddSquares(4)"
   ]
  },
  {
   "cell_type": "markdown",
   "metadata": {
    "pycharm": {
     "metadata": false,
     "name": "#%% md\n"
    }
   },
   "source": [
    "### R-1.7\n",
    "Give a single command that computes the sum from Exercise R-1.6, relying on Python’s comprehension syntax and the built-in sum function."
   ]
  },
  {
   "cell_type": "markdown",
   "metadata": {
    "pycharm": {
     "name": "#%% md\n"
    }
   },
   "source": [
    "#### Solution"
   ]
  },
  {
   "cell_type": "code",
   "execution_count": 50,
   "metadata": {
    "ExecuteTime": {
     "end_time": "2019-09-28T08:51:50.427099Z",
     "start_time": "2019-09-28T08:51:50.421386Z"
    },
    "pycharm": {
     "is_executing": false,
     "metadata": false,
     "name": "#%%\n"
    },
    "scrolled": false
   },
   "outputs": [
    {
     "data": {
      "text/plain": [
       "10"
      ]
     },
     "execution_count": 50,
     "metadata": {},
     "output_type": "execute_result"
    }
   ],
   "source": [
    "n = 5\n",
    "sum(x ** 2 for x in range(n) if x%2 != 0)"
   ]
  },
  {
   "cell_type": "markdown",
   "metadata": {
    "pycharm": {
     "metadata": false,
     "name": "#%% md\n"
    }
   },
   "source": [
    "### R-1.8\n",
    "Python allows negative integers to be used as indices into a sequence,\n",
    "such as a string. If string s has length n, and expression s[k] is used for index −n ≤ k < 0, what is the equivalent index j ≥ 0 such that s[j] references\n",
    "the same element?"
   ]
  },
  {
   "cell_type": "markdown",
   "metadata": {
    "pycharm": {
     "name": "#%% md\n"
    }
   },
   "source": [
    "#### Solution"
   ]
  },
  {
   "cell_type": "code",
   "execution_count": 55,
   "metadata": {
    "ExecuteTime": {
     "end_time": "2019-09-28T09:00:54.548212Z",
     "start_time": "2019-09-28T09:00:54.542472Z"
    },
    "pycharm": {
     "is_executing": false,
     "metadata": false,
     "name": "#%%\n"
    },
    "scrolled": false
   },
   "outputs": [
    {
     "data": {
      "text/plain": [
       "True"
      ]
     },
     "execution_count": 55,
     "metadata": {},
     "output_type": "execute_result"
    }
   ],
   "source": [
    "data = [8, 6, 4, 2, 0, -2, -4, -6, -8]\n",
    "n = len(data)\n",
    "k = 3\n",
    "\n",
    "data[-k] == data[n-k]\n"
   ]
  },
  {
   "cell_type": "markdown",
   "metadata": {
    "pycharm": {
     "metadata": false,
     "name": "#%% md\n"
    }
   },
   "source": [
    "### R-1.9\n",
    "What parameters should be sent to the range constructor, to produce a\n",
    "range with values `50, 60, 70, 80`?"
   ]
  },
  {
   "cell_type": "markdown",
   "metadata": {
    "pycharm": {
     "name": "#%% md\n"
    }
   },
   "source": [
    "#### Solution"
   ]
  },
  {
   "cell_type": "code",
   "execution_count": 56,
   "metadata": {
    "ExecuteTime": {
     "end_time": "2019-09-28T09:01:41.869917Z",
     "start_time": "2019-09-28T09:01:41.865950Z"
    },
    "pycharm": {
     "is_executing": false,
     "metadata": false,
     "name": "#%%\n"
    },
    "scrolled": false
   },
   "outputs": [
    {
     "name": "stdout",
     "output_type": "stream",
     "text": [
      "50\n",
      "60\n",
      "70\n",
      "80\n"
     ]
    }
   ],
   "source": [
    "for x in range(50, 90, 10):\n",
    "    print(x)"
   ]
  },
  {
   "cell_type": "markdown",
   "metadata": {
    "pycharm": {
     "metadata": false,
     "name": "#%% md\n"
    }
   },
   "source": [
    "### R-1.10\n",
    "What parameters should be sent to the `range` constructor, to produce a range with values `8, 6, 4, 2, 0, -2, -4, -6, -8`?"
   ]
  },
  {
   "cell_type": "markdown",
   "metadata": {
    "pycharm": {
     "name": "#%% md\n"
    }
   },
   "source": [
    "#### Solution"
   ]
  },
  {
   "cell_type": "code",
   "execution_count": 61,
   "metadata": {
    "ExecuteTime": {
     "end_time": "2019-09-28T09:02:40.820480Z",
     "start_time": "2019-09-28T09:02:40.815601Z"
    },
    "pycharm": {
     "is_executing": false,
     "metadata": false,
     "name": "#%%\n"
    }
   },
   "outputs": [
    {
     "data": {
      "text/plain": [
       "[8, 6, 4, 2, 0, -2, -4, -6, -8]"
      ]
     },
     "execution_count": 61,
     "metadata": {},
     "output_type": "execute_result"
    }
   ],
   "source": [
    "[x for x in range(8, -9, -2)]"
   ]
  },
  {
   "cell_type": "markdown",
   "metadata": {
    "pycharm": {}
   },
   "source": [
    "### R-1.11 \n",
    "Demonstrate how to use Python’s list comprehension syntax to produce the list `[1, 2, 4, 8, 16, 32, 64, 128, 256]`."
   ]
  },
  {
   "cell_type": "markdown",
   "metadata": {
    "pycharm": {
     "name": "#%% md\n"
    }
   },
   "source": [
    "#### Solution"
   ]
  },
  {
   "cell_type": "code",
   "execution_count": 62,
   "metadata": {
    "ExecuteTime": {
     "end_time": "2019-09-28T09:03:24.292930Z",
     "start_time": "2019-09-28T09:03:24.287746Z"
    },
    "pycharm": {
     "is_executing": false
    }
   },
   "outputs": [
    {
     "data": {
      "text/plain": [
       "[1, 2, 4, 8, 16, 32, 64, 128, 256]"
      ]
     },
     "execution_count": 62,
     "metadata": {},
     "output_type": "execute_result"
    }
   ],
   "source": [
    "[2**x for x in range(9)]"
   ]
  },
  {
   "cell_type": "markdown",
   "metadata": {
    "pycharm": {
     "is_executing": false,
     "metadata": false,
     "name": "#%% md\n"
    }
   },
   "source": [
    "### R-1.12\n",
    "Python's random module includes a function `choice(data)` that returns a random element from a non-empty sequence. The `random` module includes a more basic function `randrange`, with parametrization similar to the built-in `range` function, that return a random choice from the given range. Using only the `randrange` function, implement your own version of the `choice` function."
   ]
  },
  {
   "cell_type": "markdown",
   "metadata": {
    "pycharm": {
     "name": "#%% md\n"
    }
   },
   "source": [
    "#### Solution"
   ]
  },
  {
   "cell_type": "code",
   "execution_count": 63,
   "metadata": {
    "ExecuteTime": {
     "end_time": "2019-09-28T09:11:39.723628Z",
     "start_time": "2019-09-28T09:11:39.720632Z"
    },
    "pycharm": {
     "is_executing": false,
     "metadata": false,
     "name": "#%%\n"
    }
   },
   "outputs": [],
   "source": [
    "def choice(data):\n",
    "    index = random.randrange(0, len(data))\n",
    "    return data[index]"
   ]
  },
  {
   "cell_type": "code",
   "execution_count": 64,
   "metadata": {
    "ExecuteTime": {
     "end_time": "2019-09-28T09:11:40.153905Z",
     "start_time": "2019-09-28T09:11:40.148914Z"
    },
    "pycharm": {
     "is_executing": false,
     "metadata": false,
     "name": "#%%\n"
    }
   },
   "outputs": [],
   "source": [
    "# My version\n",
    "x = []\n",
    "random.seed(1)\n",
    "for i in range(500):\n",
    "    x.append(choice([1, 2, 3, 4, 5]))"
   ]
  },
  {
   "cell_type": "code",
   "execution_count": 65,
   "metadata": {
    "ExecuteTime": {
     "end_time": "2019-09-28T09:11:40.762292Z",
     "start_time": "2019-09-28T09:11:40.758166Z"
    },
    "pycharm": {
     "is_executing": false,
     "metadata": false,
     "name": "#%%\n"
    }
   },
   "outputs": [],
   "source": [
    "# Library version\n",
    "y = []\n",
    "random.seed(1)\n",
    "\n",
    "for i in range(500):\n",
    "    y.append(random.choice([1, 2, 3, 4, 5]))"
   ]
  },
  {
   "cell_type": "code",
   "execution_count": 67,
   "metadata": {
    "ExecuteTime": {
     "end_time": "2019-09-28T09:11:55.198774Z",
     "start_time": "2019-09-28T09:11:54.834099Z"
    },
    "pycharm": {
     "is_executing": false,
     "metadata": false,
     "name": "#%%\n"
    }
   },
   "outputs": [
    {
     "data": {
      "text/plain": [
       "<matplotlib.axes._subplots.AxesSubplot at 0x11d40e8d0>"
      ]
     },
     "execution_count": 67,
     "metadata": {},
     "output_type": "execute_result"
    },
    {
     "data": {
      "image/png": "[encoded data removed]",
      "text/plain": [
       "<Figure size 432x288 with 1 Axes>"
      ]
     },
     "metadata": {
      "needs_background": "light"
     },
     "output_type": "display_data"
    },
    {
     "data": {
      "image/png": "[encoded data removed]",
      "text/plain": [
       "<Figure size 432x288 with 1 Axes>"
      ]
     },
     "metadata": {
      "needs_background": "light"
     },
     "output_type": "display_data"
    }
   ],
   "source": [
    "plt.figure()\n",
    "plt.title('My Version')\n",
    "sns.countplot(x)\n",
    "\n",
    "plt.figure()\n",
    "plt.title('Library version')\n",
    "sns.countplot(y)"
   ]
  },
  {
   "cell_type": "markdown",
   "metadata": {},
   "source": [
    "## Exercises: Creativity"
   ]
  },
  {
   "cell_type": "markdown",
   "metadata": {
    "pycharm": {}
   },
   "source": [
    "### C-1.13\n",
    "Write a pseudo-code description of a function that reverses a list of n\n",
    "integers, so that the numbers are listed in the opposite order than they\n",
    "were before, and compare this method to an equivalent Python function\n",
    "for doing the same thing."
   ]
  },
  {
   "cell_type": "markdown",
   "metadata": {
    "pycharm": {
     "name": "#%% md\n"
    }
   },
   "source": [
    "#### Solution"
   ]
  },
  {
   "cell_type": "code",
   "execution_count": 68,
   "metadata": {
    "ExecuteTime": {
     "end_time": "2019-09-28T09:12:28.467526Z",
     "start_time": "2019-09-28T09:12:28.462357Z"
    },
    "pycharm": {
     "is_executing": false
    },
    "scrolled": false
   },
   "outputs": [
    {
     "data": {
      "text/plain": [
       "[90, 72, 56, 42, 30, 20, 12, 6, 2, 0]"
      ]
     },
     "execution_count": 68,
     "metadata": {},
     "output_type": "execute_result"
    }
   ],
   "source": [
    "data = [0, 2, 6, 12, 20, 30, 42, 56, 72, 90]\n",
    "a = data[::-1]\n",
    "a"
   ]
  },
  {
   "cell_type": "markdown",
   "metadata": {
    "pycharm": {}
   },
   "source": [
    "### C-1.14\n",
    "Write a short Python function that takes a sequence of integer values and\n",
    "determines if there is a distinct pair of numbers in the sequence whose\n",
    "product is odd."
   ]
  },
  {
   "cell_type": "markdown",
   "metadata": {
    "pycharm": {
     "name": "#%% md\n"
    }
   },
   "source": [
    "#### Solution"
   ]
  },
  {
   "cell_type": "code",
   "execution_count": 78,
   "metadata": {
    "ExecuteTime": {
     "end_time": "2019-09-28T09:18:14.397142Z",
     "start_time": "2019-09-28T09:18:14.391681Z"
    },
    "pycharm": {
     "is_executing": false
    },
    "scrolled": true
   },
   "outputs": [
    {
     "data": {
      "text/plain": [
       "True"
      ]
     },
     "execution_count": 78,
     "metadata": {},
     "output_type": "execute_result"
    }
   ],
   "source": [
    "def isOddProduct(seq):\n",
    "    counter = 0\n",
    "    \n",
    "    for d in seq:\n",
    "        if d % 2 == 1:\n",
    "            counter+=1\n",
    "            if(counter > 1):\n",
    "                return True\n",
    "    return False\n",
    "\n",
    "seq = [1,2,3]\n",
    "isOddProduct(seq)"
   ]
  },
  {
   "cell_type": "markdown",
   "metadata": {
    "pycharm": {}
   },
   "source": [
    "### C-1.15\n",
    "Write a Python function that takes a sequence of numbers and determines\n",
    "if all the numbers are different from each other (that is, they are distinct)."
   ]
  },
  {
   "cell_type": "markdown",
   "metadata": {
    "pycharm": {
     "name": "#%% md\n"
    }
   },
   "source": [
    "#### Solution"
   ]
  },
  {
   "cell_type": "code",
   "execution_count": 83,
   "metadata": {
    "ExecuteTime": {
     "end_time": "2019-09-28T09:22:11.611772Z",
     "start_time": "2019-09-28T09:22:11.607085Z"
    },
    "pycharm": {
     "is_executing": false
    },
    "scrolled": true
   },
   "outputs": [],
   "source": [
    "def isDistinct(data):\n",
    "    lenList = len(data)\n",
    "    setList = len(set(data))\n",
    "    if lenList == setList:\n",
    "        return True\n",
    "    else:\n",
    "        return False\n",
    "    \n",
    "assert(isDistinct([0,1,2,3,4,5,5]) is False)\n",
    "assert(isDistinct([0,1,2,3,4,5]) is True)"
   ]
  },
  {
   "cell_type": "markdown",
   "metadata": {
    "pycharm": {}
   },
   "source": [
    "### C-1.16\n",
    "In our implementation of the scale function (page 25), the body of the loop\n",
    "executes the command data[j] = factor. We have discussed that numeric\n",
    "types are immutable, and that use of the = operator in this context causes\n",
    "the creation of a new instance (not the mutation of an existing instance).\n",
    "How is it still possible, then, that our implementation of scale changes the\n",
    "actual parameter sent by the caller?"
   ]
  },
  {
   "cell_type": "markdown",
   "metadata": {
    "pycharm": {
     "name": "#%% md\n"
    }
   },
   "source": [
    "#### Solution"
   ]
  },
  {
   "cell_type": "code",
   "execution_count": null,
   "metadata": {
    "pycharm": {
     "is_executing": false
    },
    "scrolled": true
   },
   "outputs": [],
   "source": []
  },
  {
   "cell_type": "markdown",
   "metadata": {
    "pycharm": {}
   },
   "source": [
    "### C-1.17\n",
    "Had we implemented the scale function (page 25) as follows, does it work\n",
    "properly?\n",
    "\n",
    "Explain why or why not."
   ]
  },
  {
   "cell_type": "code",
   "execution_count": 3,
   "metadata": {
    "ExecuteTime": {
     "end_time": "2019-09-28T06:46:07.527485Z",
     "start_time": "2019-09-28T06:46:07.524087Z"
    }
   },
   "outputs": [],
   "source": [
    "# Original\n",
    "def scale(data, factor):\n",
    "    for val in data:\n",
    "        val = factor"
   ]
  },
  {
   "cell_type": "markdown",
   "metadata": {
    "pycharm": {
     "name": "#%% md\n"
    }
   },
   "source": [
    "#### Solution"
   ]
  },
  {
   "cell_type": "code",
   "execution_count": 8,
   "metadata": {
    "pycharm": {
     "is_executing": false
    },
    "scrolled": true
   },
   "outputs": [
    {
     "data": {
      "text/plain": [
       "[0, 2, 6, 12, 20, 30, 42, 56, 72, 90]"
      ]
     },
     "execution_count": 8,
     "metadata": {},
     "output_type": "execute_result"
    }
   ],
   "source": []
  },
  {
   "cell_type": "markdown",
   "metadata": {
    "pycharm": {}
   },
   "source": [
    "### C-1.18\n",
    "Demonstrate how to use Python’s list comprehension syntax to produce the list `[0, 2, 6, 12, 20, 30, 42, 56, 72, 90]`."
   ]
  },
  {
   "cell_type": "markdown",
   "metadata": {
    "pycharm": {
     "name": "#%% md\n"
    }
   },
   "source": [
    "#### Solution"
   ]
  },
  {
   "cell_type": "code",
   "execution_count": 84,
   "metadata": {
    "ExecuteTime": {
     "end_time": "2019-09-28T09:26:56.393995Z",
     "start_time": "2019-09-28T09:26:56.389245Z"
    },
    "pycharm": {
     "is_executing": false
    }
   },
   "outputs": [
    {
     "data": {
      "text/plain": [
       "[0, 2, 6, 12, 20, 30, 42, 56, 72, 90]"
      ]
     },
     "execution_count": 84,
     "metadata": {},
     "output_type": "execute_result"
    }
   ],
   "source": [
    "[i**2 - i for i in range(1,11)]"
   ]
  },
  {
   "cell_type": "markdown",
   "metadata": {
    "pycharm": {}
   },
   "source": [
    "### C-1.19\n",
    "Demonstrate how to use Python’s list comprehension syntax to produce\n",
    "the list [ a , b , c , ..., z ], but without having to type all 26 such\n",
    "characters literally."
   ]
  },
  {
   "cell_type": "markdown",
   "metadata": {
    "pycharm": {
     "name": "#%% md\n"
    }
   },
   "source": [
    "#### Solution"
   ]
  },
  {
   "cell_type": "code",
   "execution_count": 91,
   "metadata": {
    "ExecuteTime": {
     "end_time": "2019-09-28T09:34:46.215415Z",
     "start_time": "2019-09-28T09:34:46.210092Z"
    },
    "pycharm": {
     "is_executing": false
    },
    "scrolled": true
   },
   "outputs": [
    {
     "data": {
      "text/plain": [
       "['a',\n",
       " 'b',\n",
       " 'c',\n",
       " 'd',\n",
       " 'e',\n",
       " 'f',\n",
       " 'g',\n",
       " 'h',\n",
       " 'i',\n",
       " 'j',\n",
       " 'k',\n",
       " 'l',\n",
       " 'm',\n",
       " 'n',\n",
       " 'o',\n",
       " 'p',\n",
       " 'q',\n",
       " 'r',\n",
       " 's',\n",
       " 't',\n",
       " 'u',\n",
       " 'v',\n",
       " 'w',\n",
       " 'x',\n",
       " 'y',\n",
       " 'z']"
      ]
     },
     "execution_count": 91,
     "metadata": {},
     "output_type": "execute_result"
    }
   ],
   "source": [
    "# https://beginnersbook.com/2019/03/python-ord-function/\n",
    "[chr(a) for a in range(ord('a'), ord('z') + 1)]"
   ]
  },
  {
   "cell_type": "markdown",
   "metadata": {
    "pycharm": {}
   },
   "source": [
    "### C-1.20\n",
    "Python’s random module includes a function shuffle(data) that accepts a\n",
    "list of elements and randomly reorders the elements so that each possible order occurs with equal probability. The random module includes a\n",
    "more basic function randint(a, b) that returns a uniformly random integer\n",
    "from a to b (including both endpoints). Using only the randint function,\n",
    "implement your own version of the shuffle function"
   ]
  },
  {
   "cell_type": "markdown",
   "metadata": {
    "pycharm": {
     "name": "#%% md\n"
    }
   },
   "source": [
    "#### Solution"
   ]
  },
  {
   "cell_type": "code",
   "execution_count": 93,
   "metadata": {
    "ExecuteTime": {
     "end_time": "2019-09-28T09:53:05.201572Z",
     "start_time": "2019-09-28T09:53:05.194099Z"
    },
    "pycharm": {
     "is_executing": false
    },
    "scrolled": true
   },
   "outputs": [
    {
     "data": {
      "text/plain": [
       "[72, 2, 20, 56, 42, 6, 30, 12, 90, 0]"
      ]
     },
     "execution_count": 93,
     "metadata": {},
     "output_type": "execute_result"
    }
   ],
   "source": [
    "def myShuffle(data):\n",
    "    \"\"\"\n",
    "    reshuffle n times\n",
    "    \"\"\"\n",
    "    from random import randint\n",
    "    for i in range(len(data)):\n",
    "        m = randint(0, len(data) - 1)\n",
    "        n = randint(0, len(data) - 1)\n",
    "        data[m], data[n] = data[n], data[m]\n",
    "    \n",
    "    return data\n",
    "\n",
    "myShuffle([0, 2, 6, 12, 20, 30, 42, 56, 72, 90])"
   ]
  },
  {
   "cell_type": "markdown",
   "metadata": {
    "pycharm": {}
   },
   "source": [
    "### C-1.21\n",
    "Write a Python program that repeatedly reads lines from standard input\n",
    "until an EOFError is raised, and then outputs those lines in reverse order\n",
    "(a user can indicate end of input by typing ctrl-D)."
   ]
  },
  {
   "cell_type": "markdown",
   "metadata": {
    "pycharm": {
     "name": "#%% md\n"
    }
   },
   "source": [
    "#### Solution"
   ]
  },
  {
   "cell_type": "code",
   "execution_count": 1,
   "metadata": {
    "ExecuteTime": {
     "end_time": "2019-09-28T10:18:20.854891Z",
     "start_time": "2019-09-28T10:18:20.851609Z"
    }
   },
   "outputs": [],
   "source": [
    "# Do it in a terminal"
   ]
  },
  {
   "cell_type": "markdown",
   "metadata": {
    "pycharm": {}
   },
   "source": [
    "### C-1.22\n",
    "Write a short Python program that takes two arrays a and b of length n\n",
    "storing int values, and returns the dot product of a and b. That is, it returns\n",
    "an array c of length n such that c[i] = a[i] · b[i], for i = 0,...,n−1."
   ]
  },
  {
   "cell_type": "markdown",
   "metadata": {
    "pycharm": {
     "name": "#%% md\n"
    }
   },
   "source": [
    "#### Solution"
   ]
  },
  {
   "cell_type": "code",
   "execution_count": 9,
   "metadata": {
    "ExecuteTime": {
     "end_time": "2019-09-28T10:23:46.799009Z",
     "start_time": "2019-09-28T10:23:46.793205Z"
    },
    "pycharm": {
     "is_executing": false
    },
    "scrolled": true
   },
   "outputs": [
    {
     "data": {
      "text/plain": [
       "[1, 4, 9]"
      ]
     },
     "execution_count": 9,
     "metadata": {},
     "output_type": "execute_result"
    }
   ],
   "source": [
    "def dot_product(a, b):\n",
    "    assert len(a) == len(b)\n",
    "    return [a[i] * b[i] for i in range(len(a))]\n",
    "\n",
    "a = [1,2,3]\n",
    "dot_product(a, a)"
   ]
  },
  {
   "cell_type": "markdown",
   "metadata": {
    "pycharm": {
     "metadata": false,
     "name": "#%% md\n"
    }
   },
   "source": [
    "### C-1.23\n",
    "Give an example of a Python code fragment that attempts to write an element to a list based on an index that may be out of bounds. If that index is out of bounds, the program should catch the exception that results, and print the following error message:\n",
    "\n",
    "`\"Don't try buffer overflow attacks in Python!\"`"
   ]
  },
  {
   "cell_type": "code",
   "execution_count": 8,
   "metadata": {
    "ExecuteTime": {
     "end_time": "2019-09-28T10:22:41.699876Z",
     "start_time": "2019-09-28T10:22:41.695825Z"
    },
    "pycharm": {
     "is_executing": false,
     "metadata": false,
     "name": "#%%\n"
    }
   },
   "outputs": [
    {
     "name": "stdout",
     "output_type": "stream",
     "text": [
      "Don't try buffer overflow attacks in Python!\n"
     ]
    }
   ],
   "source": [
    "x = [1, 2, 3]\n",
    "\n",
    "try:\n",
    "    x[3] = 4\n",
    "except IndexError:\n",
    "    print(\"Don't try buffer overflow attacks in Python!\")"
   ]
  },
  {
   "cell_type": "markdown",
   "metadata": {
    "pycharm": {}
   },
   "source": [
    "### C-1.24\n",
    "Write a short Python function that counts the number of vowels in a given\n",
    "character string."
   ]
  },
  {
   "cell_type": "markdown",
   "metadata": {
    "pycharm": {
     "name": "#%% md\n"
    }
   },
   "source": [
    "#### Solution"
   ]
  },
  {
   "cell_type": "code",
   "execution_count": 10,
   "metadata": {
    "ExecuteTime": {
     "end_time": "2019-09-28T10:29:55.803529Z",
     "start_time": "2019-09-28T10:29:55.796172Z"
    },
    "pycharm": {
     "is_executing": false
    },
    "scrolled": false
   },
   "outputs": [
    {
     "data": {
      "text/plain": [
       "2"
      ]
     },
     "execution_count": 10,
     "metadata": {},
     "output_type": "execute_result"
    }
   ],
   "source": [
    "def countVowel(s):\n",
    "    count = 0\n",
    "    d = {i:0 for i in 'aeiouAEIOU'}\n",
    "    for c in s:\n",
    "        if c in d:\n",
    "            count += 1\n",
    "    return count\n",
    "\n",
    "countVowel('abcdefg')"
   ]
  },
  {
   "cell_type": "markdown",
   "metadata": {
    "pycharm": {}
   },
   "source": [
    "### C-1.25\n",
    "Write a short Python function that takes a string s, representing a sentence,\n",
    "and returns a copy of the string with all punctuation removed. For example, if given the string \"Let's try, Mike.\", this function would return\n",
    "\"Lets try Mike\"."
   ]
  },
  {
   "cell_type": "markdown",
   "metadata": {
    "pycharm": {
     "name": "#%% md\n"
    }
   },
   "source": [
    "#### Solution"
   ]
  },
  {
   "cell_type": "code",
   "execution_count": 4,
   "metadata": {
    "ExecuteTime": {
     "end_time": "2019-09-28T10:21:40.817216Z",
     "start_time": "2019-09-28T10:21:40.811389Z"
    },
    "pycharm": {
     "is_executing": false
    },
    "scrolled": false
   },
   "outputs": [
    {
     "data": {
      "text/plain": [
       "'Lets try Mike'"
      ]
     },
     "execution_count": 4,
     "metadata": {},
     "output_type": "execute_result"
    }
   ],
   "source": [
    "def removePunc(s):\n",
    "    ans = ''\n",
    "    \n",
    "    for a in s:\n",
    "        if a.isalpha() or a == ' ':\n",
    "            ans += a\n",
    "    return ans\n",
    "\n",
    "s = \"Let's try, Mike.\"\n",
    "removePunc(s)"
   ]
  },
  {
   "cell_type": "markdown",
   "metadata": {
    "pycharm": {}
   },
   "source": [
    "### C-1.26\n",
    "Write a short program that takes as input three integers, a, b, and c, from\n",
    "the console and determines if they can be used in a correct arithmetic\n",
    "formula (in the given order), like “a+b = c,” “a = b−c,” or “a ∗ b = c.”"
   ]
  },
  {
   "cell_type": "markdown",
   "metadata": {
    "pycharm": {
     "name": "#%% md\n"
    }
   },
   "source": [
    "#### Solution"
   ]
  },
  {
   "cell_type": "code",
   "execution_count": 14,
   "metadata": {
    "ExecuteTime": {
     "end_time": "2019-09-28T10:43:00.009926Z",
     "start_time": "2019-09-28T10:43:00.003939Z"
    },
    "pycharm": {
     "is_executing": false
    },
    "scrolled": false
   },
   "outputs": [
    {
     "name": "stdout",
     "output_type": "stream",
     "text": [
      "Is 1 + 2 = 3? True\n",
      "Is 1 = 2 - 3? False\n",
      "Is 1 = 2 * 3? False\n"
     ]
    }
   ],
   "source": [
    "# Do in terminal\n",
    "\n",
    "a, b, c = (int(i) for i in [1,2,3])\n",
    "print(\"Is {} + {} = {}?\".format(a, b, c), a + b == c)\n",
    "print(\"Is {} = {} - {}?\".format(a, b, c), a == b - c)\n",
    "print(\"Is {} = {} * {}?\".format(a, b, c), a == b * c)"
   ]
  },
  {
   "cell_type": "markdown",
   "metadata": {
    "pycharm": {}
   },
   "source": [
    "### C-1.27\n",
    "In Section 1.8, we provided three different implementations of a generator\n",
    "that computes factors of a given integer. The third of those implementations, from page 41, was the most efficient, but we noted that it did not\n",
    "yield the factors in increasing order. Modify the generator so that it reports\n",
    "factors in increasing order, while maintaining its general performance advantages."
   ]
  },
  {
   "cell_type": "markdown",
   "metadata": {
    "pycharm": {
     "name": "#%% md\n"
    }
   },
   "source": [
    "#### Solution"
   ]
  },
  {
   "cell_type": "code",
   "execution_count": 8,
   "metadata": {
    "ExecuteTime": {
     "end_time": "2019-09-28T10:55:12.417125Z",
     "start_time": "2019-09-28T10:55:12.411450Z"
    },
    "pycharm": {
     "is_executing": false
    },
    "scrolled": false
   },
   "outputs": [
    {
     "data": {
      "text/plain": [
       "[1, 2, 4, 5, 10, 20, 25, 50, 100]"
      ]
     },
     "execution_count": 8,
     "metadata": {},
     "output_type": "execute_result"
    }
   ],
   "source": [
    "def factors(n): \n",
    "    k=1\n",
    "    while k*k<n: \n",
    "        if n % k == 0:\n",
    "            yield k\n",
    "            yield n // k \n",
    "        k += 1\n",
    "\n",
    "    if k*k == n: \n",
    "        yield k\n",
    "\n",
    "# Only change is to add sorted to make it a sorted list\n",
    "sorted(factors(100))"
   ]
  },
  {
   "cell_type": "markdown",
   "metadata": {
    "pycharm": {}
   },
   "source": [
    "### C-1.28\n",
    "The **p-norm** of a vector $v = (v_1, v_2, \\cdots, v_n)$ in $n$-dimensional space is defined as\n",
    "$$\\lVert v \\rVert = \\sqrt[p]{v_1^p + v_2^p + \\cdots + v_n^p}$$.\n",
    "\n",
    "For the special case of $p = 2$, this results in the traditional **Euclidean\n",
    "norm**, which represents the length of the vector. For example, the Euclidean\n",
    "norm of a two-dimensional vector with coordinates $(4,3)$ has a\n",
    "Euclidean norm of $\\sqrt{4^2 + 3^2} = \\sqrt{16 + 9} = \\sqrt{25} = 5$. Give an implementation\n",
    "of a function named norm such that $norm(v, p)$ returns the $p$-norm\n",
    "value of $v$ and $norm(v)$ returns the Euclidean norm of $v$. You may assume\n",
    "that $v$ is a list of numbers."
   ]
  },
  {
   "cell_type": "markdown",
   "metadata": {
    "pycharm": {
     "name": "#%% md\n"
    }
   },
   "source": [
    "#### Solution"
   ]
  },
  {
   "cell_type": "code",
   "execution_count": 10,
   "metadata": {
    "collapsed": true,
    "pycharm": {
     "is_executing": false,
     "name": "#%%\n"
    }
   },
   "outputs": [],
   "source": [
    "def norm(v,p=2):\n",
    "    v = np.array(v)\n",
    "    power = v**p\n",
    "    return power.sum()**(1/p)"
   ]
  },
  {
   "cell_type": "code",
   "execution_count": 11,
   "metadata": {
    "pycharm": {
     "is_executing": false
    }
   },
   "outputs": [
    {
     "name": "stdout",
     "output_type": "stream",
     "text": [
      "norm(v,2): 5.0\n",
      "norm(v,3): 4.497941445275415\n"
     ]
    }
   ],
   "source": [
    "v = [4,3]\n",
    "print('norm(v,2):' , norm(v)) # Euclidean norm\n",
    "print('norm(v,3):' , norm(v, 3))"
   ]
  },
  {
   "cell_type": "markdown",
   "metadata": {},
   "source": [
    "## Exercises: Projects"
   ]
  },
  {
   "cell_type": "markdown",
   "metadata": {
    "pycharm": {}
   },
   "source": [
    "### P-1.29\n",
    "Write a Python program that outputs all possible strings formed by using\n",
    "the characters c , a , t , d , o , and g exactly once"
   ]
  },
  {
   "cell_type": "markdown",
   "metadata": {
    "pycharm": {
     "name": "#%% md\n"
    }
   },
   "source": [
    "#### Solution"
   ]
  },
  {
   "cell_type": "code",
   "execution_count": 10,
   "metadata": {
    "ExecuteTime": {
     "end_time": "2019-09-28T12:30:12.011762Z",
     "start_time": "2019-09-28T12:30:11.828547Z"
    },
    "pycharm": {
     "is_executing": false
    }
   },
   "outputs": [
    {
     "name": "stdout",
     "output_type": "stream",
     "text": [
      "\n",
      "c\n",
      "a\n",
      "t\n",
      "d\n",
      "o\n",
      "g\n",
      "ca\n",
      "ct\n",
      "cd\n",
      "co\n",
      "cg\n",
      "ac\n",
      "at\n",
      "ad\n",
      "ao\n",
      "ag\n",
      "tc\n",
      "ta\n",
      "td\n",
      "to\n",
      "tg\n",
      "dc\n",
      "da\n",
      "dt\n",
      "do\n",
      "dg\n",
      "oc\n",
      "oa\n",
      "ot\n",
      "od\n",
      "og\n",
      "gc\n",
      "ga\n",
      "gt\n",
      "gd\n",
      "go\n",
      "cat\n",
      "cad\n",
      "cao\n",
      "cag\n",
      "cta\n",
      "ctd\n",
      "cto\n",
      "ctg\n",
      "cda\n",
      "cdt\n",
      "cdo\n",
      "cdg\n",
      "coa\n",
      "cot\n",
      "cod\n",
      "cog\n",
      "cga\n",
      "cgt\n",
      "cgd\n",
      "cgo\n",
      "act\n",
      "acd\n",
      "aco\n",
      "acg\n",
      "atc\n",
      "atd\n",
      "ato\n",
      "atg\n",
      "adc\n",
      "adt\n",
      "ado\n",
      "adg\n",
      "aoc\n",
      "aot\n",
      "aod\n",
      "aog\n",
      "agc\n",
      "agt\n",
      "agd\n",
      "ago\n",
      "tca\n",
      "tcd\n",
      "tco\n",
      "tcg\n",
      "tac\n",
      "tad\n",
      "tao\n",
      "tag\n",
      "tdc\n",
      "tda\n",
      "tdo\n",
      "tdg\n",
      "toc\n",
      "toa\n",
      "tod\n",
      "tog\n",
      "tgc\n",
      "tga\n",
      "tgd\n",
      "tgo\n",
      "dca\n",
      "dct\n",
      "dco\n",
      "dcg\n",
      "dac\n",
      "dat\n",
      "dao\n",
      "dag\n",
      "dtc\n",
      "dta\n",
      "dto\n",
      "dtg\n",
      "doc\n",
      "doa\n",
      "dot\n",
      "dog\n",
      "dgc\n",
      "dga\n",
      "dgt\n",
      "dgo\n",
      "oca\n",
      "oct\n",
      "ocd\n",
      "ocg\n",
      "oac\n",
      "oat\n",
      "oad\n",
      "oag\n",
      "otc\n",
      "ota\n",
      "otd\n",
      "otg\n",
      "odc\n",
      "oda\n",
      "odt\n",
      "odg\n",
      "ogc\n",
      "oga\n",
      "ogt\n",
      "ogd\n",
      "gca\n",
      "gct\n",
      "gcd\n",
      "gco\n",
      "gac\n",
      "gat\n",
      "gad\n",
      "gao\n",
      "gtc\n",
      "gta\n",
      "gtd\n",
      "gto\n",
      "gdc\n",
      "gda\n",
      "gdt\n",
      "gdo\n",
      "goc\n",
      "goa\n",
      "got\n",
      "god\n",
      "catd\n",
      "cato\n",
      "catg\n",
      "cadt\n",
      "cado\n",
      "cadg\n",
      "caot\n",
      "caod\n",
      "caog\n",
      "cagt\n",
      "cagd\n",
      "cago\n",
      "ctad\n",
      "ctao\n",
      "ctag\n",
      "ctda\n",
      "ctdo\n",
      "ctdg\n",
      "ctoa\n",
      "ctod\n",
      "ctog\n",
      "ctga\n",
      "ctgd\n",
      "ctgo\n",
      "cdat\n",
      "cdao\n",
      "cdag\n",
      "cdta\n",
      "cdto\n",
      "cdtg\n",
      "cdoa\n",
      "cdot\n",
      "cdog\n",
      "cdga\n",
      "cdgt\n",
      "cdgo\n",
      "coat\n",
      "coad\n",
      "coag\n",
      "cota\n",
      "cotd\n",
      "cotg\n",
      "coda\n",
      "codt\n",
      "codg\n",
      "coga\n",
      "cogt\n",
      "cogd\n",
      "cgat\n",
      "cgad\n",
      "cgao\n",
      "cgta\n",
      "cgtd\n",
      "cgto\n",
      "cgda\n",
      "cgdt\n",
      "cgdo\n",
      "cgoa\n",
      "cgot\n",
      "cgod\n",
      "actd\n",
      "acto\n",
      "actg\n",
      "acdt\n",
      "acdo\n",
      "acdg\n",
      "acot\n",
      "acod\n",
      "acog\n",
      "acgt\n",
      "acgd\n",
      "acgo\n",
      "atcd\n",
      "atco\n",
      "atcg\n",
      "atdc\n",
      "atdo\n",
      "atdg\n",
      "atoc\n",
      "atod\n",
      "atog\n",
      "atgc\n",
      "atgd\n",
      "atgo\n",
      "adct\n",
      "adco\n",
      "adcg\n",
      "adtc\n",
      "adto\n",
      "adtg\n",
      "adoc\n",
      "adot\n",
      "adog\n",
      "adgc\n",
      "adgt\n",
      "adgo\n",
      "aoct\n",
      "aocd\n",
      "aocg\n",
      "aotc\n",
      "aotd\n",
      "aotg\n",
      "aodc\n",
      "aodt\n",
      "aodg\n",
      "aogc\n",
      "aogt\n",
      "aogd\n",
      "agct\n",
      "agcd\n",
      "agco\n",
      "agtc\n",
      "agtd\n",
      "agto\n",
      "agdc\n",
      "agdt\n",
      "agdo\n",
      "agoc\n",
      "agot\n",
      "agod\n",
      "tcad\n",
      "tcao\n",
      "tcag\n",
      "tcda\n",
      "tcdo\n",
      "tcdg\n",
      "tcoa\n",
      "tcod\n",
      "tcog\n",
      "tcga\n",
      "tcgd\n",
      "tcgo\n",
      "tacd\n",
      "taco\n",
      "tacg\n",
      "tadc\n",
      "tado\n",
      "tadg\n",
      "taoc\n",
      "taod\n",
      "taog\n",
      "tagc\n",
      "tagd\n",
      "tago\n",
      "tdca\n",
      "tdco\n",
      "tdcg\n",
      "tdac\n",
      "tdao\n",
      "tdag\n",
      "tdoc\n",
      "tdoa\n",
      "tdog\n",
      "tdgc\n",
      "tdga\n",
      "tdgo\n",
      "toca\n",
      "tocd\n",
      "tocg\n",
      "toac\n",
      "toad\n",
      "toag\n",
      "todc\n",
      "toda\n",
      "todg\n",
      "togc\n",
      "toga\n",
      "togd\n",
      "tgca\n",
      "tgcd\n",
      "tgco\n",
      "tgac\n",
      "tgad\n",
      "tgao\n",
      "tgdc\n",
      "tgda\n",
      "tgdo\n",
      "tgoc\n",
      "tgoa\n",
      "tgod\n",
      "dcat\n",
      "dcao\n",
      "dcag\n",
      "dcta\n",
      "dcto\n",
      "dctg\n",
      "dcoa\n",
      "dcot\n",
      "dcog\n",
      "dcga\n",
      "dcgt\n",
      "dcgo\n",
      "dact\n",
      "daco\n",
      "dacg\n",
      "datc\n",
      "dato\n",
      "datg\n",
      "daoc\n",
      "daot\n",
      "daog\n",
      "dagc\n",
      "dagt\n",
      "dago\n",
      "dtca\n",
      "dtco\n",
      "dtcg\n",
      "dtac\n",
      "dtao\n",
      "dtag\n",
      "dtoc\n",
      "dtoa\n",
      "dtog\n",
      "dtgc\n",
      "dtga\n",
      "dtgo\n",
      "doca\n",
      "doct\n",
      "docg\n",
      "doac\n",
      "doat\n",
      "doag\n",
      "dotc\n",
      "dota\n",
      "dotg\n",
      "dogc\n",
      "doga\n",
      "dogt\n",
      "dgca\n",
      "dgct\n",
      "dgco\n",
      "dgac\n",
      "dgat\n",
      "dgao\n",
      "dgtc\n",
      "dgta\n",
      "dgto\n",
      "dgoc\n",
      "dgoa\n",
      "dgot\n",
      "ocat\n",
      "ocad\n",
      "ocag\n",
      "octa\n",
      "octd\n",
      "octg\n",
      "ocda\n",
      "ocdt\n",
      "ocdg\n",
      "ocga\n",
      "ocgt\n",
      "ocgd\n",
      "oact\n",
      "oacd\n",
      "oacg\n",
      "oatc\n",
      "oatd\n",
      "oatg\n",
      "oadc\n",
      "oadt\n",
      "oadg\n",
      "oagc\n",
      "oagt\n",
      "oagd\n",
      "otca\n",
      "otcd\n",
      "otcg\n",
      "otac\n",
      "otad\n",
      "otag\n",
      "otdc\n",
      "otda\n",
      "otdg\n",
      "otgc\n",
      "otga\n",
      "otgd\n",
      "odca\n",
      "odct\n",
      "odcg\n",
      "odac\n",
      "odat\n",
      "odag\n",
      "odtc\n",
      "odta\n",
      "odtg\n",
      "odgc\n",
      "odga\n",
      "odgt\n",
      "ogca\n",
      "ogct\n",
      "ogcd\n",
      "ogac\n",
      "ogat\n",
      "ogad\n",
      "ogtc\n",
      "ogta\n",
      "ogtd\n",
      "ogdc\n",
      "ogda\n",
      "ogdt\n",
      "gcat\n",
      "gcad\n",
      "gcao\n",
      "gcta\n",
      "gctd\n",
      "gcto\n",
      "gcda\n",
      "gcdt\n",
      "gcdo\n",
      "gcoa\n",
      "gcot\n",
      "gcod\n",
      "gact\n",
      "gacd\n",
      "gaco\n",
      "gatc\n",
      "gatd\n",
      "gato\n",
      "gadc\n",
      "gadt\n",
      "gado\n",
      "gaoc\n",
      "gaot\n",
      "gaod\n",
      "gtca\n",
      "gtcd\n",
      "gtco\n",
      "gtac\n",
      "gtad\n",
      "gtao\n",
      "gtdc\n",
      "gtda\n",
      "gtdo\n",
      "gtoc\n",
      "gtoa\n",
      "gtod\n",
      "gdca\n",
      "gdct\n",
      "gdco\n",
      "gdac\n",
      "gdat\n",
      "gdao\n",
      "gdtc\n",
      "gdta\n",
      "gdto\n",
      "gdoc\n",
      "gdoa\n",
      "gdot\n",
      "goca\n",
      "goct\n",
      "gocd\n",
      "goac\n",
      "goat\n",
      "goad\n",
      "gotc\n",
      "gota\n",
      "gotd\n",
      "godc\n",
      "goda\n",
      "godt\n",
      "catdo\n",
      "catdg\n",
      "catod\n",
      "catog\n",
      "catgd\n",
      "catgo\n",
      "cadto\n",
      "cadtg\n",
      "cadot\n",
      "cadog\n",
      "cadgt\n",
      "cadgo\n",
      "caotd\n",
      "caotg\n",
      "caodt\n",
      "caodg\n",
      "caogt\n",
      "caogd\n",
      "cagtd\n",
      "cagto\n",
      "cagdt\n",
      "cagdo\n",
      "cagot\n",
      "cagod\n",
      "ctado\n",
      "ctadg\n",
      "ctaod\n",
      "ctaog\n",
      "ctagd\n",
      "ctago\n",
      "ctdao\n",
      "ctdag\n",
      "ctdoa\n",
      "ctdog\n",
      "ctdga\n",
      "ctdgo\n",
      "ctoad\n",
      "ctoag\n",
      "ctoda\n",
      "ctodg\n",
      "ctoga\n",
      "ctogd\n",
      "ctgad\n",
      "ctgao\n",
      "ctgda\n",
      "ctgdo\n",
      "ctgoa\n",
      "ctgod\n",
      "cdato\n",
      "cdatg\n",
      "cdaot\n",
      "cdaog\n",
      "cdagt\n",
      "cdago\n",
      "cdtao\n",
      "cdtag\n",
      "cdtoa\n",
      "cdtog\n",
      "cdtga\n",
      "cdtgo\n",
      "cdoat\n",
      "cdoag\n",
      "cdota\n",
      "cdotg\n",
      "cdoga\n",
      "cdogt\n",
      "cdgat\n",
      "cdgao\n",
      "cdgta\n",
      "cdgto\n",
      "cdgoa\n",
      "cdgot\n",
      "coatd\n",
      "coatg\n",
      "coadt\n",
      "coadg\n",
      "coagt\n",
      "coagd\n",
      "cotad\n",
      "cotag\n",
      "cotda\n",
      "cotdg\n",
      "cotga\n",
      "cotgd\n",
      "codat\n",
      "codag\n",
      "codta\n",
      "codtg\n",
      "codga\n",
      "codgt\n",
      "cogat\n",
      "cogad\n",
      "cogta\n",
      "cogtd\n",
      "cogda\n",
      "cogdt\n",
      "cgatd\n",
      "cgato\n",
      "cgadt\n",
      "cgado\n",
      "cgaot\n",
      "cgaod\n",
      "cgtad\n",
      "cgtao\n",
      "cgtda\n",
      "cgtdo\n",
      "cgtoa\n",
      "cgtod\n",
      "cgdat\n",
      "cgdao\n",
      "cgdta\n",
      "cgdto\n",
      "cgdoa\n",
      "cgdot\n",
      "cgoat\n",
      "cgoad\n",
      "cgota\n",
      "cgotd\n",
      "cgoda\n",
      "cgodt\n",
      "actdo\n",
      "actdg\n",
      "actod\n",
      "actog\n",
      "actgd\n",
      "actgo\n",
      "acdto\n",
      "acdtg\n",
      "acdot\n",
      "acdog\n",
      "acdgt\n",
      "acdgo\n",
      "acotd\n",
      "acotg\n",
      "acodt\n",
      "acodg\n",
      "acogt\n",
      "acogd\n",
      "acgtd\n",
      "acgto\n",
      "acgdt\n",
      "acgdo\n",
      "acgot\n",
      "acgod\n",
      "atcdo\n",
      "atcdg\n",
      "atcod\n",
      "atcog\n",
      "atcgd\n",
      "atcgo\n",
      "atdco\n",
      "atdcg\n",
      "atdoc\n",
      "atdog\n",
      "atdgc\n",
      "atdgo\n",
      "atocd\n",
      "atocg\n",
      "atodc\n",
      "atodg\n",
      "atogc\n",
      "atogd\n",
      "atgcd\n",
      "atgco\n",
      "atgdc\n",
      "atgdo\n",
      "atgoc\n",
      "atgod\n",
      "adcto\n",
      "adctg\n",
      "adcot\n",
      "adcog\n",
      "adcgt\n",
      "adcgo\n",
      "adtco\n",
      "adtcg\n",
      "adtoc\n",
      "adtog\n",
      "adtgc\n",
      "adtgo\n",
      "adoct\n",
      "adocg\n",
      "adotc\n",
      "adotg\n",
      "adogc\n",
      "adogt\n",
      "adgct\n",
      "adgco\n",
      "adgtc\n",
      "adgto\n",
      "adgoc\n",
      "adgot\n",
      "aoctd\n",
      "aoctg\n",
      "aocdt\n",
      "aocdg\n",
      "aocgt\n",
      "aocgd\n",
      "aotcd\n",
      "aotcg\n",
      "aotdc\n",
      "aotdg\n",
      "aotgc\n",
      "aotgd\n",
      "aodct\n",
      "aodcg\n",
      "aodtc\n",
      "aodtg\n",
      "aodgc\n",
      "aodgt\n",
      "aogct\n",
      "aogcd\n",
      "aogtc\n",
      "aogtd\n",
      "aogdc\n",
      "aogdt\n",
      "agctd\n",
      "agcto\n",
      "agcdt\n",
      "agcdo\n",
      "agcot\n",
      "agcod\n",
      "agtcd\n",
      "agtco\n",
      "agtdc\n",
      "agtdo\n",
      "agtoc\n",
      "agtod\n",
      "agdct\n",
      "agdco\n",
      "agdtc\n",
      "agdto\n",
      "agdoc\n",
      "agdot\n",
      "agoct\n",
      "agocd\n",
      "agotc\n",
      "agotd\n",
      "agodc\n",
      "agodt\n",
      "tcado\n",
      "tcadg\n",
      "tcaod\n",
      "tcaog\n",
      "tcagd\n",
      "tcago\n",
      "tcdao\n",
      "tcdag\n",
      "tcdoa\n",
      "tcdog\n",
      "tcdga\n",
      "tcdgo\n",
      "tcoad\n",
      "tcoag\n",
      "tcoda\n",
      "tcodg\n",
      "tcoga\n",
      "tcogd\n",
      "tcgad\n",
      "tcgao\n",
      "tcgda\n",
      "tcgdo\n",
      "tcgoa\n",
      "tcgod\n",
      "tacdo\n",
      "tacdg\n",
      "tacod\n",
      "tacog\n",
      "tacgd\n",
      "tacgo\n",
      "tadco\n",
      "tadcg\n",
      "tadoc\n",
      "tadog\n",
      "tadgc\n",
      "tadgo\n",
      "taocd\n",
      "taocg\n",
      "taodc\n",
      "taodg\n",
      "taogc\n",
      "taogd\n",
      "tagcd\n",
      "tagco\n",
      "tagdc\n",
      "tagdo\n",
      "tagoc\n",
      "tagod\n",
      "tdcao\n",
      "tdcag\n",
      "tdcoa\n",
      "tdcog\n",
      "tdcga\n",
      "tdcgo\n",
      "tdaco\n",
      "tdacg\n",
      "tdaoc\n",
      "tdaog\n",
      "tdagc\n",
      "tdago\n",
      "tdoca\n",
      "tdocg\n",
      "tdoac\n",
      "tdoag\n",
      "tdogc\n",
      "tdoga\n",
      "tdgca\n",
      "tdgco\n",
      "tdgac\n",
      "tdgao\n",
      "tdgoc\n",
      "tdgoa\n",
      "tocad\n",
      "tocag\n",
      "tocda\n",
      "tocdg\n",
      "tocga\n",
      "tocgd\n",
      "toacd\n",
      "toacg\n",
      "toadc\n",
      "toadg\n",
      "toagc\n",
      "toagd\n",
      "todca\n",
      "todcg\n",
      "todac\n",
      "todag\n",
      "todgc\n",
      "todga\n",
      "togca\n",
      "togcd\n",
      "togac\n",
      "togad\n",
      "togdc\n",
      "togda\n",
      "tgcad\n",
      "tgcao\n",
      "tgcda\n",
      "tgcdo\n",
      "tgcoa\n",
      "tgcod\n",
      "tgacd\n",
      "tgaco\n",
      "tgadc\n",
      "tgado\n",
      "tgaoc\n",
      "tgaod\n",
      "tgdca\n",
      "tgdco\n",
      "tgdac\n",
      "tgdao\n",
      "tgdoc\n",
      "tgdoa\n",
      "tgoca\n",
      "tgocd\n",
      "tgoac\n",
      "tgoad\n",
      "tgodc\n",
      "tgoda\n",
      "dcato\n",
      "dcatg\n",
      "dcaot\n",
      "dcaog\n",
      "dcagt\n",
      "dcago\n",
      "dctao\n",
      "dctag\n",
      "dctoa\n",
      "dctog\n",
      "dctga\n",
      "dctgo\n",
      "dcoat\n",
      "dcoag\n",
      "dcota\n",
      "dcotg\n",
      "dcoga\n",
      "dcogt\n",
      "dcgat\n",
      "dcgao\n",
      "dcgta\n",
      "dcgto\n",
      "dcgoa\n",
      "dcgot\n",
      "dacto\n",
      "dactg\n",
      "dacot\n",
      "dacog\n",
      "dacgt\n",
      "dacgo\n",
      "datco\n",
      "datcg\n",
      "datoc\n",
      "datog\n",
      "datgc\n",
      "datgo\n",
      "daoct\n",
      "daocg\n",
      "daotc\n",
      "daotg\n",
      "daogc\n",
      "daogt\n",
      "dagct\n",
      "dagco\n",
      "dagtc\n",
      "dagto\n",
      "dagoc\n",
      "dagot\n",
      "dtcao\n",
      "dtcag\n",
      "dtcoa\n",
      "dtcog\n",
      "dtcga\n",
      "dtcgo\n",
      "dtaco\n",
      "dtacg\n",
      "dtaoc\n",
      "dtaog\n",
      "dtagc\n",
      "dtago\n",
      "dtoca\n",
      "dtocg\n",
      "dtoac\n",
      "dtoag\n",
      "dtogc\n",
      "dtoga\n",
      "dtgca\n",
      "dtgco\n",
      "dtgac\n",
      "dtgao\n",
      "dtgoc\n",
      "dtgoa\n",
      "docat\n",
      "docag\n",
      "docta\n",
      "doctg\n",
      "docga\n",
      "docgt\n",
      "doact\n",
      "doacg\n",
      "doatc\n",
      "doatg\n",
      "doagc\n",
      "doagt\n",
      "dotca\n",
      "dotcg\n",
      "dotac\n",
      "dotag\n",
      "dotgc\n",
      "dotga\n",
      "dogca\n",
      "dogct\n",
      "dogac\n",
      "dogat\n",
      "dogtc\n",
      "dogta\n",
      "dgcat\n",
      "dgcao\n",
      "dgcta\n",
      "dgcto\n",
      "dgcoa\n",
      "dgcot\n",
      "dgact\n",
      "dgaco\n",
      "dgatc\n",
      "dgato\n",
      "dgaoc\n",
      "dgaot\n",
      "dgtca\n",
      "dgtco\n",
      "dgtac\n",
      "dgtao\n",
      "dgtoc\n",
      "dgtoa\n",
      "dgoca\n",
      "dgoct\n",
      "dgoac\n",
      "dgoat\n",
      "dgotc\n",
      "dgota\n",
      "ocatd\n",
      "ocatg\n",
      "ocadt\n",
      "ocadg\n",
      "ocagt\n",
      "ocagd\n",
      "octad\n",
      "octag\n",
      "octda\n",
      "octdg\n",
      "octga\n",
      "octgd\n",
      "ocdat\n",
      "ocdag\n",
      "ocdta\n",
      "ocdtg\n",
      "ocdga\n",
      "ocdgt\n",
      "ocgat\n",
      "ocgad\n",
      "ocgta\n",
      "ocgtd\n",
      "ocgda\n",
      "ocgdt\n",
      "oactd\n",
      "oactg\n",
      "oacdt\n",
      "oacdg\n",
      "oacgt\n",
      "oacgd\n",
      "oatcd\n",
      "oatcg\n",
      "oatdc\n",
      "oatdg\n",
      "oatgc\n",
      "oatgd\n",
      "oadct\n",
      "oadcg\n",
      "oadtc\n",
      "oadtg\n",
      "oadgc\n",
      "oadgt\n",
      "oagct\n",
      "oagcd\n",
      "oagtc\n",
      "oagtd\n",
      "oagdc\n",
      "oagdt\n",
      "otcad\n",
      "otcag\n",
      "otcda\n",
      "otcdg\n",
      "otcga\n",
      "otcgd\n",
      "otacd\n",
      "otacg\n",
      "otadc\n",
      "otadg\n",
      "otagc\n",
      "otagd\n",
      "otdca\n",
      "otdcg\n",
      "otdac\n",
      "otdag\n",
      "otdgc\n",
      "otdga\n",
      "otgca\n",
      "otgcd\n",
      "otgac\n",
      "otgad\n",
      "otgdc\n",
      "otgda\n",
      "odcat\n",
      "odcag\n",
      "odcta\n",
      "odctg\n",
      "odcga\n",
      "odcgt\n",
      "odact\n",
      "odacg\n",
      "odatc\n",
      "odatg\n",
      "odagc\n",
      "odagt\n",
      "odtca\n",
      "odtcg\n",
      "odtac\n",
      "odtag\n",
      "odtgc\n",
      "odtga\n",
      "odgca\n",
      "odgct\n",
      "odgac\n",
      "odgat\n",
      "odgtc\n",
      "odgta\n",
      "ogcat\n",
      "ogcad\n",
      "ogcta\n",
      "ogctd\n",
      "ogcda\n",
      "ogcdt\n",
      "ogact\n",
      "ogacd\n",
      "ogatc\n",
      "ogatd\n",
      "ogadc\n",
      "ogadt\n",
      "ogtca\n",
      "ogtcd\n",
      "ogtac\n",
      "ogtad\n",
      "ogtdc\n",
      "ogtda\n",
      "ogdca\n",
      "ogdct\n",
      "ogdac\n",
      "ogdat\n",
      "ogdtc\n",
      "ogdta\n",
      "gcatd\n",
      "gcato\n",
      "gcadt\n",
      "gcado\n",
      "gcaot\n",
      "gcaod\n",
      "gctad\n",
      "gctao\n",
      "gctda\n",
      "gctdo\n",
      "gctoa\n",
      "gctod\n",
      "gcdat\n",
      "gcdao\n",
      "gcdta\n",
      "gcdto\n",
      "gcdoa\n",
      "gcdot\n",
      "gcoat\n",
      "gcoad\n",
      "gcota\n",
      "gcotd\n",
      "gcoda\n",
      "gcodt\n",
      "gactd\n",
      "gacto\n",
      "gacdt\n",
      "gacdo\n",
      "gacot\n",
      "gacod\n",
      "gatcd\n",
      "gatco\n",
      "gatdc\n",
      "gatdo\n",
      "gatoc\n",
      "gatod\n",
      "gadct\n",
      "gadco\n",
      "gadtc\n",
      "gadto\n",
      "gadoc\n",
      "gadot\n",
      "gaoct\n",
      "gaocd\n",
      "gaotc\n",
      "gaotd\n",
      "gaodc\n",
      "gaodt\n",
      "gtcad\n",
      "gtcao\n",
      "gtcda\n",
      "gtcdo\n",
      "gtcoa\n",
      "gtcod\n",
      "gtacd\n",
      "gtaco\n",
      "gtadc\n",
      "gtado\n",
      "gtaoc\n",
      "gtaod\n",
      "gtdca\n",
      "gtdco\n",
      "gtdac\n",
      "gtdao\n",
      "gtdoc\n",
      "gtdoa\n",
      "gtoca\n",
      "gtocd\n",
      "gtoac\n",
      "gtoad\n",
      "gtodc\n",
      "gtoda\n",
      "gdcat\n",
      "gdcao\n",
      "gdcta\n",
      "gdcto\n",
      "gdcoa\n",
      "gdcot\n",
      "gdact\n",
      "gdaco\n",
      "gdatc\n",
      "gdato\n",
      "gdaoc\n",
      "gdaot\n",
      "gdtca\n",
      "gdtco\n",
      "gdtac\n",
      "gdtao\n",
      "gdtoc\n",
      "gdtoa\n",
      "gdoca\n",
      "gdoct\n",
      "gdoac\n",
      "gdoat\n",
      "gdotc\n",
      "gdota\n",
      "gocat\n",
      "gocad\n",
      "gocta\n",
      "goctd\n",
      "gocda\n",
      "gocdt\n",
      "goact\n",
      "goacd\n",
      "goatc\n",
      "goatd\n",
      "goadc\n",
      "goadt\n",
      "gotca\n",
      "gotcd\n",
      "gotac\n",
      "gotad\n",
      "gotdc\n",
      "gotda\n",
      "godca\n",
      "godct\n",
      "godac\n",
      "godat\n",
      "godtc\n",
      "godta\n",
      "catdog\n",
      "catdgo\n",
      "catodg\n",
      "catogd\n",
      "catgdo\n",
      "catgod\n",
      "cadtog\n",
      "cadtgo\n",
      "cadotg\n",
      "cadogt\n",
      "cadgto\n",
      "cadgot\n",
      "caotdg\n",
      "caotgd\n",
      "caodtg\n",
      "caodgt\n",
      "caogtd\n",
      "caogdt\n",
      "cagtdo\n",
      "cagtod\n",
      "cagdto\n",
      "cagdot\n",
      "cagotd\n",
      "cagodt\n",
      "ctadog\n",
      "ctadgo\n",
      "ctaodg\n",
      "ctaogd\n",
      "ctagdo\n",
      "ctagod\n",
      "ctdaog\n",
      "ctdago\n",
      "ctdoag\n",
      "ctdoga\n",
      "ctdgao\n",
      "ctdgoa\n",
      "ctoadg\n",
      "ctoagd\n",
      "ctodag\n",
      "ctodga\n",
      "ctogad\n",
      "ctogda\n",
      "ctgado\n",
      "ctgaod\n",
      "ctgdao\n",
      "ctgdoa\n",
      "ctgoad\n",
      "ctgoda\n",
      "cdatog\n",
      "cdatgo\n",
      "cdaotg\n",
      "cdaogt\n",
      "cdagto\n",
      "cdagot\n",
      "cdtaog\n",
      "cdtago\n",
      "cdtoag\n",
      "cdtoga\n",
      "cdtgao\n",
      "cdtgoa\n",
      "cdoatg\n",
      "cdoagt\n",
      "cdotag\n",
      "cdotga\n",
      "cdogat\n",
      "cdogta\n",
      "cdgato\n",
      "cdgaot\n",
      "cdgtao\n",
      "cdgtoa\n",
      "cdgoat\n",
      "cdgota\n",
      "coatdg\n",
      "coatgd\n",
      "coadtg\n",
      "coadgt\n",
      "coagtd\n",
      "coagdt\n",
      "cotadg\n",
      "cotagd\n",
      "cotdag\n",
      "cotdga\n",
      "cotgad\n",
      "cotgda\n",
      "codatg\n",
      "codagt\n",
      "codtag\n",
      "codtga\n",
      "codgat\n",
      "codgta\n",
      "cogatd\n",
      "cogadt\n",
      "cogtad\n",
      "cogtda\n",
      "cogdat\n",
      "cogdta\n",
      "cgatdo\n",
      "cgatod\n",
      "cgadto\n",
      "cgadot\n",
      "cgaotd\n",
      "cgaodt\n",
      "cgtado\n",
      "cgtaod\n",
      "cgtdao\n",
      "cgtdoa\n",
      "cgtoad\n",
      "cgtoda\n",
      "cgdato\n",
      "cgdaot\n",
      "cgdtao\n",
      "cgdtoa\n",
      "cgdoat\n",
      "cgdota\n",
      "cgoatd\n",
      "cgoadt\n",
      "cgotad\n",
      "cgotda\n",
      "cgodat\n",
      "cgodta\n",
      "actdog\n",
      "actdgo\n",
      "actodg\n",
      "actogd\n",
      "actgdo\n",
      "actgod\n",
      "acdtog\n",
      "acdtgo\n",
      "acdotg\n",
      "acdogt\n",
      "acdgto\n",
      "acdgot\n",
      "acotdg\n",
      "acotgd\n",
      "acodtg\n",
      "acodgt\n",
      "acogtd\n",
      "acogdt\n",
      "acgtdo\n",
      "acgtod\n",
      "acgdto\n",
      "acgdot\n",
      "acgotd\n",
      "acgodt\n",
      "atcdog\n",
      "atcdgo\n",
      "atcodg\n",
      "atcogd\n",
      "atcgdo\n",
      "atcgod\n",
      "atdcog\n",
      "atdcgo\n",
      "atdocg\n",
      "atdogc\n",
      "atdgco\n",
      "atdgoc\n",
      "atocdg\n",
      "atocgd\n",
      "atodcg\n",
      "atodgc\n",
      "atogcd\n",
      "atogdc\n",
      "atgcdo\n",
      "atgcod\n",
      "atgdco\n",
      "atgdoc\n",
      "atgocd\n",
      "atgodc\n",
      "adctog\n",
      "adctgo\n",
      "adcotg\n",
      "adcogt\n",
      "adcgto\n",
      "adcgot\n",
      "adtcog\n",
      "adtcgo\n",
      "adtocg\n",
      "adtogc\n",
      "adtgco\n",
      "adtgoc\n",
      "adoctg\n",
      "adocgt\n",
      "adotcg\n",
      "adotgc\n",
      "adogct\n",
      "adogtc\n",
      "adgcto\n",
      "adgcot\n",
      "adgtco\n",
      "adgtoc\n",
      "adgoct\n",
      "adgotc\n",
      "aoctdg\n",
      "aoctgd\n",
      "aocdtg\n",
      "aocdgt\n",
      "aocgtd\n",
      "aocgdt\n",
      "aotcdg\n",
      "aotcgd\n",
      "aotdcg\n",
      "aotdgc\n",
      "aotgcd\n",
      "aotgdc\n",
      "aodctg\n",
      "aodcgt\n",
      "aodtcg\n",
      "aodtgc\n",
      "aodgct\n",
      "aodgtc\n",
      "aogctd\n",
      "aogcdt\n",
      "aogtcd\n",
      "aogtdc\n",
      "aogdct\n",
      "aogdtc\n",
      "agctdo\n",
      "agctod\n",
      "agcdto\n",
      "agcdot\n",
      "agcotd\n",
      "agcodt\n",
      "agtcdo\n",
      "agtcod\n",
      "agtdco\n",
      "agtdoc\n",
      "agtocd\n",
      "agtodc\n",
      "agdcto\n",
      "agdcot\n",
      "agdtco\n",
      "agdtoc\n",
      "agdoct\n",
      "agdotc\n",
      "agoctd\n",
      "agocdt\n",
      "agotcd\n",
      "agotdc\n",
      "agodct\n",
      "agodtc\n",
      "tcadog\n",
      "tcadgo\n",
      "tcaodg\n",
      "tcaogd\n",
      "tcagdo\n",
      "tcagod\n",
      "tcdaog\n",
      "tcdago\n",
      "tcdoag\n",
      "tcdoga\n",
      "tcdgao\n",
      "tcdgoa\n",
      "tcoadg\n",
      "tcoagd\n",
      "tcodag\n",
      "tcodga\n",
      "tcogad\n",
      "tcogda\n",
      "tcgado\n",
      "tcgaod\n",
      "tcgdao\n",
      "tcgdoa\n",
      "tcgoad\n",
      "tcgoda\n",
      "tacdog\n",
      "tacdgo\n",
      "tacodg\n",
      "tacogd\n",
      "tacgdo\n",
      "tacgod\n",
      "tadcog\n",
      "tadcgo\n",
      "tadocg\n",
      "tadogc\n",
      "tadgco\n",
      "tadgoc\n",
      "taocdg\n",
      "taocgd\n",
      "taodcg\n",
      "taodgc\n",
      "taogcd\n",
      "taogdc\n",
      "tagcdo\n",
      "tagcod\n",
      "tagdco\n",
      "tagdoc\n",
      "tagocd\n",
      "tagodc\n",
      "tdcaog\n",
      "tdcago\n",
      "tdcoag\n",
      "tdcoga\n",
      "tdcgao\n",
      "tdcgoa\n",
      "tdacog\n",
      "tdacgo\n",
      "tdaocg\n",
      "tdaogc\n",
      "tdagco\n",
      "tdagoc\n",
      "tdocag\n",
      "tdocga\n",
      "tdoacg\n",
      "tdoagc\n",
      "tdogca\n",
      "tdogac\n",
      "tdgcao\n",
      "tdgcoa\n",
      "tdgaco\n",
      "tdgaoc\n",
      "tdgoca\n",
      "tdgoac\n",
      "tocadg\n",
      "tocagd\n",
      "tocdag\n",
      "tocdga\n",
      "tocgad\n",
      "tocgda\n",
      "toacdg\n",
      "toacgd\n",
      "toadcg\n",
      "toadgc\n",
      "toagcd\n",
      "toagdc\n",
      "todcag\n",
      "todcga\n",
      "todacg\n",
      "todagc\n",
      "todgca\n",
      "todgac\n",
      "togcad\n",
      "togcda\n",
      "togacd\n",
      "togadc\n",
      "togdca\n",
      "togdac\n",
      "tgcado\n",
      "tgcaod\n",
      "tgcdao\n",
      "tgcdoa\n",
      "tgcoad\n",
      "tgcoda\n",
      "tgacdo\n",
      "tgacod\n",
      "tgadco\n",
      "tgadoc\n",
      "tgaocd\n",
      "tgaodc\n",
      "tgdcao\n",
      "tgdcoa\n",
      "tgdaco\n",
      "tgdaoc\n",
      "tgdoca\n",
      "tgdoac\n",
      "tgocad\n",
      "tgocda\n",
      "tgoacd\n",
      "tgoadc\n",
      "tgodca\n",
      "tgodac\n",
      "dcatog\n",
      "dcatgo\n",
      "dcaotg\n",
      "dcaogt\n",
      "dcagto\n",
      "dcagot\n",
      "dctaog\n",
      "dctago\n",
      "dctoag\n",
      "dctoga\n",
      "dctgao\n",
      "dctgoa\n",
      "dcoatg\n",
      "dcoagt\n",
      "dcotag\n",
      "dcotga\n",
      "dcogat\n",
      "dcogta\n",
      "dcgato\n",
      "dcgaot\n",
      "dcgtao\n",
      "dcgtoa\n",
      "dcgoat\n",
      "dcgota\n",
      "dactog\n",
      "dactgo\n",
      "dacotg\n",
      "dacogt\n",
      "dacgto\n",
      "dacgot\n",
      "datcog\n",
      "datcgo\n",
      "datocg\n",
      "datogc\n",
      "datgco\n",
      "datgoc\n",
      "daoctg\n",
      "daocgt\n",
      "daotcg\n",
      "daotgc\n",
      "daogct\n",
      "daogtc\n",
      "dagcto\n",
      "dagcot\n",
      "dagtco\n",
      "dagtoc\n",
      "dagoct\n",
      "dagotc\n",
      "dtcaog\n",
      "dtcago\n",
      "dtcoag\n",
      "dtcoga\n",
      "dtcgao\n",
      "dtcgoa\n",
      "dtacog\n",
      "dtacgo\n",
      "dtaocg\n",
      "dtaogc\n",
      "dtagco\n",
      "dtagoc\n",
      "dtocag\n",
      "dtocga\n",
      "dtoacg\n",
      "dtoagc\n",
      "dtogca\n",
      "dtogac\n",
      "dtgcao\n",
      "dtgcoa\n",
      "dtgaco\n",
      "dtgaoc\n",
      "dtgoca\n",
      "dtgoac\n",
      "docatg\n",
      "docagt\n",
      "doctag\n",
      "doctga\n",
      "docgat\n",
      "docgta\n",
      "doactg\n",
      "doacgt\n",
      "doatcg\n",
      "doatgc\n",
      "doagct\n",
      "doagtc\n",
      "dotcag\n",
      "dotcga\n",
      "dotacg\n",
      "dotagc\n",
      "dotgca\n",
      "dotgac\n",
      "dogcat\n",
      "dogcta\n",
      "dogact\n",
      "dogatc\n",
      "dogtca\n",
      "dogtac\n",
      "dgcato\n",
      "dgcaot\n",
      "dgctao\n",
      "dgctoa\n",
      "dgcoat\n",
      "dgcota\n",
      "dgacto\n",
      "dgacot\n",
      "dgatco\n",
      "dgatoc\n",
      "dgaoct\n",
      "dgaotc\n",
      "dgtcao\n",
      "dgtcoa\n",
      "dgtaco\n",
      "dgtaoc\n",
      "dgtoca\n",
      "dgtoac\n",
      "dgocat\n",
      "dgocta\n",
      "dgoact\n",
      "dgoatc\n",
      "dgotca\n",
      "dgotac\n",
      "ocatdg\n",
      "ocatgd\n",
      "ocadtg\n",
      "ocadgt\n",
      "ocagtd\n",
      "ocagdt\n",
      "octadg\n",
      "octagd\n",
      "octdag\n",
      "octdga\n",
      "octgad\n",
      "octgda\n",
      "ocdatg\n",
      "ocdagt\n",
      "ocdtag\n",
      "ocdtga\n",
      "ocdgat\n",
      "ocdgta\n",
      "ocgatd\n",
      "ocgadt\n",
      "ocgtad\n",
      "ocgtda\n",
      "ocgdat\n",
      "ocgdta\n",
      "oactdg\n",
      "oactgd\n",
      "oacdtg\n",
      "oacdgt\n",
      "oacgtd\n",
      "oacgdt\n",
      "oatcdg\n",
      "oatcgd\n",
      "oatdcg\n",
      "oatdgc\n",
      "oatgcd\n",
      "oatgdc\n",
      "oadctg\n",
      "oadcgt\n",
      "oadtcg\n",
      "oadtgc\n",
      "oadgct\n",
      "oadgtc\n",
      "oagctd\n",
      "oagcdt\n",
      "oagtcd\n",
      "oagtdc\n",
      "oagdct\n",
      "oagdtc\n",
      "otcadg\n",
      "otcagd\n",
      "otcdag\n",
      "otcdga\n",
      "otcgad\n",
      "otcgda\n",
      "otacdg\n",
      "otacgd\n",
      "otadcg\n",
      "otadgc\n",
      "otagcd\n",
      "otagdc\n",
      "otdcag\n",
      "otdcga\n",
      "otdacg\n",
      "otdagc\n",
      "otdgca\n",
      "otdgac\n",
      "otgcad\n",
      "otgcda\n",
      "otgacd\n",
      "otgadc\n",
      "otgdca\n",
      "otgdac\n",
      "odcatg\n",
      "odcagt\n",
      "odctag\n",
      "odctga\n",
      "odcgat\n",
      "odcgta\n",
      "odactg\n",
      "odacgt\n",
      "odatcg\n",
      "odatgc\n",
      "odagct\n",
      "odagtc\n",
      "odtcag\n",
      "odtcga\n",
      "odtacg\n",
      "odtagc\n",
      "odtgca\n",
      "odtgac\n",
      "odgcat\n",
      "odgcta\n",
      "odgact\n",
      "odgatc\n",
      "odgtca\n",
      "odgtac\n",
      "ogcatd\n",
      "ogcadt\n",
      "ogctad\n",
      "ogctda\n",
      "ogcdat\n",
      "ogcdta\n",
      "ogactd\n",
      "ogacdt\n",
      "ogatcd\n",
      "ogatdc\n",
      "ogadct\n",
      "ogadtc\n",
      "ogtcad\n",
      "ogtcda\n",
      "ogtacd\n",
      "ogtadc\n",
      "ogtdca\n",
      "ogtdac\n",
      "ogdcat\n",
      "ogdcta\n",
      "ogdact\n",
      "ogdatc\n",
      "ogdtca\n",
      "ogdtac\n",
      "gcatdo\n",
      "gcatod\n",
      "gcadto\n",
      "gcadot\n",
      "gcaotd\n",
      "gcaodt\n",
      "gctado\n",
      "gctaod\n",
      "gctdao\n",
      "gctdoa\n",
      "gctoad\n",
      "gctoda\n",
      "gcdato\n",
      "gcdaot\n",
      "gcdtao\n",
      "gcdtoa\n",
      "gcdoat\n",
      "gcdota\n",
      "gcoatd\n",
      "gcoadt\n",
      "gcotad\n",
      "gcotda\n",
      "gcodat\n",
      "gcodta\n",
      "gactdo\n",
      "gactod\n",
      "gacdto\n",
      "gacdot\n",
      "gacotd\n",
      "gacodt\n",
      "gatcdo\n",
      "gatcod\n",
      "gatdco\n",
      "gatdoc\n",
      "gatocd\n",
      "gatodc\n",
      "gadcto\n",
      "gadcot\n",
      "gadtco\n",
      "gadtoc\n",
      "gadoct\n",
      "gadotc\n",
      "gaoctd\n",
      "gaocdt\n",
      "gaotcd\n",
      "gaotdc\n",
      "gaodct\n",
      "gaodtc\n",
      "gtcado\n",
      "gtcaod\n",
      "gtcdao\n",
      "gtcdoa\n",
      "gtcoad\n",
      "gtcoda\n",
      "gtacdo\n",
      "gtacod\n",
      "gtadco\n",
      "gtadoc\n",
      "gtaocd\n",
      "gtaodc\n",
      "gtdcao\n",
      "gtdcoa\n",
      "gtdaco\n",
      "gtdaoc\n",
      "gtdoca\n",
      "gtdoac\n",
      "gtocad\n",
      "gtocda\n",
      "gtoacd\n",
      "gtoadc\n",
      "gtodca\n",
      "gtodac\n",
      "gdcato\n",
      "gdcaot\n",
      "gdctao\n",
      "gdctoa\n",
      "gdcoat\n",
      "gdcota\n",
      "gdacto\n",
      "gdacot\n",
      "gdatco\n",
      "gdatoc\n",
      "gdaoct\n",
      "gdaotc\n",
      "gdtcao\n",
      "gdtcoa\n",
      "gdtaco\n",
      "gdtaoc\n",
      "gdtoca\n",
      "gdtoac\n",
      "gdocat\n",
      "gdocta\n",
      "gdoact\n",
      "gdoatc\n",
      "gdotca\n",
      "gdotac\n",
      "gocatd\n",
      "gocadt\n",
      "goctad\n",
      "goctda\n",
      "gocdat\n",
      "gocdta\n",
      "goactd\n",
      "goacdt\n",
      "goatcd\n",
      "goatdc\n",
      "goadct\n",
      "goadtc\n",
      "gotcad\n",
      "gotcda\n",
      "gotacd\n",
      "gotadc\n",
      "gotdca\n",
      "gotdac\n",
      "godcat\n",
      "godcta\n",
      "godact\n",
      "godatc\n",
      "godtca\n",
      "godtac\n"
     ]
    }
   ],
   "source": [
    "from itertools import permutations\n",
    "\n",
    "s = 'catdog'\n",
    "for i in range(len(s) + 1):\n",
    "    # Choosing length of that permuted string\n",
    "    for x in permutations(s, i):\n",
    "        print(''.join(x))\n",
    "        "
   ]
  },
  {
   "cell_type": "markdown",
   "metadata": {
    "pycharm": {}
   },
   "source": [
    "### P-1.30\n",
    "Write a Python program that can take a positive integer greater than 2 as\n",
    "input and write out the number of times one must repeatedly divide this\n",
    "number by 2 before getting a value less than 2."
   ]
  },
  {
   "cell_type": "markdown",
   "metadata": {
    "pycharm": {
     "name": "#%% md\n"
    }
   },
   "source": [
    "#### Solution"
   ]
  },
  {
   "cell_type": "code",
   "execution_count": 18,
   "metadata": {
    "ExecuteTime": {
     "end_time": "2019-09-28T12:34:14.840088Z",
     "start_time": "2019-09-28T12:34:13.116118Z"
    },
    "pycharm": {
     "is_executing": false
    }
   },
   "outputs": [
    {
     "name": "stdout",
     "output_type": "stream",
     "text": [
      "Your integer:5\n",
      "Need 2 times to divide\n"
     ]
    }
   ],
   "source": [
    "n = int(input(\"Your integer:\"))\n",
    "assert n > 2\n",
    "\n",
    "# Using log2 as base shows how many multiples of 2 are in that eqn\n",
    "print(\"Need {} times to divide\".format(int(math.floor(math.log2(n)))))"
   ]
  },
  {
   "cell_type": "markdown",
   "metadata": {
    "pycharm": {}
   },
   "source": [
    "### P-1.31\n",
    "Write a Python program that can “make change.” Your program should\n",
    "take two numbers as input, one that is a monetary amount charged and the\n",
    "other that is a monetary amount given. It should then return the number\n",
    "of each kind of bill and coin to give back as change for the difference\n",
    "between the amount given and the amount charged. The values assigned\n",
    "to the bills and coins can be based on the monetary system of any current\n",
    "or former government. Try to design your program so that it returns as\n",
    "few bills and coins as possible."
   ]
  },
  {
   "cell_type": "markdown",
   "metadata": {
    "pycharm": {
     "name": "#%% md\n"
    }
   },
   "source": [
    "#### Solution"
   ]
  },
  {
   "cell_type": "code",
   "execution_count": 23,
   "metadata": {
    "ExecuteTime": {
     "end_time": "2019-09-28T12:49:05.467706Z",
     "start_time": "2019-09-28T12:49:05.461721Z"
    },
    "pycharm": {
     "is_executing": false
    }
   },
   "outputs": [
    {
     "name": "stdout",
     "output_type": "stream",
     "text": [
      "{'$100': 0, '$50': 1, '$20': 2, '$10': 0, '$5': 0, '$1': 2, '$0.5': 0, '$0.1': 0}\n",
      "You need to give me $3 more!\n"
     ]
    }
   ],
   "source": [
    "def makeChange(charged, given):\n",
    "    money_type=(100,50,20,10,5,1,0.5,0.1)\n",
    "    if charged > given:\n",
    "        print('You need to give me ${} more!'.format(charged - given))\n",
    "        return\n",
    "    elif charged == given:\n",
    "        print('No change required.')\n",
    "        return\n",
    "    else:\n",
    "        result = {}\n",
    "        total = given - charged\n",
    "        for bill in money_type:\n",
    "            # Floor the total units of that bill, and repeat\n",
    "            num = total//bill\n",
    "            result['$' + str(bill)] = int(num)\n",
    "            total=total-num*bill\n",
    "    print(result)\n",
    "    \n",
    "    \n",
    "makeChange(8,100)\n",
    "makeChange(11,8)"
   ]
  },
  {
   "cell_type": "markdown",
   "metadata": {
    "pycharm": {}
   },
   "source": [
    "### P-1.32\n",
    "Write a Python program that can simulate a simple calculator, using the\n",
    "console as the exclusive input and output device. That is, each input to the\n",
    "calculator, be it a number, like 12.34 or 1034, or an operator, like + or =,\n",
    "can be done on a separate line. After each such input, you should output\n",
    "to the Python console what would be displayed on your calculator."
   ]
  },
  {
   "cell_type": "markdown",
   "metadata": {
    "pycharm": {
     "name": "#%% md\n"
    }
   },
   "source": [
    "#### Solution"
   ]
  },
  {
   "cell_type": "code",
   "execution_count": 29,
   "metadata": {
    "ExecuteTime": {
     "end_time": "2019-09-28T13:01:34.303928Z",
     "start_time": "2019-09-28T13:01:31.157228Z"
    },
    "pycharm": {
     "is_executing": false
    }
   },
   "outputs": [
    {
     "name": "stdout",
     "output_type": "stream",
     "text": [
      "Please choose:\n",
      "+: To add\n",
      "-: To subtract\n",
      "*: To multiply\n",
      "/: To divide\n",
      "/\n",
      "Whats the first number:1\n",
      "Whats the second number:0\n",
      "You can't divide by zero!\n"
     ]
    }
   ],
   "source": [
    "choice = input(\"Please choose:\\n+: To add\\n-: To subtract\\n*: To multiply\\n/: To divide\\n\")\n",
    "num1 = float(input(\"Whats the first number:\"))\n",
    "num2 = float(input(\"Whats the second number:\"))\n",
    "\n",
    "if choice is '+':\n",
    "    print(\"{}+{}={}\".format(num1,num2,num1+num2))\n",
    "elif choice is '-':\n",
    "    print(\"{}-{}={}\".format(num1,num2,num1-num2))\n",
    "elif choice is '*':\n",
    "    print(\"{}x{}={}\".format(num1,num2,num1*num2))\n",
    "elif choice is '/':\n",
    "    try:\n",
    "        print(\"{}/{}={}\".format(num1,num2,num1/num2))\n",
    "    except ZeroDivisionError: \n",
    "        print (\"You can't divide by zero!\")\n",
    "else:\n",
    "    print(\"Select your choice\")"
   ]
  },
  {
   "cell_type": "markdown",
   "metadata": {
    "pycharm": {}
   },
   "source": [
    "### P-1.33\n",
    "Write a Python program that simulates a handheld calculator. Your program should process input from the Python console representing buttons\n",
    "that are “pushed,” and then output the contents of the screen after each operation is performed. Minimally, your calculator should be able to process\n",
    "the basic arithmetic operations and a reset/clear operation."
   ]
  },
  {
   "cell_type": "markdown",
   "metadata": {
    "pycharm": {
     "name": "#%% md\n"
    }
   },
   "source": [
    "#### Solution"
   ]
  },
  {
   "cell_type": "code",
   "execution_count": 31,
   "metadata": {
    "ExecuteTime": {
     "end_time": "2019-09-28T13:06:02.760044Z",
     "start_time": "2019-09-28T13:06:02.756545Z"
    },
    "pycharm": {
     "is_executing": false
    }
   },
   "outputs": [],
   "source": [
    "# To do later"
   ]
  },
  {
   "cell_type": "markdown",
   "metadata": {
    "pycharm": {}
   },
   "source": [
    "### P-1.34\n",
    "A common punishment for school children is to write out a sentence multiple times. Write a Python stand-alone program that will write out the\n",
    "following sentence one hundred times: “I will never spam my friends\n",
    "again.” Your program should number each of the sentences and it should\n",
    "make eight different random-looking typos."
   ]
  },
  {
   "cell_type": "markdown",
   "metadata": {
    "pycharm": {
     "name": "#%% md\n"
    }
   },
   "source": [
    "#### Solution"
   ]
  },
  {
   "cell_type": "code",
   "execution_count": 46,
   "metadata": {
    "ExecuteTime": {
     "end_time": "2019-09-28T13:26:55.408722Z",
     "start_time": "2019-09-28T13:26:55.402418Z"
    },
    "pycharm": {
     "is_executing": false
    }
   },
   "outputs": [
    {
     "data": {
      "text/plain": [
       "['4. I willZnever spam my friends again.',\n",
       " '7. I will never spam myZfriends again.',\n",
       " '6. I will nevZr spam my friends again.',\n",
       " '0. I wilZ never spam my friends again.',\n",
       " '5. IZwill never spam my friends again.',\n",
       " '1. I will never Zpam my friends again.',\n",
       " '3. I will never spam my friendZ again.',\n",
       " '2. I wZll never spam my friends again.']"
      ]
     },
     "execution_count": 46,
     "metadata": {},
     "output_type": "execute_result"
    }
   ],
   "source": [
    "import random\n",
    "\n",
    "sentence = 'I will never spam my friends again.'\n",
    "typos = []\n",
    "\n",
    "\n",
    "for i in range(8):\n",
    "    num = random.randint(0,len(sentence))\n",
    "    typo = sentence[:num] + 'Z' + sentence[num+1:]\n",
    "    typos.append(str(i) + '. ' + typo)\n",
    "\n",
    "random.shuffle(typos)\n",
    "typos"
   ]
  },
  {
   "cell_type": "markdown",
   "metadata": {
    "pycharm": {}
   },
   "source": [
    "### P-1.35\n",
    "The **birthday paradox** says that the probability that two people in a room\n",
    "will have the same birthday is more than half, provided $n$, the number of\n",
    "people in the room, is more than 23. This property is not really a paradox,\n",
    "but many people find it surprising. Design a Python program that can test\n",
    "this paradox by a series of experiments on randomly generated birthdays,\n",
    "which test this paradox for $n = 5,10,15,20, . . . ,100$."
   ]
  },
  {
   "cell_type": "markdown",
   "metadata": {
    "pycharm": {
     "name": "#%% md\n"
    }
   },
   "source": [
    "#### Solution"
   ]
  },
  {
   "cell_type": "markdown",
   "metadata": {
    "pycharm": {}
   },
   "source": [
    "We can think the probability of having same birth day as: \n",
    "$p(\\text{same birthday}) = 1 - p(\\text{different birthday})$\n",
    "\n",
    "We will calculate the probability that all $n$ birthdays are different.\n",
    "\n",
    "Let's consider the case when $n = 3$:\n",
    "\n",
    "$$p = 1 \\cdot \\left(1 - \\frac{1}{365}\\right) \\cdot \\left(1- \\frac{2}{365}\\right)$$\n",
    "\n",
    "In case of $n = 4$:\n",
    "\n",
    "$$p = 1 \\cdot \\left(1 - \\frac{1}{365}\\right) \\cdot \\left(1- \\frac{2}{365}\\right) \\cdot \\left(1- \\frac{3}{365}\\right)$$\n",
    "\n",
    "Now, we can generalize the equation for the case of $n$ people:\n",
    "\n",
    "$\\begin{align}\n",
    "p &= 1 \\cdot \\left(1 - \\frac{1}{365}\\right) \\cdot \\left(1- \\frac{2}{365}\\right) \\cdot \\left(1- \\frac{3}{365}\\right) \\cdots \\left(1- \\frac{n-1}{365}\\right)\\\\\n",
    "&= \\frac{_{365}P_{n}}{365^n}\n",
    "\\end{align}\n",
    "$"
   ]
  },
  {
   "cell_type": "code",
   "execution_count": 12,
   "metadata": {
    "collapsed": true,
    "pycharm": {
     "is_executing": false
    }
   },
   "outputs": [],
   "source": [
    "def same_birth_prob(n):\n",
    "    return 1 - factorial(n) * comb(365, n) / (365**n)"
   ]
  },
  {
   "cell_type": "markdown",
   "metadata": {
    "pycharm": {}
   },
   "source": [
    "$n=10$:"
   ]
  },
  {
   "cell_type": "code",
   "execution_count": 13,
   "metadata": {
    "pycharm": {
     "is_executing": false
    }
   },
   "outputs": [
    {
     "data": {
      "text/plain": [
       "0.11694817771107746"
      ]
     },
     "execution_count": 13,
     "metadata": {},
     "output_type": "execute_result"
    }
   ],
   "source": [
    "same_birth_prob(10)"
   ]
  },
  {
   "cell_type": "markdown",
   "metadata": {
    "pycharm": {}
   },
   "source": [
    "$n = 20$:"
   ]
  },
  {
   "cell_type": "code",
   "execution_count": 14,
   "metadata": {
    "pycharm": {
     "is_executing": false
    }
   },
   "outputs": [
    {
     "data": {
      "text/plain": [
       "0.4114383835806472"
      ]
     },
     "execution_count": 14,
     "metadata": {},
     "output_type": "execute_result"
    }
   ],
   "source": [
    "same_birth_prob(20)"
   ]
  },
  {
   "cell_type": "markdown",
   "metadata": {
    "pycharm": {}
   },
   "source": [
    "$n = 23$:"
   ]
  },
  {
   "cell_type": "code",
   "execution_count": 15,
   "metadata": {
    "pycharm": {
     "is_executing": false
    }
   },
   "outputs": [
    {
     "data": {
      "text/plain": [
       "0.5072972343239677"
      ]
     },
     "execution_count": 15,
     "metadata": {},
     "output_type": "execute_result"
    }
   ],
   "source": [
    "same_birth_prob(23)"
   ]
  },
  {
   "cell_type": "markdown",
   "metadata": {
    "pycharm": {}
   },
   "source": [
    "Let's visualize the result of this."
   ]
  },
  {
   "cell_type": "code",
   "execution_count": 16,
   "metadata": {
    "collapsed": true,
    "pycharm": {
     "is_executing": false
    }
   },
   "outputs": [],
   "source": [
    "birth_prob = [same_birth_prob(i) for i in range(1,70)]"
   ]
  },
  {
   "cell_type": "code",
   "execution_count": 17,
   "metadata": {
    "pycharm": {
     "is_executing": false
    }
   },
   "outputs": [
    {
     "data": {
      "text/plain": [
       "[<matplotlib.lines.Line2D at 0x7fc6ca4a44e0>]"
      ]
     },
     "execution_count": 17,
     "metadata": {},
     "output_type": "execute_result"
    },
    {
     "data": {
      "image/png": "[encoded data removed]",
      "text/plain": [
       "<Figure size 432x288 with 1 Axes>"
      ]
     },
     "metadata": {
      "needs_background": "light"
     },
     "output_type": "display_data"
    }
   ],
   "source": [
    "plt.figure()\n",
    "plt.grid()\n",
    "plt.xlabel('Number of People')\n",
    "plt.ylabel('Probability of having same birthday')\n",
    "plt.title('Birthday Paradox')\n",
    "plt.plot(birth_prob)\n"
   ]
  },
  {
   "cell_type": "markdown",
   "metadata": {
    "pycharm": {}
   },
   "source": [
    "### P-1.36\n",
    "Write a Python program that inputs a list of words, separated by whitespace, and outputs how many times each word appears in the list. You\n",
    "need not worry about efficiency at this point, however, as this topic is\n",
    "something that will be addressed later in this book."
   ]
  },
  {
   "cell_type": "markdown",
   "metadata": {
    "pycharm": {
     "name": "#%% md\n"
    }
   },
   "source": [
    "#### Solution"
   ]
  },
  {
   "cell_type": "code",
   "execution_count": 48,
   "metadata": {
    "ExecuteTime": {
     "end_time": "2019-09-28T13:31:59.362320Z",
     "start_time": "2019-09-28T13:31:59.355758Z"
    },
    "pycharm": {
     "is_executing": false
    }
   },
   "outputs": [
    {
     "name": "stdout",
     "output_type": "stream",
     "text": [
      "{'hey': 5, 'I': 1, 'said': 1, \"what's\": 1, 'going': 1, 'on': 1}\n"
     ]
    }
   ],
   "source": [
    "def count(s):\n",
    "    word_count = {}\n",
    "    for word in s.split():\n",
    "        word_count[word] = 1 + word_count.get(word, 0)\n",
    "\n",
    "    print(word_count)\n",
    "\n",
    "count(\"hey hey hey hey I said hey what's going on\")"
   ]
  },
  {
   "cell_type": "code",
   "execution_count": null,
   "metadata": {},
   "outputs": [],
   "source": []
  }
 ],
 "metadata": {
  "kernelspec": {
   "display_name": "Python 3",
   "language": "python",
   "name": "python3"
  },
  "language_info": {
   "codemirror_mode": {
    "name": "ipython",
    "version": 3
   },
   "file_extension": ".py",
   "mimetype": "text/x-python",
   "name": "python",
   "nbconvert_exporter": "python",
   "pygments_lexer": "ipython3",
   "version": "3.6.7"
  },
  "toc": {
   "base_numbering": 1,
   "nav_menu": {},
   "number_sections": true,
   "sideBar": true,
   "skip_h1_title": false,
   "title_cell": "Table of Contents",
   "title_sidebar": "Contents",
   "toc_cell": false,
   "toc_position": {},
   "toc_section_display": true,
   "toc_window_display": false
  },
  "varInspector": {
   "cols": {
    "lenName": 16,
    "lenType": 16,
    "lenVar": 40
   },
   "kernels_config": {
    "python": {
     "delete_cmd_postfix": "",
     "delete_cmd_prefix": "del ",
     "library": "var_list.py",
     "varRefreshCmd": "print(var_dic_list())"
    },
    "r": {
     "delete_cmd_postfix": ") ",
     "delete_cmd_prefix": "rm(",
     "library": "var_list.r",
     "varRefreshCmd": "cat(var_dic_list()) "
    }
   },
   "types_to_exclude": [
    "module",
    "function",
    "builtin_function_or_method",
    "instance",
    "_Feature"
   ],
   "window_display": false
  }
 },
 "nbformat": 4,
 "nbformat_minor": 2
}
