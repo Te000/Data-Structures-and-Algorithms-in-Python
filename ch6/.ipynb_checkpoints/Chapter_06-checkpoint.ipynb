{
 "cells": [
  {
   "cell_type": "markdown",
   "metadata": {
    "collapsed": true
   },
   "source": [
    "# Chapter 06"
   ]
  },
  {
   "cell_type": "markdown",
   "metadata": {},
   "source": [
    "## Modules"
   ]
  },
  {
   "cell_type": "markdown",
   "metadata": {},
   "source": [
    "## Exercises"
   ]
  },
  {
   "cell_type": "markdown",
   "metadata": {},
   "source": [
    "### R-6.1\n",
    "\n",
    "What values are returned during the following series of stack operations, if executed upon an initially empty stack?\n",
    "\n",
    "```\n",
    "push(5), push(3), pop(), push(2), push(8), pop(), pop(), push(9), push(1), pop(), push(7), push(6), pop(), pop(), push(4), pop(), pop()\n",
    "```"
   ]
  },
  {
   "cell_type": "code",
   "execution_count": 1,
   "metadata": {
    "ExecuteTime": {
     "end_time": "2019-11-17T05:29:57.205258Z",
     "start_time": "2019-11-17T05:29:57.202117Z"
    }
   },
   "outputs": [],
   "source": [
    "class Empty(Exception):\n",
    "    pass"
   ]
  },
  {
   "cell_type": "code",
   "execution_count": 2,
   "metadata": {
    "ExecuteTime": {
     "end_time": "2019-11-17T05:29:57.824134Z",
     "start_time": "2019-11-17T05:29:57.816955Z"
    }
   },
   "outputs": [],
   "source": [
    "class ArrayStack:\n",
    "    \"\"\"LIFO Stack implementation using a Python list as underlying storage.\"\"\"\n",
    "    \n",
    "    def __init__(self):\n",
    "        self._data = []\n",
    "        \n",
    "    def __len__(self):\n",
    "        return len(self._data)\n",
    "    \n",
    "    def is_empty(self):\n",
    "        return len(self._data) == 0\n",
    "    \n",
    "    def push(self, e):\n",
    "        self._data.append(e)\n",
    "        \n",
    "    def peek(self):\n",
    "        if self.is_empty():\n",
    "            raise Empty('Stack is empty')\n",
    "        return self._data[-1]\n",
    "    \n",
    "    def pop(self):\n",
    "        if self.is_empty():\n",
    "            raise Empty('Stack is empty')\n",
    "        return self._data.pop()"
   ]
  },
  {
   "cell_type": "code",
   "execution_count": 3,
   "metadata": {
    "ExecuteTime": {
     "end_time": "2019-11-17T05:29:58.382257Z",
     "start_time": "2019-11-17T05:29:58.378779Z"
    }
   },
   "outputs": [],
   "source": [
    "x = ArrayStack()"
   ]
  },
  {
   "cell_type": "code",
   "execution_count": 4,
   "metadata": {
    "ExecuteTime": {
     "end_time": "2019-11-17T05:29:58.872580Z",
     "start_time": "2019-11-17T05:29:58.855233Z"
    }
   },
   "outputs": [
    {
     "data": {
      "text/plain": [
       "9"
      ]
     },
     "execution_count": 4,
     "metadata": {},
     "output_type": "execute_result"
    }
   ],
   "source": [
    "x.push(5)\n",
    "x.push(3)\n",
    "x.pop()\n",
    "x.push(2)\n",
    "x.push(8)\n",
    "x.pop()\n",
    "x.pop()\n",
    "x.push(9)\n",
    "x.push(1)\n",
    "x.pop()\n",
    "x.push(7)\n",
    "x.push(6)\n",
    "x.pop()\n",
    "x.pop()\n",
    "x.push(4)\n",
    "x.pop()\n",
    "x.pop()"
   ]
  },
  {
   "cell_type": "markdown",
   "metadata": {},
   "source": [
    "### R-6.2\n",
    "\n",
    "Suppose initially empty stack `S` has executed a total of 25 `push` operations, 12 `top` operations, and 10 `pop` operations, 3 of which raised `Empty` errors that were caught and ignored. What is the current size of `S`?"
   ]
  },
  {
   "cell_type": "markdown",
   "metadata": {},
   "source": [
    "The `top` does not affect the number of remaining elements in a stack. Following case is the one of the possible case when 3 errors occur from the given operations. "
   ]
  },
  {
   "cell_type": "code",
   "execution_count": 16,
   "metadata": {
    "ExecuteTime": {
     "end_time": "2019-11-17T05:40:31.369578Z",
     "start_time": "2019-11-17T05:40:31.362336Z"
    }
   },
   "outputs": [],
   "source": [
    "class ArrayStack:\n",
    "    \"\"\"LIFO Stack implementatino using a Python list as underlying storage.\"\"\"\n",
    "    \n",
    "    def __init__(self):\n",
    "        self._data = []\n",
    "        \n",
    "    def __len__(self):\n",
    "        return len(self._data)\n",
    "    \n",
    "    def is_empty(self):\n",
    "        return len(self._data) == 0\n",
    "    \n",
    "    def push(self, e):\n",
    "        self._data.append(e)\n",
    "        \n",
    "    def top(self):\n",
    "        if self.is_empty():\n",
    "            raise Exception('Stack is empty')\n",
    "        return self._data[-1]\n",
    "    \n",
    "    def pop(self):\n",
    "        if self.is_empty():\n",
    "            print(\"EMPTY WARNING\")\n",
    "            return\n",
    "            #raise Empty('Stack is empty')\n",
    "        return self._data.pop()"
   ]
  },
  {
   "cell_type": "code",
   "execution_count": 17,
   "metadata": {
    "ExecuteTime": {
     "end_time": "2019-11-17T05:40:31.702153Z",
     "start_time": "2019-11-17T05:40:31.698868Z"
    }
   },
   "outputs": [],
   "source": [
    "x = ArrayStack()"
   ]
  },
  {
   "cell_type": "code",
   "execution_count": 18,
   "metadata": {
    "ExecuteTime": {
     "end_time": "2019-11-17T05:40:32.025462Z",
     "start_time": "2019-11-17T05:40:32.019265Z"
    }
   },
   "outputs": [
    {
     "name": "stdout",
     "output_type": "stream",
     "text": [
      "EMPTY WARNING\n",
      "EMPTY WARNING\n",
      "EMPTY WARNING\n"
     ]
    }
   ],
   "source": [
    "for i in range(7):\n",
    "    x.push(i)\n",
    "for i in range(10):\n",
    "    x.pop()\n",
    "for i in range(18):\n",
    "    x.push(i)"
   ]
  },
  {
   "cell_type": "markdown",
   "metadata": {},
   "source": [
    "We can think 3 of 10 `pop` couldn't effectively pop elements because it was empty."
   ]
  },
  {
   "cell_type": "markdown",
   "metadata": {},
   "source": [
    "$$ 25 - (10 - 3) = 18$$"
   ]
  },
  {
   "cell_type": "markdown",
   "metadata": {},
   "source": [
    "### R-6.3\n",
    "\n",
    "Implement a function with signature `transfer(S, T)` that transfers all elements from stack `S` onto stack `T`, so that the element that starts at the top of `S` is the first to be inserted onto `T`, and the element at the bottom of `S` ends up at the top of `T`."
   ]
  },
  {
   "cell_type": "code",
   "execution_count": 8,
   "metadata": {},
   "outputs": [],
   "source": [
    "class ArrayStack:\n",
    "    \"\"\"LIFO Stack implementation using a Python list as underlying storage.\"\"\"\n",
    "    \n",
    "    def __init__(self):\n",
    "        self._data = []\n",
    "    \n",
    "    @property\n",
    "    def data(self):\n",
    "        return self._data\n",
    "    \n",
    "    def __len__(self):\n",
    "        return len(self._data)\n",
    "    \n",
    "    def is_empty(self):\n",
    "        return len(self._data) == 0\n",
    "    \n",
    "    def push(self, e):\n",
    "        self._data.append(e)\n",
    "        \n",
    "    def top(self):\n",
    "        if self.is_empty():\n",
    "            raise Empty('Stack is empty')\n",
    "        return self._data[-1]\n",
    "    \n",
    "    def pop(self):\n",
    "        if self.is_empty():\n",
    "            raise Empty('Stack is empty')\n",
    "        return self._data.pop()\n",
    "    \n",
    "    def transfer(self, S: ArrayStack) -> None:\n",
    "        stck_len = len(self._data)\n",
    "        [S.push(self.pop()) for _ in range(stck_len)] # for loop to move element into S from self\n",
    "    "
   ]
  },
  {
   "cell_type": "code",
   "execution_count": 9,
   "metadata": {},
   "outputs": [],
   "source": [
    "x = ArrayStack()\n",
    "for i in range(10):\n",
    "    x.push(i)"
   ]
  },
  {
   "cell_type": "code",
   "execution_count": 10,
   "metadata": {},
   "outputs": [
    {
     "data": {
      "text/plain": [
       "[0, 1, 2, 3, 4, 5, 6, 7, 8, 9]"
      ]
     },
     "execution_count": 10,
     "metadata": {},
     "output_type": "execute_result"
    }
   ],
   "source": [
    "x.data"
   ]
  },
  {
   "cell_type": "code",
   "execution_count": 11,
   "metadata": {},
   "outputs": [],
   "source": [
    "y = ArrayStack()"
   ]
  },
  {
   "cell_type": "code",
   "execution_count": 12,
   "metadata": {},
   "outputs": [],
   "source": [
    "x.transfer(y)"
   ]
  },
  {
   "cell_type": "code",
   "execution_count": 13,
   "metadata": {},
   "outputs": [
    {
     "data": {
      "text/plain": [
       "[9, 8, 7, 6, 5, 4, 3, 2, 1, 0]"
      ]
     },
     "execution_count": 13,
     "metadata": {},
     "output_type": "execute_result"
    }
   ],
   "source": [
    "y.data"
   ]
  },
  {
   "cell_type": "markdown",
   "metadata": {},
   "source": [
    "### R-6.4\n",
    "\n",
    "Give a recursive method for removing all the elements from a stack."
   ]
  },
  {
   "cell_type": "code",
   "execution_count": 14,
   "metadata": {},
   "outputs": [],
   "source": [
    "class ArrayStack:\n",
    "    \"\"\"LIFO Stack implementatino using a Python list as underlying storage.\"\"\"\n",
    "    \n",
    "    def __init__(self):\n",
    "        self._data = []\n",
    "    \n",
    "    @property\n",
    "    def data(self):\n",
    "        return self._data\n",
    "    \n",
    "    def __len__(self):\n",
    "        return len(self._data)\n",
    "    \n",
    "    def is_empty(self):\n",
    "        return len(self._data) == 0\n",
    "    \n",
    "    def push(self, e):\n",
    "        self._data.append(e)\n",
    "        \n",
    "    def top(self):\n",
    "        if self.is_empty():\n",
    "            raise Empty('Stack is empty')\n",
    "        return self._data[-1]\n",
    "    \n",
    "    def pop(self):\n",
    "        if self.is_empty():\n",
    "            raise Empty('Stack is empty')\n",
    "        return self._data.pop()\n",
    "    \n",
    "    def transfer(self, S: ArrayStack) -> None:\n",
    "        stck_len = len(self._data)\n",
    "        (S.push(self.pop()) for _ in range(stck_len))\n",
    "    \n",
    "    def pop_all(self): \n",
    "        if self.data: # if there's data\n",
    "            self.pop() # pop\n",
    "            return self.pop_all() # pop recursively until no data left"
   ]
  },
  {
   "cell_type": "code",
   "execution_count": 15,
   "metadata": {},
   "outputs": [],
   "source": [
    "x = ArrayStack()"
   ]
  },
  {
   "cell_type": "code",
   "execution_count": 16,
   "metadata": {},
   "outputs": [],
   "source": [
    "for i in range(10):\n",
    "    x.push(i)"
   ]
  },
  {
   "cell_type": "code",
   "execution_count": 17,
   "metadata": {},
   "outputs": [
    {
     "data": {
      "text/plain": [
       "[0, 1, 2, 3, 4, 5, 6, 7, 8, 9]"
      ]
     },
     "execution_count": 17,
     "metadata": {},
     "output_type": "execute_result"
    }
   ],
   "source": [
    "x.data"
   ]
  },
  {
   "cell_type": "code",
   "execution_count": 18,
   "metadata": {},
   "outputs": [],
   "source": [
    "x.pop_all()"
   ]
  },
  {
   "cell_type": "code",
   "execution_count": 19,
   "metadata": {
    "scrolled": true
   },
   "outputs": [
    {
     "data": {
      "text/plain": [
       "[]"
      ]
     },
     "execution_count": 19,
     "metadata": {},
     "output_type": "execute_result"
    }
   ],
   "source": [
    "x.data"
   ]
  },
  {
   "cell_type": "markdown",
   "metadata": {},
   "source": [
    "### R-6.5\n",
    "\n",
    "Implement a function that reverses a list of elements by pushing them on to\n",
    "a stack in one order, and writing them back to the list in reversed order.\n"
   ]
  },
  {
   "cell_type": "markdown",
   "metadata": {},
   "source": [
    "### R-6.6\n",
    "\n",
    "Give a precise and complete definition of the concept of matching for grouping symbols in an arithmetic expression. Your definition may be\n",
    "recursive.\n"
   ]
  },
  {
   "cell_type": "code",
   "execution_count": 22,
   "metadata": {
    "ExecuteTime": {
     "end_time": "2019-11-17T05:55:27.424045Z",
     "start_time": "2019-11-17T05:55:27.419134Z"
    }
   },
   "outputs": [],
   "source": [
    "'''\n",
    "This question is based on Code Fragment 6.4\n",
    "'''\n",
    "\n",
    "def is_matched(expr):\n",
    "    '''Return True if all delimiters are properly match; False otherwise.'''\n",
    "    lefty = '({[' # opening delimiters\n",
    "    righty = ')}]' # respective closing delims\n",
    "    S = ArrayStack() \n",
    "    for c in expr:\n",
    "        if c in lefty: \n",
    "            S.push(c) # push left delimiter on stack\n",
    "        elif c in righty:\n",
    "            if S.is_empty(): # nothing to match with\n",
    "                return False \n",
    "            if righty.index(c) != lefty.index(S.pop()): # mismatched\n",
    "                return False\n",
    "\n",
    "    return S.is_empty() # were all symbols matched?"
   ]
  },
  {
   "cell_type": "code",
   "execution_count": 24,
   "metadata": {
    "ExecuteTime": {
     "end_time": "2019-11-17T05:56:51.418636Z",
     "start_time": "2019-11-17T05:56:51.414463Z"
    }
   },
   "outputs": [
    {
     "name": "stdout",
     "output_type": "stream",
     "text": [
      "True\n",
      "False\n"
     ]
    }
   ],
   "source": [
    "exprs = ['({[]})', '[(])']\n",
    "for expr in exprs:\n",
    "    print(is_matched(expr))"
   ]
  },
  {
   "cell_type": "markdown",
   "metadata": {},
   "source": [
    "### R-6.7\n",
    "\n",
    "What values are returned during the following sequence of queue operations, if executed on an initially empty queue?\n",
    "\n",
    "```\n",
    "enqueue(5), enqueue(3), dequeue(), enqueue(2), enqueue(8), dequeue(), dequeue(), enqueue(9), enqueue(1), dequeue(), enqueue(7), enqueue(6), dequeue(), dequeue(), enqueue(4), dequeue(), dequeue()\n",
    "```"
   ]
  },
  {
   "cell_type": "code",
   "execution_count": 25,
   "metadata": {
    "ExecuteTime": {
     "end_time": "2019-11-17T06:04:00.670249Z",
     "start_time": "2019-11-17T06:04:00.657120Z"
    }
   },
   "outputs": [],
   "source": [
    "class ArrayQueue:\n",
    "    \n",
    "    DEFAULT_CAPACITY = 30\n",
    "    \n",
    "    def __init__(self):\n",
    "        self._data = [None] * ArrayQueue.DEFAULT_CAPACITY\n",
    "        self._size = 0\n",
    "        self._front = 0\n",
    "        \n",
    "    def __len__(self):\n",
    "        return self._size\n",
    "    \n",
    "    def is_empty(self):\n",
    "        return self._size == 0\n",
    "    \n",
    "    def first(self):\n",
    "        if self.is_empty():\n",
    "            raise Empty(\"Queue is empty\")\n",
    "        return self._data[self._front]\n",
    "    \n",
    "    def dequeue(self):\n",
    "        \n",
    "        if self.is_empty():\n",
    "            raise Empty(\"Queue is empty\")\n",
    "        answer = self._data[self._front]\n",
    "        self._data[self._front] = None\n",
    "        self._front = (self._front +1) % len(self._data)\n",
    "        self._size -= 1\n",
    "        \n",
    "        if 0 < self._size < len(self._data) // 4:\n",
    "            self._resize(len(self._data) // 2)\n",
    "        return answer\n",
    "    \n",
    "    def enqueue(self, e):\n",
    "        if self._size == len(self._data):\n",
    "            self._resize(2 * len(self._data))\n",
    "        avail = (self._front + self._size) % len(self._data)\n",
    "        self._data[avail] = e\n",
    "        self._size += 1\n",
    "    \n",
    "    def _resize(self, cap):\n",
    "        \n",
    "        old = self._data\n",
    "        self._data = [None] * cap\n",
    "        walk = self._front\n",
    "        for k in range(self._size):\n",
    "            self._data[k] = old[walk]\n",
    "            walk = (1 + walk) % len(old)\n",
    "        self._front = 0"
   ]
  },
  {
   "cell_type": "code",
   "execution_count": 21,
   "metadata": {},
   "outputs": [],
   "source": [
    "x = ArrayQueue()"
   ]
  },
  {
   "cell_type": "code",
   "execution_count": 22,
   "metadata": {},
   "outputs": [
    {
     "data": {
      "text/plain": [
       "6"
      ]
     },
     "execution_count": 22,
     "metadata": {},
     "output_type": "execute_result"
    }
   ],
   "source": [
    "x.enqueue(5)\n",
    "x.enqueue(3)\n",
    "x.dequeue()\n",
    "x.enqueue(2)\n",
    "x.enqueue(8)\n",
    "x.dequeue()\n",
    "x.dequeue()\n",
    "x.enqueue(9)\n",
    "x.enqueue(1)\n",
    "x.dequeue()\n",
    "x.enqueue(7)\n",
    "x.enqueue(6)\n",
    "x.dequeue()\n",
    "x.dequeue()\n",
    "x.enqueue(4)\n",
    "x.dequeue()\n",
    "x.dequeue()"
   ]
  },
  {
   "cell_type": "markdown",
   "metadata": {},
   "source": [
    "### R-6.8\n",
    "\n",
    "Suppose an initially empty queue `Q` has executed a total of 32 `enqueue` operations, 10 `first` operations, and 15 `dequeue` operations, 5 of which raised `Empty` errors that were caught and ignored. What is the current size of `Q`."
   ]
  },
  {
   "cell_type": "markdown",
   "metadata": {},
   "source": [
    "$$ 32 - (15 - 5) = 22 $$"
   ]
  },
  {
   "cell_type": "markdown",
   "metadata": {},
   "source": [
    "### R-6.9\n",
    "\n",
    "Had the queue of the previous problem been an instance of ArrayQueue that used an initial array of capacity 30, and had its size never been greater than 30, what would be the final value of the front instance variable?"
   ]
  },
  {
   "cell_type": "code",
   "execution_count": 32,
   "metadata": {
    "ExecuteTime": {
     "end_time": "2019-11-17T06:07:03.614378Z",
     "start_time": "2019-11-17T06:07:03.608230Z"
    }
   },
   "outputs": [
    {
     "data": {
      "text/plain": [
       "10"
      ]
     },
     "execution_count": 32,
     "metadata": {},
     "output_type": "execute_result"
    }
   ],
   "source": [
    "x = ArrayQueue()\n",
    "for i in range(32): # Stopped enqueueing at 30\n",
    "    x.enqueue(i)\n",
    "for i in range(10):\n",
    "    x.first()\n",
    "for i in range(10):\n",
    "    x.dequeue()\n",
    "\n",
    "x.first() # dequeued 10, so first will be 10"
   ]
  },
  {
   "cell_type": "markdown",
   "metadata": {},
   "source": [
    "### R-6.10\n",
    "\n",
    "Consider what happens if the loop in the ArrayQueue. resize method at lines 53–55 of Code Fragment 6.7 had been implemented as:\n",
    "for k in range(self. size):\n",
    "self. data[k] = old[k] # rather than old[walk]\n",
    "Give a clear explanation of what could go wrong."
   ]
  },
  {
   "cell_type": "code",
   "execution_count": 33,
   "metadata": {
    "ExecuteTime": {
     "end_time": "2019-11-17T06:20:45.368905Z",
     "start_time": "2019-11-17T06:20:45.363806Z"
    }
   },
   "outputs": [],
   "source": [
    "def resize(self, cap): # we assume cap >= len(self) \n",
    "    '''Resize to a new list of capacity >= len(self).'''\n",
    "    old = self._data\n",
    "    self._data = [None] * cap\n",
    "    walk = self._front # 1st element index of queue\n",
    "    \n",
    "    # LINES TO CHANGE\n",
    "    for k in range(self. size): \n",
    "        self._data[k] = old[walk] # if it was old[k], if k is not 1st element of queue, it'll have errors once size is exceeded\n",
    "        walk = (1 + walk) % len(old) \n",
    "        self._front = 0"
   ]
  },
  {
   "cell_type": "markdown",
   "metadata": {},
   "source": [
    "### R-6.11\n",
    "\n",
    "Give a simple adapter that implements our queue ADT while using a collections.deque instance for storage."
   ]
  },
  {
   "cell_type": "code",
   "execution_count": 35,
   "metadata": {
    "ExecuteTime": {
     "end_time": "2019-11-17T07:21:54.032245Z",
     "start_time": "2019-11-17T07:21:54.023504Z"
    }
   },
   "outputs": [
    {
     "name": "stdout",
     "output_type": "stream",
     "text": [
      "First 0 Length 10\n",
      "0, 1, 2, 3, 4, 5, 6, 7, 8, 9, "
     ]
    }
   ],
   "source": [
    "import collections\n",
    "\n",
    "class Queue():\n",
    "    def __init__(self):\n",
    "        self._data = collections.deque()\n",
    "        self._size = 0\n",
    "        \n",
    "    def __len__(self):\n",
    "        return self._size\n",
    "    \n",
    "    def first(self):\n",
    "        return self._data[0]\n",
    "        \n",
    "    def enqueue(self, value):\n",
    "        self._size += 1\n",
    "        self._data.append(value)  #Note we append here to add an element to the end of the queue\n",
    "        \n",
    "    def is_empty(self):\n",
    "        return self._size == 0\n",
    "    \n",
    "    def dequeue(self):\n",
    "        if self.is_empty():\n",
    "            raise ValueError('Queue is empty')\n",
    "        else:\n",
    "            ans = self._data.popleft() # can use popleft because its under deque obj\n",
    "            self._size -= 1\n",
    "            return ans\n",
    "        \n",
    "dq = Queue()\n",
    "\n",
    "for i in range(10):\n",
    "    dq.enqueue(i)\n",
    "\n",
    "print('First', dq.first(), 'Length', len(dq))\n",
    "while not dq.is_empty():\n",
    "    print( dq.dequeue(),  end = ', ')"
   ]
  },
  {
   "cell_type": "markdown",
   "metadata": {},
   "source": [
    "### R-6.12\n",
    "\n",
    "What values are returned during the following sequence of deque ADT operations, on initially empty deque? add first(4), add last(8), add last(9), add first(5), back(), delete first(), delete last(), add last(7), first(), last(), add last(6), delete first(), delete first()."
   ]
  },
  {
   "cell_type": "code",
   "execution_count": 38,
   "metadata": {
    "ExecuteTime": {
     "end_time": "2019-11-17T07:30:43.735304Z",
     "start_time": "2019-11-17T07:30:43.728347Z"
    }
   },
   "outputs": [
    {
     "data": {
      "text/plain": [
       "deque([8, 7])"
      ]
     },
     "execution_count": 38,
     "metadata": {},
     "output_type": "execute_result"
    }
   ],
   "source": [
    "x = collections.deque()\n",
    "x.appendleft(4) # deleted\n",
    "x.append(8)\n",
    "x.append(9) # deleted\n",
    "x.appendleft(5) # deleted\n",
    "x[-1]\n",
    "x.popleft()\n",
    "x.pop()\n",
    "x.append(7) \n",
    "x[0]\n",
    "x[-1]\n",
    "x.append(6) # deleted\n",
    "x.popleft()\n",
    "x.pop()\n",
    "x"
   ]
  },
  {
   "cell_type": "markdown",
   "metadata": {},
   "source": [
    "### R-6.13\n",
    "\n",
    "Suppose you have a deque D containing the numbers (1,2,3,4,5,6,7,8), in this order. Suppose further that you have an initially empty queue Q. Give a code fragment that uses only D and Q (and no other variables) and results in D storing the elements in the order (1,2,3,5,4,6,7,8)."
   ]
  },
  {
   "cell_type": "code",
   "execution_count": 39,
   "metadata": {
    "ExecuteTime": {
     "end_time": "2019-11-17T07:32:45.217747Z",
     "start_time": "2019-11-17T07:32:45.208058Z"
    }
   },
   "outputs": [
    {
     "name": "stdout",
     "output_type": "stream",
     "text": [
      "Values of Q:\n",
      "Values of D\n",
      "1\n",
      "2\n",
      "3\n",
      "5\n",
      "4\n",
      "6\n",
      "7\n",
      "8\n"
     ]
    }
   ],
   "source": [
    "\"\"\"\n",
    "D is a deque, which means that it can accept input at either end\n",
    "\n",
    "Q is a queue, which follows the FIFO approach\n",
    "\n",
    "Note, you can check whether each step is correct by commenting out the\n",
    "subsequent lines and checking against output at that point\n",
    "\n",
    "\"\"\"\n",
    "import collections\n",
    "\n",
    "#Setup\n",
    "D = collections.deque()\n",
    "Q = Queue()\n",
    "for i in range(1, 9, 1):\n",
    "    D.append(i)\n",
    "    \n",
    "    \n",
    "def rearrange_using_queue(D, Q):    \n",
    "    for i in range(5):             #   D          Q\n",
    "        Q.enqueue(D.popleft())     #[6,7,8], [1,2,3,4,5]\n",
    "        \n",
    "    for i in range(3):\n",
    "        D.append(Q.dequeue())      #[6,7,8,1,2,3], [4,5]\n",
    "        \n",
    "    \n",
    "    for i in range(2):\n",
    "        D.appendleft(Q.dequeue())  #[5,4,6,7,8,1,2,3], []\n",
    "        \n",
    "    for i in range(3):\n",
    "        Q.enqueue(D.pop())         #[5,4,6,7,8], [3,2,1]\n",
    "    \n",
    "    for i in range(3):\n",
    "        D.appendleft(Q.dequeue())  #[1,2,3,5,4,6,7,8]\n",
    "    \n",
    "    \n",
    "rearrange_using_queue(D, Q)\n",
    "\n",
    "print('Values of Q:')\n",
    "while not Q.is_empty():\n",
    "    print(Q.dequeue())\n",
    "    \n",
    "    \n",
    "print('Values of D')\n",
    "while len(D) != 0:\n",
    "    print(D.popleft())"
   ]
  },
  {
   "cell_type": "markdown",
   "metadata": {},
   "source": [
    "### R-6.14\n",
    "\n",
    "Repeat the previous problem using the deque D and an initially empty stack S."
   ]
  },
  {
   "cell_type": "code",
   "execution_count": 41,
   "metadata": {
    "ExecuteTime": {
     "end_time": "2019-11-17T07:34:14.475500Z",
     "start_time": "2019-11-17T07:34:14.467700Z"
    }
   },
   "outputs": [
    {
     "name": "stdout",
     "output_type": "stream",
     "text": [
      "Values of S\n",
      "Values of D:\n",
      "1\n",
      "2\n",
      "3\n",
      "5\n",
      "4\n",
      "6\n",
      "7\n",
      "8\n"
     ]
    }
   ],
   "source": [
    "#---------------R6-14----------------------\n",
    "import collections\n",
    "\n",
    "S = ArrayStack()\n",
    "D = collections.deque()\n",
    "\n",
    "for i in range(1,9,1):\n",
    "    D.append(i)\n",
    "\n",
    "def rearrange_using_stack(D, S):\n",
    "    for _ in range(4):\n",
    "        S.push(D.popleft())    # [5,6,7,8], [1,2,3,4]\n",
    "        \n",
    "    D.append(S.pop())          # [5,6,7,8,4], [1,2,3]\n",
    "    \n",
    "    S.push(D.popleft())        # [6,7,8,4], [1,2,3,5]\n",
    "    \n",
    "    S.push(D.pop())            # [6,7,8], [1,2,3,5,4]\n",
    "    \n",
    "    for _ in range(5):\n",
    "        D.appendleft(S.pop())  #[1,2,3,5,4,6,7,8], []\n",
    "        \n",
    "rearrange_using_stack(D, S) \n",
    "    \n",
    "print('Values of S')\n",
    "while not S.is_empty():\n",
    "    print(S.pop())\n",
    "    \n",
    "print('Values of D:')\n",
    "while len(D) != 0:\n",
    "    print(D.popleft())"
   ]
  },
  {
   "cell_type": "markdown",
   "metadata": {},
   "source": [
    "### C-6.15\n",
    "\n",
    "Suppose Alice has picked three distinct integers and placed them into a stack S in random order. Write a short, straight-line piece of pseudo-code (with no loops or recursion) that uses only one comparison and only one variable x, yet that results in variable x storing the largest of Alice’s three integers with probability 2/3. Argue why your method is correct."
   ]
  },
  {
   "cell_type": "code",
   "execution_count": null,
   "metadata": {},
   "outputs": [],
   "source": [
    "'''\n",
    "We have 1/3 chance at random if we pop from stack. Using 1 comparison, we can use pop and compare it to peek\n",
    "1) Pop top of stack into x\n",
    "2) Peek top of stack and compare it with x;\n",
    "2a) If x is larger, keep x. Else, swap x with top of stack.\n",
    "3) This gives us a 2/3 chance of having the largest number now, \n",
    "as we are sure x is bigger than at least 1 other number in the stack, \n",
    "leaving only the tail of stack uncompared\n",
    "\n",
    "'''"
   ]
  },
  {
   "cell_type": "markdown",
   "metadata": {},
   "source": [
    "### C-6.16\n",
    "\n",
    "Modify the ArrayStack implementation so that the stack’s capacity is limited to `maxlen` elements, where `maxlen` is an optional parameter to the constructor (that defaults to None). If `push` is called when the stack is at full capacity, throw a `Full` exception (defined similarly to Empty)."
   ]
  },
  {
   "cell_type": "code",
   "execution_count": 23,
   "metadata": {},
   "outputs": [],
   "source": [
    "# Stack\n",
    "\n",
    "class Empty(Exception):\n",
    "    \"\"\"Error attempting to access an element from an empty container.\"\"\"\n",
    "    pass\n",
    "\n",
    "class Full(Exception):\n",
    "    \"\"\"Error when stack is full\"\"\"\n",
    "    pass\n",
    "\n",
    "class ArrayStack:\n",
    "    \"\"\"LIFO Stack implementation using a Python list as underlying storage.\"\"\"\n",
    "\n",
    "    def __init__(self, maxlen=None):\n",
    "        \"\"\"Create an empty stack.\"\"\"\n",
    "        self._data = []\n",
    "        self._maxlen = maxlen\n",
    "\n",
    "    def __len__(self):\n",
    "        \"\"\"Return the number of elements in the stack\"\"\"\n",
    "        return len(self._data)\n",
    "\n",
    "    def is_empty(self):\n",
    "        \"\"\"Return True if the stack is empty.\"\"\"\n",
    "        return len(self._data) == 0\n",
    "\n",
    "    def push(self, e):\n",
    "        \"\"\"Add element e to the top of the stack.\"\"\"\n",
    "        \n",
    "        if self._maxlen is not None and (len(self._data) >= self._maxlen):\n",
    "            raise Full('Stack is full.')\n",
    "        self._data.append(e)\n",
    "\n",
    "    def top(self):\n",
    "        \"\"\"Return (but do not remove) the element at the top of the stack.\n",
    "\n",
    "        Raise Empty exception if the stack is empty.\n",
    "        \"\"\"\n",
    "\n",
    "        if self.is_empty():\n",
    "            raise Empty('Stack is empty')\n",
    "        return self._data[-1]\n",
    "\n",
    "    def pop(self):\n",
    "        \"\"\"Remove and return the element from the top of the stack (i.e.,LIFO)\n",
    "\n",
    "        Raise Empty exception if the stack is empty.\n",
    "        \"\"\"\n",
    "        if self.is_empty():\n",
    "            raise Empty('Stack is empty')\n",
    "        return self._data.pop()"
   ]
  },
  {
   "cell_type": "code",
   "execution_count": 24,
   "metadata": {},
   "outputs": [],
   "source": [
    "sample = ArrayStack(5)"
   ]
  },
  {
   "cell_type": "code",
   "execution_count": 25,
   "metadata": {},
   "outputs": [],
   "source": [
    "sample.push(2)\n",
    "sample.push(3)\n",
    "sample.push(4)\n",
    "sample.push(5)\n",
    "sample.push(6)"
   ]
  },
  {
   "cell_type": "code",
   "execution_count": 26,
   "metadata": {},
   "outputs": [
    {
     "ename": "Full",
     "evalue": "Stack is full.",
     "output_type": "error",
     "traceback": [
      "\u001b[0;31m---------------------------------------------------------------------------\u001b[0m",
      "\u001b[0;31mFull\u001b[0m                                      Traceback (most recent call last)",
      "\u001b[0;32m<ipython-input-26-183ca5c81fe5>\u001b[0m in \u001b[0;36m<module>\u001b[0;34m\u001b[0m\n\u001b[0;32m----> 1\u001b[0;31m \u001b[0msample\u001b[0m\u001b[0;34m.\u001b[0m\u001b[0mpush\u001b[0m\u001b[0;34m(\u001b[0m\u001b[0;36m7\u001b[0m\u001b[0;34m)\u001b[0m\u001b[0;34m\u001b[0m\u001b[0;34m\u001b[0m\u001b[0m\n\u001b[0m",
      "\u001b[0;32m<ipython-input-23-eb795a2ae578>\u001b[0m in \u001b[0;36mpush\u001b[0;34m(self, e)\u001b[0m\n\u001b[1;32m     29\u001b[0m \u001b[0;34m\u001b[0m\u001b[0m\n\u001b[1;32m     30\u001b[0m         \u001b[0;32mif\u001b[0m \u001b[0mself\u001b[0m\u001b[0;34m.\u001b[0m\u001b[0m_maxlen\u001b[0m \u001b[0;32mis\u001b[0m \u001b[0;32mnot\u001b[0m \u001b[0;32mNone\u001b[0m \u001b[0;32mand\u001b[0m \u001b[0;34m(\u001b[0m\u001b[0mlen\u001b[0m\u001b[0;34m(\u001b[0m\u001b[0mself\u001b[0m\u001b[0;34m.\u001b[0m\u001b[0m_data\u001b[0m\u001b[0;34m)\u001b[0m \u001b[0;34m>=\u001b[0m \u001b[0mself\u001b[0m\u001b[0;34m.\u001b[0m\u001b[0m_maxlen\u001b[0m\u001b[0;34m)\u001b[0m\u001b[0;34m:\u001b[0m\u001b[0;34m\u001b[0m\u001b[0;34m\u001b[0m\u001b[0m\n\u001b[0;32m---> 31\u001b[0;31m             \u001b[0;32mraise\u001b[0m \u001b[0mFull\u001b[0m\u001b[0;34m(\u001b[0m\u001b[0;34m'Stack is full.'\u001b[0m\u001b[0;34m)\u001b[0m\u001b[0;34m\u001b[0m\u001b[0;34m\u001b[0m\u001b[0m\n\u001b[0m\u001b[1;32m     32\u001b[0m         \u001b[0mself\u001b[0m\u001b[0;34m.\u001b[0m\u001b[0m_data\u001b[0m\u001b[0;34m.\u001b[0m\u001b[0mappend\u001b[0m\u001b[0;34m(\u001b[0m\u001b[0me\u001b[0m\u001b[0;34m)\u001b[0m\u001b[0;34m\u001b[0m\u001b[0;34m\u001b[0m\u001b[0m\n\u001b[1;32m     33\u001b[0m \u001b[0;34m\u001b[0m\u001b[0m\n",
      "\u001b[0;31mFull\u001b[0m: Stack is full."
     ]
    }
   ],
   "source": [
    "sample.push(7)"
   ]
  },
  {
   "cell_type": "code",
   "execution_count": 27,
   "metadata": {},
   "outputs": [],
   "source": [
    "sample_none = ArrayStack()"
   ]
  },
  {
   "cell_type": "code",
   "execution_count": 28,
   "metadata": {},
   "outputs": [],
   "source": [
    "sample_none.push(2)\n",
    "sample_none.push(3)\n",
    "sample_none.push(4)\n",
    "sample_none.push(5)\n",
    "sample_none.push(6)"
   ]
  },
  {
   "cell_type": "code",
   "execution_count": 29,
   "metadata": {},
   "outputs": [],
   "source": [
    "sample_none.push(7)"
   ]
  },
  {
   "cell_type": "markdown",
   "metadata": {},
   "source": [
    "### C-6.17\n",
    "\n",
    "In the previous exercise, we assume that the underlying list is initially empty. Redo that exercise, this time preallocating an underlying list with length equal to the stack's maximum capacity."
   ]
  },
  {
   "cell_type": "code",
   "execution_count": 36,
   "metadata": {},
   "outputs": [],
   "source": [
    "# Stack\n",
    "\n",
    "class Empty(Exception):\n",
    "    \"\"\"Error attempting to access an element from an empty container.\"\"\"\n",
    "    pass\n",
    "\n",
    "class Full(Exception):\n",
    "    \"\"\"Error when stack is full\"\"\"\n",
    "    pass\n",
    "\n",
    "class ArrayStack:\n",
    "    \"\"\"LIFO Stack implementation using a Python list as underlying storage.\"\"\"\n",
    "\n",
    "    def __init__(self, maxlen=None):\n",
    "        \"\"\"Create an empty stack.\"\"\"\n",
    "        self._data = [] if maxlen is None else [None] * maxlen\n",
    "        self._maxlen = maxlen\n",
    "\n",
    "    def __len__(self):\n",
    "        \"\"\"Return the number of elements in the stack\"\"\"\n",
    "        return len(self._data)\n",
    "\n",
    "    @property\n",
    "    def data(self):\n",
    "        return self._data\n",
    "    \n",
    "    def is_empty(self):\n",
    "        \"\"\"Return True if the stack is empty.\"\"\"\n",
    "        return len(self._data) == 0\n",
    "\n",
    "    def push(self, e):\n",
    "        \"\"\"Add element e to the top of the stack.\"\"\"\n",
    "        \n",
    "        if self._maxlen is not None and (len(self._data) >= self._maxlen):\n",
    "            raise Full('Stack is full.')\n",
    "        self._data.append(e)\n",
    "\n",
    "    def top(self):\n",
    "        \"\"\"Return (but do not remove) the element at the top of the stack.\n",
    "\n",
    "        Raise Empty exception if the stack is empty.\n",
    "        \"\"\"\n",
    "\n",
    "        if self.is_empty():\n",
    "            raise Empty('Stack is empty')\n",
    "        return self._data[-1]\n",
    "\n",
    "    def pop(self):\n",
    "        \"\"\"Remove and return the element from the top of the stack (i.e.,LIFO)\n",
    "\n",
    "        Raise Empty exception if the stack is empty.\n",
    "        \"\"\"\n",
    "        if self.is_empty():\n",
    "            raise Empty('Stack is empty')\n",
    "        return self._data.pop()"
   ]
  },
  {
   "cell_type": "code",
   "execution_count": 31,
   "metadata": {},
   "outputs": [],
   "source": [
    "x = ArrayStack()"
   ]
  },
  {
   "cell_type": "code",
   "execution_count": 32,
   "metadata": {},
   "outputs": [
    {
     "data": {
      "text/plain": [
       "[]"
      ]
     },
     "execution_count": 32,
     "metadata": {},
     "output_type": "execute_result"
    }
   ],
   "source": [
    "x._data"
   ]
  },
  {
   "cell_type": "code",
   "execution_count": 33,
   "metadata": {},
   "outputs": [
    {
     "data": {
      "text/plain": [
       "[None, None, None, None, None, None, None, None, None, None]"
      ]
     },
     "execution_count": 33,
     "metadata": {},
     "output_type": "execute_result"
    }
   ],
   "source": [
    "x = ArrayStack(10)\n",
    "x._data"
   ]
  },
  {
   "cell_type": "markdown",
   "metadata": {},
   "source": [
    "### C-6.18\n",
    "\n",
    "Show how to use the transfer function, described in Exercise R-6.3, and two temporary stacks, to replace the contents of a given stack S with those same elements, but in reversed order."
   ]
  },
  {
   "cell_type": "code",
   "execution_count": 42,
   "metadata": {
    "ExecuteTime": {
     "end_time": "2019-11-17T07:40:32.948488Z",
     "start_time": "2019-11-17T07:40:32.941414Z"
    }
   },
   "outputs": [],
   "source": [
    "class ArrayStack:\n",
    "    \"\"\"LIFO Stack implementation using a Python list as underlying storage.\"\"\"\n",
    "    \n",
    "    def __init__(self):\n",
    "        self._data = []\n",
    "    \n",
    "    @property\n",
    "    def data(self):\n",
    "        return self._data\n",
    "    \n",
    "    def __len__(self):\n",
    "        return len(self._data)\n",
    "    \n",
    "    def is_empty(self):\n",
    "        return len(self._data) == 0\n",
    "    \n",
    "    def push(self, e):\n",
    "        self._data.append(e)\n",
    "        \n",
    "    def top(self):\n",
    "        if self.is_empty():\n",
    "            raise Empty('Stack is empty')\n",
    "        return self._data[-1]\n",
    "    \n",
    "    def pop(self):\n",
    "        if self.is_empty():\n",
    "            raise Empty('Stack is empty')\n",
    "        return self._data.pop()\n",
    "    \n",
    "    def transfer(self, S: ArrayStack) -> None:\n",
    "        stck_len = len(self._data)\n",
    "        [S.push(self.pop()) for _ in range(stck_len)] # for loop to move element into S from self\n",
    "    "
   ]
  },
  {
   "cell_type": "code",
   "execution_count": 48,
   "metadata": {
    "ExecuteTime": {
     "end_time": "2019-11-17T07:43:34.126546Z",
     "start_time": "2019-11-17T07:43:34.119206Z"
    }
   },
   "outputs": [
    {
     "name": "stdout",
     "output_type": "stream",
     "text": [
      "[0, 1, 2, 3, 4, 5, 6, 7, 8, 9]\n"
     ]
    },
    {
     "data": {
      "text/plain": [
       "[9, 8, 7, 6, 5, 4, 3, 2, 1, 0]"
      ]
     },
     "execution_count": 48,
     "metadata": {},
     "output_type": "execute_result"
    }
   ],
   "source": [
    "'''\n",
    "Using S --> S1 (reversed) --> S2 --> S (reversed)\n",
    "'''\n",
    "\n",
    "x = ArrayStack() # Source and Target\n",
    "for i in range(10):\n",
    "    x.push(i)\n",
    "\n",
    "print(x.data)\n",
    "y = ArrayStack()\n",
    "z = ArrayStack()\n",
    "x.transfer(y) # S --> S1 (Reversed)\n",
    "y.transfer(z) # S1 --> S2 \n",
    "z.transfer(x) # S2 --> S (Reverse)\n",
    "x.data"
   ]
  },
  {
   "cell_type": "markdown",
   "metadata": {},
   "source": [
    "### C-6.19\n",
    "\n",
    "In Code Fragment 6.5 we assume that opening tags in HTML have form ```<name>```, as with ```<li>```. More generally, HTML allows optional attributes to be expressed as part of an opening tag. The general form used is ```<name attribute1=\"value1\" attribute2=\"value2\">;``` for example, a table can be given a border and additional padding by using an opening tag of ```<table border=\"3\" cellpadding=\"5\">```. Modify Code Fragment 6.5 so that it can properly match tags, even when an opening tag may include one or more such attributes."
   ]
  },
  {
   "cell_type": "code",
   "execution_count": 54,
   "metadata": {
    "ExecuteTime": {
     "end_time": "2019-11-17T07:59:07.969669Z",
     "start_time": "2019-11-17T07:59:07.956207Z"
    }
   },
   "outputs": [
    {
     "name": "stdout",
     "output_type": "stream",
     "text": [
      "body\n",
      "center\n",
      "h1\n",
      "/h1\n",
      "/center\n",
      "p\n",
      "/p\n",
      "ol\n",
      "li\n",
      "/li\n",
      "li\n",
      "/li\n",
      "li\n",
      "/li\n",
      "/ol\n",
      "/body\n"
     ]
    },
    {
     "data": {
      "text/plain": [
       "True"
      ]
     },
     "execution_count": 54,
     "metadata": {},
     "output_type": "execute_result"
    }
   ],
   "source": [
    "def is_matched_html(raw):\n",
    "    S = ArrayStack()   #Need Array Stack from C6-16\n",
    "    j = raw.find('<') # Find opening tag\n",
    "    while j != -1:   #j = -1 means that you didn't find one\n",
    "        k = raw.find('>', j+1)\n",
    "        if k == -1:\n",
    "            return False   #Your tag didn't close\n",
    "        \n",
    "        s = raw.find(' ', j+1) # index of tag name's last char\n",
    "        tag = raw[j+1: s if 0<=s<k else k] # from the next char after < until s\n",
    "        print (tag)\n",
    "        if not tag.startswith('/'): \n",
    "            S.push(tag) # leftie\n",
    "        else:\n",
    "            if S.is_empty():\n",
    "                return False #You closed a tag that has no opening\n",
    "            if tag[1:] != S.pop():  #You need to remove the forward slash from the tag\n",
    "                return False  \n",
    "        j = raw.find('<', k+1) # Find the next tag\n",
    "        \n",
    "    return True\n",
    "        \n",
    "\n",
    "html = \"\"\"\n",
    "<body>\n",
    "<center>\n",
    "<h1> The Little Boat </h1>\n",
    "</center attr = 'Test'>\n",
    "<p attribute1=\"value1\" attribute2=\"value2\"> The storm tossed the little\n",
    "boat like a cheap sneaker in an\n",
    "old washing machine. The three\n",
    "drunken fishermen were used to\n",
    "such treatment, of course, but\n",
    "not the tree salesman, who even as\n",
    "a stowaway now felt that he\n",
    "had overpaid for the voyage. </p>\n",
    "<ol>\n",
    "<li attribute1=\"value1\" attribute2=\"value2\"> Will the salesman die? </li>\n",
    "<li> What color is the boat? </li>\n",
    "<li> And what about Naomi? </li>\n",
    "</ol>\n",
    "</body>\n",
    "\"\"\"\n",
    "\n",
    "is_matched_html(html)"
   ]
  },
  {
   "cell_type": "markdown",
   "metadata": {},
   "source": [
    "### C-6.20\n",
    "\n",
    "Describe a nonrecursive algorithm for enumerating all permutations of the numbers {1,2,...,n} using an explicit stack."
   ]
  },
  {
   "cell_type": "code",
   "execution_count": 65,
   "metadata": {
    "ExecuteTime": {
     "end_time": "2019-11-17T08:16:37.806332Z",
     "start_time": "2019-11-17T08:16:37.781756Z"
    }
   },
   "outputs": [
    {
     "name": "stdout",
     "output_type": "stream",
     "text": [
      "[5, 4, 3, 2, 1]\n",
      "[5, 4, 3, 1, 2]\n",
      "[5, 4, 2, 3, 1]\n",
      "[5, 4, 2, 1, 3]\n",
      "[5, 4, 1, 3, 2]\n",
      "[5, 4, 1, 2, 3]\n",
      "[5, 3, 4, 2, 1]\n",
      "[5, 3, 4, 1, 2]\n",
      "[5, 3, 2, 4, 1]\n",
      "[5, 3, 2, 1, 4]\n",
      "[5, 3, 1, 4, 2]\n",
      "[5, 3, 1, 2, 4]\n",
      "[5, 2, 4, 3, 1]\n",
      "[5, 2, 4, 1, 3]\n",
      "[5, 2, 3, 4, 1]\n",
      "[5, 2, 3, 1, 4]\n",
      "[5, 2, 1, 4, 3]\n",
      "[5, 2, 1, 3, 4]\n",
      "[5, 1, 4, 3, 2]\n",
      "[5, 1, 4, 2, 3]\n",
      "[5, 1, 3, 4, 2]\n",
      "[5, 1, 3, 2, 4]\n",
      "[5, 1, 2, 4, 3]\n",
      "[5, 1, 2, 3, 4]\n",
      "[4, 5, 3, 2, 1]\n",
      "[4, 5, 3, 1, 2]\n",
      "[4, 5, 2, 3, 1]\n",
      "[4, 5, 2, 1, 3]\n",
      "[4, 5, 1, 3, 2]\n",
      "[4, 5, 1, 2, 3]\n",
      "[4, 3, 5, 2, 1]\n",
      "[4, 3, 5, 1, 2]\n",
      "[4, 3, 2, 5, 1]\n",
      "[4, 3, 2, 1, 5]\n",
      "[4, 3, 1, 5, 2]\n",
      "[4, 3, 1, 2, 5]\n",
      "[4, 2, 5, 3, 1]\n",
      "[4, 2, 5, 1, 3]\n",
      "[4, 2, 3, 5, 1]\n",
      "[4, 2, 3, 1, 5]\n",
      "[4, 2, 1, 5, 3]\n",
      "[4, 2, 1, 3, 5]\n",
      "[4, 1, 5, 3, 2]\n",
      "[4, 1, 5, 2, 3]\n",
      "[4, 1, 3, 5, 2]\n",
      "[4, 1, 3, 2, 5]\n",
      "[4, 1, 2, 5, 3]\n",
      "[4, 1, 2, 3, 5]\n",
      "[3, 5, 4, 2, 1]\n",
      "[3, 5, 4, 1, 2]\n",
      "[3, 5, 2, 4, 1]\n",
      "[3, 5, 2, 1, 4]\n",
      "[3, 5, 1, 4, 2]\n",
      "[3, 5, 1, 2, 4]\n",
      "[3, 4, 5, 2, 1]\n",
      "[3, 4, 5, 1, 2]\n",
      "[3, 4, 2, 5, 1]\n",
      "[3, 4, 2, 1, 5]\n",
      "[3, 4, 1, 5, 2]\n",
      "[3, 4, 1, 2, 5]\n",
      "[3, 2, 5, 4, 1]\n",
      "[3, 2, 5, 1, 4]\n",
      "[3, 2, 4, 5, 1]\n",
      "[3, 2, 4, 1, 5]\n",
      "[3, 2, 1, 5, 4]\n",
      "[3, 2, 1, 4, 5]\n",
      "[3, 1, 5, 4, 2]\n",
      "[3, 1, 5, 2, 4]\n",
      "[3, 1, 4, 5, 2]\n",
      "[3, 1, 4, 2, 5]\n",
      "[3, 1, 2, 5, 4]\n",
      "[3, 1, 2, 4, 5]\n",
      "[2, 5, 4, 3, 1]\n",
      "[2, 5, 4, 1, 3]\n",
      "[2, 5, 3, 4, 1]\n",
      "[2, 5, 3, 1, 4]\n",
      "[2, 5, 1, 4, 3]\n",
      "[2, 5, 1, 3, 4]\n",
      "[2, 4, 5, 3, 1]\n",
      "[2, 4, 5, 1, 3]\n",
      "[2, 4, 3, 5, 1]\n",
      "[2, 4, 3, 1, 5]\n",
      "[2, 4, 1, 5, 3]\n",
      "[2, 4, 1, 3, 5]\n",
      "[2, 3, 5, 4, 1]\n",
      "[2, 3, 5, 1, 4]\n",
      "[2, 3, 4, 5, 1]\n",
      "[2, 3, 4, 1, 5]\n",
      "[2, 3, 1, 5, 4]\n",
      "[2, 3, 1, 4, 5]\n",
      "[2, 1, 5, 4, 3]\n",
      "[2, 1, 5, 3, 4]\n",
      "[2, 1, 4, 5, 3]\n",
      "[2, 1, 4, 3, 5]\n",
      "[2, 1, 3, 5, 4]\n",
      "[2, 1, 3, 4, 5]\n",
      "[1, 5, 4, 3, 2]\n",
      "[1, 5, 4, 2, 3]\n",
      "[1, 5, 3, 4, 2]\n",
      "[1, 5, 3, 2, 4]\n",
      "[1, 5, 2, 4, 3]\n",
      "[1, 5, 2, 3, 4]\n",
      "[1, 4, 5, 3, 2]\n",
      "[1, 4, 5, 2, 3]\n",
      "[1, 4, 3, 5, 2]\n",
      "[1, 4, 3, 2, 5]\n",
      "[1, 4, 2, 5, 3]\n",
      "[1, 4, 2, 3, 5]\n",
      "[1, 3, 5, 4, 2]\n",
      "[1, 3, 5, 2, 4]\n",
      "[1, 3, 4, 5, 2]\n",
      "[1, 3, 4, 2, 5]\n",
      "[1, 3, 2, 5, 4]\n",
      "[1, 3, 2, 4, 5]\n",
      "[1, 2, 5, 4, 3]\n",
      "[1, 2, 5, 3, 4]\n",
      "[1, 2, 4, 5, 3]\n",
      "[1, 2, 4, 3, 5]\n",
      "[1, 2, 3, 5, 4]\n",
      "[1, 2, 3, 4, 5]\n"
     ]
    }
   ],
   "source": [
    "from itertools import permutations \n",
    "n = 5\n",
    "l = list(permutations(range(1, n+1))) \n",
    "l \n",
    "\n",
    "'''############################'''\n",
    "\n",
    "def find_permutations_stack(n):\n",
    "    nums = {x for x in range(1, n+1, 1)}\n",
    "    S = ArrayStack()  #Need Stack from R6-3\n",
    "\n",
    "    for num in nums:\n",
    "        S.push(([num], nums-set([num]))) # Push all from nums into tuples\n",
    "\n",
    "    while not S.is_empty():\n",
    "        l, remaining = S.pop()\n",
    "        \n",
    "        if len(remaining) == 0:\n",
    "            print (l)\n",
    "            pass\n",
    "        else:\n",
    "            for n in remaining:\n",
    "                l2 = l.copy()\n",
    "                l2.append(n)\n",
    "                S.push((l2, nums-set(l2)))            \n",
    "    \n",
    "find_permutations_stack(5)"
   ]
  },
  {
   "cell_type": "markdown",
   "metadata": {},
   "source": [
    "### C-6.21\n",
    "\n",
    "Show how to use a stack S and a queue Q to generate all possible subsets of an n-element set T nonrecursively."
   ]
  },
  {
   "cell_type": "code",
   "execution_count": null,
   "metadata": {},
   "outputs": [],
   "source": []
  },
  {
   "cell_type": "markdown",
   "metadata": {},
   "source": [
    "### C-6.22\n",
    "\n",
    "Postfix notation is an unambiguous way of writing an arithmetic expression without parentheses. It is defined so that if “(exp1)**op**(exp2)” is a normal, fully parenthesized expression whose operation is op, the postfix version of this is “pexp1 pexp2 **op**”, where pexp1 is the postfix version of exp1 and pexp2 is the postfix version of exp2. The postfix version of a single number or variable is just that number or variable. For example, the postfix version of “((5+2)∗(8−3))/4” is “5 2 + 8 3 − ∗ 4 /”. Describe a nonrecursive way of evaluating an expression in postfix notation."
   ]
  },
  {
   "cell_type": "markdown",
   "metadata": {},
   "source": [
    "### C-6.23\n",
    "\n",
    "Suppose you have three nonempty stacks $R$, $S$, and $T$. Describe a sequence of operations that results in $S$ storing all elements originally in $T$ below all of $S$'s original elements, with both sets of those elements in their original order. The final configuration for $R$ should be the smae as its original configuration. For example, if $R = [1, 2, 3]$, $S=[4,5]$, and $T=[6,7,8,9]$, the final configuration should have $R = [1,2,3]$ and $S=[6,7,8,9,4,5]$."
   ]
  },
  {
   "cell_type": "code",
   "execution_count": 50,
   "metadata": {
    "scrolled": false
   },
   "outputs": [
    {
     "data": {
      "text/plain": [
       "[1, 2, 3]"
      ]
     },
     "execution_count": 50,
     "metadata": {},
     "output_type": "execute_result"
    }
   ],
   "source": [
    "r = ArrayStack()\n",
    "r.push(1)\n",
    "r.push(2)\n",
    "r.push(3)\n",
    "r.data"
   ]
  },
  {
   "cell_type": "code",
   "execution_count": 51,
   "metadata": {},
   "outputs": [
    {
     "data": {
      "text/plain": [
       "[4, 5]"
      ]
     },
     "execution_count": 51,
     "metadata": {},
     "output_type": "execute_result"
    }
   ],
   "source": [
    "s = ArrayStack()\n",
    "s.push(4)\n",
    "s.push(5)\n",
    "s.data"
   ]
  },
  {
   "cell_type": "code",
   "execution_count": 52,
   "metadata": {},
   "outputs": [
    {
     "data": {
      "text/plain": [
       "[6, 7, 8, 9]"
      ]
     },
     "execution_count": 52,
     "metadata": {},
     "output_type": "execute_result"
    }
   ],
   "source": [
    "t = ArrayStack()\n",
    "t.push(6)\n",
    "t.push(7)\n",
    "t.push(8)\n",
    "t.push(9)\n",
    "t.data"
   ]
  },
  {
   "cell_type": "code",
   "execution_count": 53,
   "metadata": {},
   "outputs": [],
   "source": [
    "r.push(s.pop())\n",
    "t.push(s.pop())\n",
    "t.push(r.pop())"
   ]
  },
  {
   "cell_type": "code",
   "execution_count": 54,
   "metadata": {},
   "outputs": [
    {
     "data": {
      "text/plain": [
       "[1, 2, 3]"
      ]
     },
     "execution_count": 54,
     "metadata": {},
     "output_type": "execute_result"
    }
   ],
   "source": [
    "r.data"
   ]
  },
  {
   "cell_type": "code",
   "execution_count": 55,
   "metadata": {},
   "outputs": [
    {
     "data": {
      "text/plain": [
       "[]"
      ]
     },
     "execution_count": 55,
     "metadata": {},
     "output_type": "execute_result"
    }
   ],
   "source": [
    "s.data"
   ]
  },
  {
   "cell_type": "code",
   "execution_count": 56,
   "metadata": {},
   "outputs": [
    {
     "data": {
      "text/plain": [
       "[6, 7, 8, 9, 4, 5]"
      ]
     },
     "execution_count": 56,
     "metadata": {},
     "output_type": "execute_result"
    }
   ],
   "source": [
    "t.data"
   ]
  },
  {
   "cell_type": "markdown",
   "metadata": {},
   "source": [
    "### C-6.24\n",
    "\n",
    "Describe how to implement the stack ADT using a single queue as an instance variable, and only constant additional local memory within the method bodies. What is the running time of the push(), pop(), and top() methods for your design?"
   ]
  },
  {
   "cell_type": "markdown",
   "metadata": {},
   "source": [
    "### C-6.25\n",
    "\n",
    "Describe how to implement the queue ADT using two stacks as instance variables, such that all queue operations execute in amortized O(1) time. Give a formal proof of the amortized bound."
   ]
  },
  {
   "cell_type": "markdown",
   "metadata": {},
   "source": [
    "### C-6.26\n",
    "\n",
    "Describe how to implement the double-ended queue ADT using two stacks as instance variables. What are the running times of the methods?"
   ]
  },
  {
   "cell_type": "markdown",
   "metadata": {},
   "source": [
    "### C-6.27\n",
    "\n",
    "Suppose you have a stack S containing n elements and a queue Q that is initially empty. Describe how you can use Q to scan S to see if it contains a certain element x, with the additional constraint that your algorithm must return the elements back to S in their original order. You may only use S, Q, and a constant number of other variables."
   ]
  },
  {
   "cell_type": "markdown",
   "metadata": {},
   "source": [
    "### C-6.28\n",
    "\n",
    "Modify the ArrayQueue implementation so that the queue’s capacity is limited to maxlen elements, where maxlen is an optional parameter to the constructor (that defaults to None). If enqueue is called when the queue is at full capacity, throw a Full exception (defined similarly to Empty)."
   ]
  },
  {
   "cell_type": "markdown",
   "metadata": {},
   "source": [
    "### C-6.29\n",
    "\n",
    "In certain applications of the queue ADT, it is common to repeatedly dequeue an element, process it in some way, and then immediately en- queue the same element. Modify the ArrayQueue implementation to in- clude a rotate() method that has semantics identical to the combina- tion, Q.enqueue(Q.dequeue( )). However, your implementation should be more efficient than making two separate calls (for example, because there is no need to modify size)."
   ]
  },
  {
   "cell_type": "markdown",
   "metadata": {},
   "source": [
    "### C-6.30\n",
    "\n",
    "Alice has two queues, $Q$ and $R$, which can store integers, Bob gives Alice 50 odd integers and 50 even integers and insists that she store all 100 integers in $Q$ and $R$. They then paly a game where Bob picks $Q$ or $R$ at random and then applies the round-robin scheduler, described in the chapter, to the chosen queue a random number of times. If the last number  to be processed at the end of this game was odd, Bob wins. Otherwise Alice wins. How can Alice allocate integers to queues to optimize her change of winnning? What is her chance of winning?"
   ]
  },
  {
   "cell_type": "markdown",
   "metadata": {},
   "source": [
    "#### Answer"
   ]
  },
  {
   "cell_type": "markdown",
   "metadata": {},
   "source": [
    "For me, it is not very intuitive to guess the most probable case that Alice wins, but it is helpful to think two most extreme cases to infer the answer of this question."
   ]
  },
  {
   "cell_type": "markdown",
   "metadata": {},
   "source": [
    "##### Case 1: Distribute almost equally."
   ]
  },
  {
   "cell_type": "markdown",
   "metadata": {},
   "source": [
    "If two queues have equal number of even and odd integers, then probability of Alice can win will be:"
   ]
  },
  {
   "cell_type": "markdown",
   "metadata": {},
   "source": [
    "$$0.5 \\times \\left(\\frac{25}{50} + \\frac{25}{50}\\right) = 50(\\%) $$"
   ]
  },
  {
   "cell_type": "markdown",
   "metadata": {},
   "source": [
    "##### Case 2: Allocate an even number to a queue and others at the other queue."
   ]
  },
  {
   "cell_type": "markdown",
   "metadata": {},
   "source": [
    "This will lead the probablility that Alice wins to:\n",
    "\n",
    "$$0.5 \\times \\left(1 + \\frac{49}{99}\\right) \\approx 74.75(\\%)$$"
   ]
  },
  {
   "cell_type": "markdown",
   "metadata": {},
   "source": [
    "Looks good. Then How about allocating more than one even integers to a queue? Let's test with 25 even integers."
   ]
  },
  {
   "cell_type": "markdown",
   "metadata": {},
   "source": [
    "$$0.5 \\times \\left(1 + \\frac{25}{75}\\right) \\approx 66.67(\\%)$$"
   ]
  },
  {
   "cell_type": "markdown",
   "metadata": {},
   "source": [
    "You might notice that allocating more than one even integer just reduce the Alice's winning probability of the case that Bob chooses the queue which have both even and odd integers. Therefore, Alice should allocate an even integer to one queue."
   ]
  },
  {
   "cell_type": "markdown",
   "metadata": {},
   "source": [
    "### P-6.31\n",
    "\n",
    "Suppose Bob has four cows that he wants to take across a bridge, but only one yoke, which can hold up to two cows, side by side, tied to the yoke. The yoke is too heavy for him to carry across the bridge, but he can tie (and untie) cows to it in no time at all. Of his four cows, Mazie can cross the bridge in 2 minutes, Daisy can cross it in 4 minutes, Crazy can cross it in 10 minutes, and Lazy can cross it in 20 minutes. Of course, when two cows are tied to the yoke, they must go at the speed of the slower cow. Describe how Bob can get all his cows across the bridge in 34 minutes."
   ]
  },
  {
   "cell_type": "markdown",
   "metadata": {},
   "source": [
    "### P-6.32\n",
    "\n",
    "Give a complete ArrayDeque implementation of the double-ended queue ADT as sketched in Section 6.3.2."
   ]
  },
  {
   "cell_type": "markdown",
   "metadata": {},
   "source": [
    "### P-6.33\n",
    "\n",
    "Give an array-based implementation of a double-ended queue supporting all of the public behaviors shown in Table 6.4 for the collections.deque class, including use of the maxlen optional parameter. When a length- limited deque is full, provide semantics similar to the collections.deque class, whereby a call to insert an element on one end of a deque causes an element to be lost from the opposite side."
   ]
  },
  {
   "cell_type": "markdown",
   "metadata": {},
   "source": [
    "### P-6.34\n",
    "\n",
    "Implement a program that can input an expression in postfix notation (see Exercise C-6.22) and output its value."
   ]
  },
  {
   "cell_type": "markdown",
   "metadata": {},
   "source": [
    "### P-6.35\n",
    "\n",
    "The introduction of Section 6.1 notes that stacks are often used to provide “undo” support in applications like a Web browser or text editor. While support for undo can be implemented with an unbounded stack, many applications provide only limited support for such an undo history, with a fixed-capacity stack. When push is invoked with the stack at full capacity, rather than throwing a Full exception (as described in Exercise C-6.16), a more typical semantic is to accept the pushed element at the top while “leaking” the oldest element from the bottom of the stack to make room. Give an implementation of such a LeakyStack abstraction, using a circular array with appropriate storage capacity. This class should have a public interface similar to the bounded-capacity stack in Exercise C-6.16, but with the desired leaky semantics when full."
   ]
  },
  {
   "cell_type": "markdown",
   "metadata": {},
   "source": [
    "### P-6.36\n",
    "\n",
    "When a share of common stock of some company is sold, the capital gain (or, sometimes, loss) is the difference between the share’s selling price and the price originally paid to buy it. This rule is easy to understand for a single share, but if we sell multiple shares of stock bought over a long period of time, then we must identify the shares actually be- ing sold. A standard accounting principle for identifying which shares of a stock were sold in such a case is to use a FIFO protocol—the shares sold are the ones that have been held the longest (indeed, this is the default method built into several personal finance software packages). For example, suppose we buy 100 shares at ```$20``` each on day 1, 20 shares at ```$24``` on day 2, 200 shares at ```$36``` on day 3, and then sell 150 shares on day 4 at ```$30``` each. Then applying the FIFO protocol means that of the 150 shares sold, 100 were bought on day 1, 20 were bought on day 2, and 30 were bought on day 3. The capital gain in this case would therefore be 100·10+20·6+30·(−6), or ```$940```. Write a program that takes as input a sequence of transactions of the form “buy x share(s) at   y each” or “sell x share(s) at   y each,” assuming that the transactions occur on consecutive days and the values x and y are integers. Given this input sequence, the output should be the total capital gain (or loss) for the entire sequence, using the FIFO protocol to identify shares."
   ]
  },
  {
   "cell_type": "markdown",
   "metadata": {},
   "source": [
    "### P-6.37\n",
    "\n",
    "Design an ADT for a two-color, double-stack ADT that consists of two stacks—one “red” and one “blue”—and has as its operations color-coded versions of the regular stack ADT operations. For example, this ADT should support both a red push operation and a blue push operation. Give an efficient implementation of this ADT using a single array whose ca- pacity is set at some value N that is assumed to always be larger than the sizes of the red and blue stacks combined.\n"
   ]
  },
  {
   "cell_type": "markdown",
   "metadata": {},
   "source": []
  },
  {
   "cell_type": "markdown",
   "metadata": {},
   "source": []
  }
 ],
 "metadata": {
  "kernelspec": {
   "display_name": "Python 3",
   "language": "python",
   "name": "python3"
  },
  "language_info": {
   "codemirror_mode": {
    "name": "ipython",
    "version": 3
   },
   "file_extension": ".py",
   "mimetype": "text/x-python",
   "name": "python",
   "nbconvert_exporter": "python",
   "pygments_lexer": "ipython3",
   "version": "3.6.7"
  },
  "toc": {
   "base_numbering": 1,
   "nav_menu": {},
   "number_sections": true,
   "sideBar": true,
   "skip_h1_title": false,
   "title_cell": "Table of Contents",
   "title_sidebar": "Contents",
   "toc_cell": false,
   "toc_position": {
    "height": "calc(100% - 180px)",
    "left": "10px",
    "top": "150px",
    "width": "230.4px"
   },
   "toc_section_display": true,
   "toc_window_display": true
  },
  "varInspector": {
   "cols": {
    "lenName": 16,
    "lenType": 16,
    "lenVar": 40
   },
   "kernels_config": {
    "python": {
     "delete_cmd_postfix": "",
     "delete_cmd_prefix": "del ",
     "library": "var_list.py",
     "varRefreshCmd": "print(var_dic_list())"
    },
    "r": {
     "delete_cmd_postfix": ") ",
     "delete_cmd_prefix": "rm(",
     "library": "var_list.r",
     "varRefreshCmd": "cat(var_dic_list()) "
    }
   },
   "types_to_exclude": [
    "module",
    "function",
    "builtin_function_or_method",
    "instance",
    "_Feature"
   ],
   "window_display": false
  }
 },
 "nbformat": 4,
 "nbformat_minor": 1
}
